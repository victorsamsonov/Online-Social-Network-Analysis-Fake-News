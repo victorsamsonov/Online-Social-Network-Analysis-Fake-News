{
  "cells": [
    {
      "cell_type": "code",
      "source": [
        "!unzip glove.6B.zip -d my_data\n"
      ],
      "metadata": {
        "colab": {
          "base_uri": "https://localhost:8080/"
        },
        "id": "nwkn4PwyvreF",
        "outputId": "56e6ad36-2270-4029-f9d9-1766dbb09a5b"
      },
      "id": "nwkn4PwyvreF",
      "execution_count": null,
      "outputs": [
        {
          "output_type": "stream",
          "name": "stdout",
          "text": [
            "unzip:  cannot find or open glove.6B.zip, glove.6B.zip.zip or glove.6B.zip.ZIP.\n"
          ]
        }
      ]
    },
    {
      "cell_type": "code",
      "source": [
        "!pip install keras_preprocessing"
      ],
      "metadata": {
        "colab": {
          "base_uri": "https://localhost:8080/"
        },
        "id": "lsvdlcUEz-lo",
        "outputId": "01f6046c-2430-4884-c089-d41b6a39f189"
      },
      "id": "lsvdlcUEz-lo",
      "execution_count": 2,
      "outputs": [
        {
          "output_type": "stream",
          "name": "stdout",
          "text": [
            "Looking in indexes: https://pypi.org/simple, https://us-python.pkg.dev/colab-wheels/public/simple/\n",
            "Collecting keras_preprocessing\n",
            "  Downloading Keras_Preprocessing-1.1.2-py2.py3-none-any.whl (42 kB)\n",
            "\u001b[2K     \u001b[90m━━━━━━━━━━━━━━━━━━━━━━━━━━━━━━━━━━━━━━━━\u001b[0m \u001b[32m42.6/42.6 kB\u001b[0m \u001b[31m1.8 MB/s\u001b[0m eta \u001b[36m0:00:00\u001b[0m\n",
            "\u001b[?25hRequirement already satisfied: numpy>=1.9.1 in /usr/local/lib/python3.9/dist-packages (from keras_preprocessing) (1.22.4)\n",
            "Requirement already satisfied: six>=1.9.0 in /usr/local/lib/python3.9/dist-packages (from keras_preprocessing) (1.16.0)\n",
            "Installing collected packages: keras_preprocessing\n",
            "Successfully installed keras_preprocessing-1.1.2\n"
          ]
        }
      ]
    },
    {
      "cell_type": "code",
      "source": [
        "import tensorflow as tf\n",
        "import keras\n",
        "from keras.layers import Dense, Embedding, Input, Flatten, LSTM, Conv1D, concatenate, MaxPooling1D\n",
        "from keras.models import Sequential, Model\n",
        "from keras_preprocessing.sequence import pad_sequences\n",
        "from sklearn.metrics import accuracy_score"
      ],
      "metadata": {
        "id": "RgQLbkarzwJ6"
      },
      "id": "RgQLbkarzwJ6",
      "execution_count": 156,
      "outputs": []
    },
    {
      "cell_type": "code",
      "execution_count": 157,
      "id": "fc340a5e",
      "metadata": {
        "id": "fc340a5e"
      },
      "outputs": [],
      "source": [
        "import pandas as pd\n",
        "import numpy as np\n",
        "import matplotlib.pyplot as plt\n",
        "import seaborn as sns\n",
        "from sklearn.feature_extraction.text import CountVectorizer\n",
        "from sklearn.model_selection import train_test_split\n",
        "from sklearn.feature_extraction.text import TfidfTransformer\n",
        "from sklearn.naive_bayes import GaussianNB\n"
      ]
    },
    {
      "cell_type": "code",
      "source": [
        "max_len = 50\n",
        "embedding_dim = 100"
      ],
      "metadata": {
        "id": "FfJWT6a30NiO"
      },
      "id": "FfJWT6a30NiO",
      "execution_count": 158,
      "outputs": []
    },
    {
      "cell_type": "code",
      "execution_count": 159,
      "id": "a6ab5143",
      "metadata": {
        "id": "a6ab5143"
      },
      "outputs": [],
      "source": [
        "sns.set_theme(style=\"whitegrid\")\n",
        "df = pd.read_csv(\"train.csv\").sample(frac=1, random_state=42)\n",
        "test = pd.read_csv(\"test.csv\")"
      ]
    },
    {
      "cell_type": "code",
      "source": [
        "# val = pd.DataFrame()\n",
        "# for label_value in df['label'].unique():\n",
        "#     label_subset = df[df['label'] == label_value].head(1000)\n",
        "#     val = pd.concat([val, label_subset])\n"
      ],
      "metadata": {
        "id": "dROuAUjBw4K2"
      },
      "id": "dROuAUjBw4K2",
      "execution_count": 160,
      "outputs": []
    },
    {
      "cell_type": "code",
      "source": [
        "val = df.sample(n=20000, random_state=43)\n",
        "val, len(val)"
      ],
      "metadata": {
        "id": "XL5Ah8U5yJgz",
        "colab": {
          "base_uri": "https://localhost:8080/"
        },
        "outputId": "b352dbdd-2abf-40cb-f1bd-14d045407d7a"
      },
      "id": "XL5Ah8U5yJgz",
      "execution_count": 161,
      "outputs": [
        {
          "output_type": "execute_result",
          "data": {
            "text/plain": [
              "(            id    tid1    tid2  \\\n",
              " 40570    63189   27789   27799   \n",
              " 225266  155616  148058   51188   \n",
              " 17687   206693   11759  118785   \n",
              " 13783      514    9069    9086   \n",
              " 127289   43785   84803   84824   \n",
              " ...        ...     ...     ...   \n",
              " 113467  216908   75729   75740   \n",
              " 238386   12819  156316   49706   \n",
              " 82300   254392   55573  113891   \n",
              " 247598  211362  161505   24582   \n",
              " 124551   77680   82910   51018   \n",
              " \n",
              "                                                 title1_en  \\\n",
              " 40570   Legend has it that a \"negative-calorie diet\" c...   \n",
              " 225266  Your teeth are smelly and yellow, and don't co...   \n",
              " 17687                            Zhang Han's new romance?   \n",
              " 13783   The beginning of 2018, rural homestead new tre...   \n",
              " 127289  It turns out that Huojian's mother's attitude ...   \n",
              " ...                                                   ...   \n",
              " 113467  It's gone! It's rare and it's made of jade. It...   \n",
              " 238386  Instant fury ran into the ring, and Yang Jian-...   \n",
              " 82300   Remind! Two men in Yichun to fabricate rumor i...   \n",
              " 247598                  The police are telling the story.   \n",
              " 124551                   Nanking Suing Fans Hung Suicides   \n",
              " \n",
              "                                                 title2_en      label  \n",
              " 40570   Is it that \"negative calorie food\" that you ea...     agreed  \n",
              " 225266   Do you believe the six rumors of tooth cleaning?  unrelated  \n",
              " 17687   Once again, Zhang Han is in love with her, thi...  unrelated  \n",
              " 13783   The rural people over 55 years of age with dis...  unrelated  \n",
              " 127289  Huo Jianghua's mother's attitude towards Lin X...     agreed  \n",
              " ...                                                   ...        ...  \n",
              " 113467  Chen Guanxiang's photo of Yang and Yang, both ...  unrelated  \n",
              " 238386  Yang Jianping was challenged by contestants to...     agreed  \n",
              " 82300   \"Concerns\" qingyuan people bet money to jump o...  unrelated  \n",
              " 247598   \"Magic Soap\" is a drug for the police in Shawan.  unrelated  \n",
              " 124551  Police Radio Online: No Child Drowning Inciden...  unrelated  \n",
              " \n",
              " [20000 rows x 6 columns],\n",
              " 20000)"
            ]
          },
          "metadata": {},
          "execution_count": 161
        }
      ]
    },
    {
      "cell_type": "code",
      "source": [
        "val['label'].value_counts()"
      ],
      "metadata": {
        "colab": {
          "base_uri": "https://localhost:8080/"
        },
        "id": "DtRmz8vBc_kH",
        "outputId": "81e1c315-4df8-4e68-c75b-cb4713587d86"
      },
      "id": "DtRmz8vBc_kH",
      "execution_count": 162,
      "outputs": [
        {
          "output_type": "execute_result",
          "data": {
            "text/plain": [
              "unrelated    13686\n",
              "agreed        5770\n",
              "disagreed      544\n",
              "Name: label, dtype: int64"
            ]
          },
          "metadata": {},
          "execution_count": 162
        }
      ]
    },
    {
      "cell_type": "code",
      "source": [
        "val.head()"
      ],
      "metadata": {
        "colab": {
          "base_uri": "https://localhost:8080/",
          "height": 206
        },
        "id": "7HUJ528_y6jL",
        "outputId": "541fa29f-a06f-4503-f4be-739b12cb7988"
      },
      "id": "7HUJ528_y6jL",
      "execution_count": 163,
      "outputs": [
        {
          "output_type": "execute_result",
          "data": {
            "text/plain": [
              "            id    tid1    tid2  \\\n",
              "40570    63189   27789   27799   \n",
              "225266  155616  148058   51188   \n",
              "17687   206693   11759  118785   \n",
              "13783      514    9069    9086   \n",
              "127289   43785   84803   84824   \n",
              "\n",
              "                                                title1_en  \\\n",
              "40570   Legend has it that a \"negative-calorie diet\" c...   \n",
              "225266  Your teeth are smelly and yellow, and don't co...   \n",
              "17687                            Zhang Han's new romance?   \n",
              "13783   The beginning of 2018, rural homestead new tre...   \n",
              "127289  It turns out that Huojian's mother's attitude ...   \n",
              "\n",
              "                                                title2_en      label  \n",
              "40570   Is it that \"negative calorie food\" that you ea...     agreed  \n",
              "225266   Do you believe the six rumors of tooth cleaning?  unrelated  \n",
              "17687   Once again, Zhang Han is in love with her, thi...  unrelated  \n",
              "13783   The rural people over 55 years of age with dis...  unrelated  \n",
              "127289  Huo Jianghua's mother's attitude towards Lin X...     agreed  "
            ],
            "text/html": [
              "\n",
              "  <div id=\"df-1cc3ca9a-955e-4b5d-8ad8-250619a88b50\">\n",
              "    <div class=\"colab-df-container\">\n",
              "      <div>\n",
              "<style scoped>\n",
              "    .dataframe tbody tr th:only-of-type {\n",
              "        vertical-align: middle;\n",
              "    }\n",
              "\n",
              "    .dataframe tbody tr th {\n",
              "        vertical-align: top;\n",
              "    }\n",
              "\n",
              "    .dataframe thead th {\n",
              "        text-align: right;\n",
              "    }\n",
              "</style>\n",
              "<table border=\"1\" class=\"dataframe\">\n",
              "  <thead>\n",
              "    <tr style=\"text-align: right;\">\n",
              "      <th></th>\n",
              "      <th>id</th>\n",
              "      <th>tid1</th>\n",
              "      <th>tid2</th>\n",
              "      <th>title1_en</th>\n",
              "      <th>title2_en</th>\n",
              "      <th>label</th>\n",
              "    </tr>\n",
              "  </thead>\n",
              "  <tbody>\n",
              "    <tr>\n",
              "      <th>40570</th>\n",
              "      <td>63189</td>\n",
              "      <td>27789</td>\n",
              "      <td>27799</td>\n",
              "      <td>Legend has it that a \"negative-calorie diet\" c...</td>\n",
              "      <td>Is it that \"negative calorie food\" that you ea...</td>\n",
              "      <td>agreed</td>\n",
              "    </tr>\n",
              "    <tr>\n",
              "      <th>225266</th>\n",
              "      <td>155616</td>\n",
              "      <td>148058</td>\n",
              "      <td>51188</td>\n",
              "      <td>Your teeth are smelly and yellow, and don't co...</td>\n",
              "      <td>Do you believe the six rumors of tooth cleaning?</td>\n",
              "      <td>unrelated</td>\n",
              "    </tr>\n",
              "    <tr>\n",
              "      <th>17687</th>\n",
              "      <td>206693</td>\n",
              "      <td>11759</td>\n",
              "      <td>118785</td>\n",
              "      <td>Zhang Han's new romance?</td>\n",
              "      <td>Once again, Zhang Han is in love with her, thi...</td>\n",
              "      <td>unrelated</td>\n",
              "    </tr>\n",
              "    <tr>\n",
              "      <th>13783</th>\n",
              "      <td>514</td>\n",
              "      <td>9069</td>\n",
              "      <td>9086</td>\n",
              "      <td>The beginning of 2018, rural homestead new tre...</td>\n",
              "      <td>The rural people over 55 years of age with dis...</td>\n",
              "      <td>unrelated</td>\n",
              "    </tr>\n",
              "    <tr>\n",
              "      <th>127289</th>\n",
              "      <td>43785</td>\n",
              "      <td>84803</td>\n",
              "      <td>84824</td>\n",
              "      <td>It turns out that Huojian's mother's attitude ...</td>\n",
              "      <td>Huo Jianghua's mother's attitude towards Lin X...</td>\n",
              "      <td>agreed</td>\n",
              "    </tr>\n",
              "  </tbody>\n",
              "</table>\n",
              "</div>\n",
              "      <button class=\"colab-df-convert\" onclick=\"convertToInteractive('df-1cc3ca9a-955e-4b5d-8ad8-250619a88b50')\"\n",
              "              title=\"Convert this dataframe to an interactive table.\"\n",
              "              style=\"display:none;\">\n",
              "        \n",
              "  <svg xmlns=\"http://www.w3.org/2000/svg\" height=\"24px\"viewBox=\"0 0 24 24\"\n",
              "       width=\"24px\">\n",
              "    <path d=\"M0 0h24v24H0V0z\" fill=\"none\"/>\n",
              "    <path d=\"M18.56 5.44l.94 2.06.94-2.06 2.06-.94-2.06-.94-.94-2.06-.94 2.06-2.06.94zm-11 1L8.5 8.5l.94-2.06 2.06-.94-2.06-.94L8.5 2.5l-.94 2.06-2.06.94zm10 10l.94 2.06.94-2.06 2.06-.94-2.06-.94-.94-2.06-.94 2.06-2.06.94z\"/><path d=\"M17.41 7.96l-1.37-1.37c-.4-.4-.92-.59-1.43-.59-.52 0-1.04.2-1.43.59L10.3 9.45l-7.72 7.72c-.78.78-.78 2.05 0 2.83L4 21.41c.39.39.9.59 1.41.59.51 0 1.02-.2 1.41-.59l7.78-7.78 2.81-2.81c.8-.78.8-2.07 0-2.86zM5.41 20L4 18.59l7.72-7.72 1.47 1.35L5.41 20z\"/>\n",
              "  </svg>\n",
              "      </button>\n",
              "      \n",
              "  <style>\n",
              "    .colab-df-container {\n",
              "      display:flex;\n",
              "      flex-wrap:wrap;\n",
              "      gap: 12px;\n",
              "    }\n",
              "\n",
              "    .colab-df-convert {\n",
              "      background-color: #E8F0FE;\n",
              "      border: none;\n",
              "      border-radius: 50%;\n",
              "      cursor: pointer;\n",
              "      display: none;\n",
              "      fill: #1967D2;\n",
              "      height: 32px;\n",
              "      padding: 0 0 0 0;\n",
              "      width: 32px;\n",
              "    }\n",
              "\n",
              "    .colab-df-convert:hover {\n",
              "      background-color: #E2EBFA;\n",
              "      box-shadow: 0px 1px 2px rgba(60, 64, 67, 0.3), 0px 1px 3px 1px rgba(60, 64, 67, 0.15);\n",
              "      fill: #174EA6;\n",
              "    }\n",
              "\n",
              "    [theme=dark] .colab-df-convert {\n",
              "      background-color: #3B4455;\n",
              "      fill: #D2E3FC;\n",
              "    }\n",
              "\n",
              "    [theme=dark] .colab-df-convert:hover {\n",
              "      background-color: #434B5C;\n",
              "      box-shadow: 0px 1px 3px 1px rgba(0, 0, 0, 0.15);\n",
              "      filter: drop-shadow(0px 1px 2px rgba(0, 0, 0, 0.3));\n",
              "      fill: #FFFFFF;\n",
              "    }\n",
              "  </style>\n",
              "\n",
              "      <script>\n",
              "        const buttonEl =\n",
              "          document.querySelector('#df-1cc3ca9a-955e-4b5d-8ad8-250619a88b50 button.colab-df-convert');\n",
              "        buttonEl.style.display =\n",
              "          google.colab.kernel.accessAllowed ? 'block' : 'none';\n",
              "\n",
              "        async function convertToInteractive(key) {\n",
              "          const element = document.querySelector('#df-1cc3ca9a-955e-4b5d-8ad8-250619a88b50');\n",
              "          const dataTable =\n",
              "            await google.colab.kernel.invokeFunction('convertToInteractive',\n",
              "                                                     [key], {});\n",
              "          if (!dataTable) return;\n",
              "\n",
              "          const docLinkHtml = 'Like what you see? Visit the ' +\n",
              "            '<a target=\"_blank\" href=https://colab.research.google.com/notebooks/data_table.ipynb>data table notebook</a>'\n",
              "            + ' to learn more about interactive tables.';\n",
              "          element.innerHTML = '';\n",
              "          dataTable['output_type'] = 'display_data';\n",
              "          await google.colab.output.renderOutput(dataTable, element);\n",
              "          const docLink = document.createElement('div');\n",
              "          docLink.innerHTML = docLinkHtml;\n",
              "          element.appendChild(docLink);\n",
              "        }\n",
              "      </script>\n",
              "    </div>\n",
              "  </div>\n",
              "  "
            ]
          },
          "metadata": {},
          "execution_count": 163
        }
      ]
    },
    {
      "cell_type": "code",
      "source": [
        "df.drop(columns=['id', 'tid1', 'tid2'], inplace=True)"
      ],
      "metadata": {
        "id": "GQ3s-O6acAL-"
      },
      "id": "GQ3s-O6acAL-",
      "execution_count": 164,
      "outputs": []
    },
    {
      "cell_type": "code",
      "source": [
        "df.head()"
      ],
      "metadata": {
        "colab": {
          "base_uri": "https://localhost:8080/",
          "height": 206
        },
        "id": "xasPCbmHeNYp",
        "outputId": "2f12a5be-3923-41a0-b6ab-efe1357e17e4"
      },
      "id": "xasPCbmHeNYp",
      "execution_count": 165,
      "outputs": [
        {
          "output_type": "execute_result",
          "data": {
            "text/plain": [
              "                                                title1_en  \\\n",
              "104355              Homemade rat poison. One dead litter.   \n",
              "133170  By eating these five kinds of vegetables, you ...   \n",
              "221087  The Shenzhen Nailed Nailed Households Resume $...   \n",
              "135365  Wu Jing may face a compensation of 1 billion, ...   \n",
              "170183  Yin Xiangjie out of prison, invited Mandar to ...   \n",
              "\n",
              "                                                title2_en      label  \n",
              "104355  Homemade rat poison, one dead, one dead, all k...     agreed  \n",
              "133170  Zhang DaDa \"day\" upside down begging for growt...  unrelated  \n",
              "221087  Chengdu homebuyers can't buy a house with half...  unrelated  \n",
              "135365  With billions of dollars in compensation, Wuji...     agreed  \n",
              "170183  is xu qing 's current husband a gao bo? the fa...  unrelated  "
            ],
            "text/html": [
              "\n",
              "  <div id=\"df-2a452bf0-06a4-47fc-b70b-9d7ccb71cb9e\">\n",
              "    <div class=\"colab-df-container\">\n",
              "      <div>\n",
              "<style scoped>\n",
              "    .dataframe tbody tr th:only-of-type {\n",
              "        vertical-align: middle;\n",
              "    }\n",
              "\n",
              "    .dataframe tbody tr th {\n",
              "        vertical-align: top;\n",
              "    }\n",
              "\n",
              "    .dataframe thead th {\n",
              "        text-align: right;\n",
              "    }\n",
              "</style>\n",
              "<table border=\"1\" class=\"dataframe\">\n",
              "  <thead>\n",
              "    <tr style=\"text-align: right;\">\n",
              "      <th></th>\n",
              "      <th>title1_en</th>\n",
              "      <th>title2_en</th>\n",
              "      <th>label</th>\n",
              "    </tr>\n",
              "  </thead>\n",
              "  <tbody>\n",
              "    <tr>\n",
              "      <th>104355</th>\n",
              "      <td>Homemade rat poison. One dead litter.</td>\n",
              "      <td>Homemade rat poison, one dead, one dead, all k...</td>\n",
              "      <td>agreed</td>\n",
              "    </tr>\n",
              "    <tr>\n",
              "      <th>133170</th>\n",
              "      <td>By eating these five kinds of vegetables, you ...</td>\n",
              "      <td>Zhang DaDa \"day\" upside down begging for growt...</td>\n",
              "      <td>unrelated</td>\n",
              "    </tr>\n",
              "    <tr>\n",
              "      <th>221087</th>\n",
              "      <td>The Shenzhen Nailed Nailed Households Resume $...</td>\n",
              "      <td>Chengdu homebuyers can't buy a house with half...</td>\n",
              "      <td>unrelated</td>\n",
              "    </tr>\n",
              "    <tr>\n",
              "      <th>135365</th>\n",
              "      <td>Wu Jing may face a compensation of 1 billion, ...</td>\n",
              "      <td>With billions of dollars in compensation, Wuji...</td>\n",
              "      <td>agreed</td>\n",
              "    </tr>\n",
              "    <tr>\n",
              "      <th>170183</th>\n",
              "      <td>Yin Xiangjie out of prison, invited Mandar to ...</td>\n",
              "      <td>is xu qing 's current husband a gao bo? the fa...</td>\n",
              "      <td>unrelated</td>\n",
              "    </tr>\n",
              "  </tbody>\n",
              "</table>\n",
              "</div>\n",
              "      <button class=\"colab-df-convert\" onclick=\"convertToInteractive('df-2a452bf0-06a4-47fc-b70b-9d7ccb71cb9e')\"\n",
              "              title=\"Convert this dataframe to an interactive table.\"\n",
              "              style=\"display:none;\">\n",
              "        \n",
              "  <svg xmlns=\"http://www.w3.org/2000/svg\" height=\"24px\"viewBox=\"0 0 24 24\"\n",
              "       width=\"24px\">\n",
              "    <path d=\"M0 0h24v24H0V0z\" fill=\"none\"/>\n",
              "    <path d=\"M18.56 5.44l.94 2.06.94-2.06 2.06-.94-2.06-.94-.94-2.06-.94 2.06-2.06.94zm-11 1L8.5 8.5l.94-2.06 2.06-.94-2.06-.94L8.5 2.5l-.94 2.06-2.06.94zm10 10l.94 2.06.94-2.06 2.06-.94-2.06-.94-.94-2.06-.94 2.06-2.06.94z\"/><path d=\"M17.41 7.96l-1.37-1.37c-.4-.4-.92-.59-1.43-.59-.52 0-1.04.2-1.43.59L10.3 9.45l-7.72 7.72c-.78.78-.78 2.05 0 2.83L4 21.41c.39.39.9.59 1.41.59.51 0 1.02-.2 1.41-.59l7.78-7.78 2.81-2.81c.8-.78.8-2.07 0-2.86zM5.41 20L4 18.59l7.72-7.72 1.47 1.35L5.41 20z\"/>\n",
              "  </svg>\n",
              "      </button>\n",
              "      \n",
              "  <style>\n",
              "    .colab-df-container {\n",
              "      display:flex;\n",
              "      flex-wrap:wrap;\n",
              "      gap: 12px;\n",
              "    }\n",
              "\n",
              "    .colab-df-convert {\n",
              "      background-color: #E8F0FE;\n",
              "      border: none;\n",
              "      border-radius: 50%;\n",
              "      cursor: pointer;\n",
              "      display: none;\n",
              "      fill: #1967D2;\n",
              "      height: 32px;\n",
              "      padding: 0 0 0 0;\n",
              "      width: 32px;\n",
              "    }\n",
              "\n",
              "    .colab-df-convert:hover {\n",
              "      background-color: #E2EBFA;\n",
              "      box-shadow: 0px 1px 2px rgba(60, 64, 67, 0.3), 0px 1px 3px 1px rgba(60, 64, 67, 0.15);\n",
              "      fill: #174EA6;\n",
              "    }\n",
              "\n",
              "    [theme=dark] .colab-df-convert {\n",
              "      background-color: #3B4455;\n",
              "      fill: #D2E3FC;\n",
              "    }\n",
              "\n",
              "    [theme=dark] .colab-df-convert:hover {\n",
              "      background-color: #434B5C;\n",
              "      box-shadow: 0px 1px 3px 1px rgba(0, 0, 0, 0.15);\n",
              "      filter: drop-shadow(0px 1px 2px rgba(0, 0, 0, 0.3));\n",
              "      fill: #FFFFFF;\n",
              "    }\n",
              "  </style>\n",
              "\n",
              "      <script>\n",
              "        const buttonEl =\n",
              "          document.querySelector('#df-2a452bf0-06a4-47fc-b70b-9d7ccb71cb9e button.colab-df-convert');\n",
              "        buttonEl.style.display =\n",
              "          google.colab.kernel.accessAllowed ? 'block' : 'none';\n",
              "\n",
              "        async function convertToInteractive(key) {\n",
              "          const element = document.querySelector('#df-2a452bf0-06a4-47fc-b70b-9d7ccb71cb9e');\n",
              "          const dataTable =\n",
              "            await google.colab.kernel.invokeFunction('convertToInteractive',\n",
              "                                                     [key], {});\n",
              "          if (!dataTable) return;\n",
              "\n",
              "          const docLinkHtml = 'Like what you see? Visit the ' +\n",
              "            '<a target=\"_blank\" href=https://colab.research.google.com/notebooks/data_table.ipynb>data table notebook</a>'\n",
              "            + ' to learn more about interactive tables.';\n",
              "          element.innerHTML = '';\n",
              "          dataTable['output_type'] = 'display_data';\n",
              "          await google.colab.output.renderOutput(dataTable, element);\n",
              "          const docLink = document.createElement('div');\n",
              "          docLink.innerHTML = docLinkHtml;\n",
              "          element.appendChild(docLink);\n",
              "        }\n",
              "      </script>\n",
              "    </div>\n",
              "  </div>\n",
              "  "
            ]
          },
          "metadata": {},
          "execution_count": 165
        }
      ]
    },
    {
      "cell_type": "code",
      "source": [
        "train = df[~df.isin(val)].dropna()"
      ],
      "metadata": {
        "id": "3RlplDQdyRz-"
      },
      "id": "3RlplDQdyRz-",
      "execution_count": 166,
      "outputs": []
    },
    {
      "cell_type": "code",
      "source": [
        "train.head()"
      ],
      "metadata": {
        "colab": {
          "base_uri": "https://localhost:8080/",
          "height": 206
        },
        "id": "Kf2GmszueTdk",
        "outputId": "1c21aab8-24f7-4b1f-f18b-794992581533"
      },
      "id": "Kf2GmszueTdk",
      "execution_count": 167,
      "outputs": [
        {
          "output_type": "execute_result",
          "data": {
            "text/plain": [
              "                                                title1_en  \\\n",
              "104355              Homemade rat poison. One dead litter.   \n",
              "133170  By eating these five kinds of vegetables, you ...   \n",
              "221087  The Shenzhen Nailed Nailed Households Resume $...   \n",
              "135365  Wu Jing may face a compensation of 1 billion, ...   \n",
              "170183  Yin Xiangjie out of prison, invited Mandar to ...   \n",
              "\n",
              "                                                title2_en      label  \n",
              "104355  Homemade rat poison, one dead, one dead, all k...     agreed  \n",
              "133170  Zhang DaDa \"day\" upside down begging for growt...  unrelated  \n",
              "221087  Chengdu homebuyers can't buy a house with half...  unrelated  \n",
              "135365  With billions of dollars in compensation, Wuji...     agreed  \n",
              "170183  is xu qing 's current husband a gao bo? the fa...  unrelated  "
            ],
            "text/html": [
              "\n",
              "  <div id=\"df-60df0467-20f7-4a0a-aab2-ac02cb657e7e\">\n",
              "    <div class=\"colab-df-container\">\n",
              "      <div>\n",
              "<style scoped>\n",
              "    .dataframe tbody tr th:only-of-type {\n",
              "        vertical-align: middle;\n",
              "    }\n",
              "\n",
              "    .dataframe tbody tr th {\n",
              "        vertical-align: top;\n",
              "    }\n",
              "\n",
              "    .dataframe thead th {\n",
              "        text-align: right;\n",
              "    }\n",
              "</style>\n",
              "<table border=\"1\" class=\"dataframe\">\n",
              "  <thead>\n",
              "    <tr style=\"text-align: right;\">\n",
              "      <th></th>\n",
              "      <th>title1_en</th>\n",
              "      <th>title2_en</th>\n",
              "      <th>label</th>\n",
              "    </tr>\n",
              "  </thead>\n",
              "  <tbody>\n",
              "    <tr>\n",
              "      <th>104355</th>\n",
              "      <td>Homemade rat poison. One dead litter.</td>\n",
              "      <td>Homemade rat poison, one dead, one dead, all k...</td>\n",
              "      <td>agreed</td>\n",
              "    </tr>\n",
              "    <tr>\n",
              "      <th>133170</th>\n",
              "      <td>By eating these five kinds of vegetables, you ...</td>\n",
              "      <td>Zhang DaDa \"day\" upside down begging for growt...</td>\n",
              "      <td>unrelated</td>\n",
              "    </tr>\n",
              "    <tr>\n",
              "      <th>221087</th>\n",
              "      <td>The Shenzhen Nailed Nailed Households Resume $...</td>\n",
              "      <td>Chengdu homebuyers can't buy a house with half...</td>\n",
              "      <td>unrelated</td>\n",
              "    </tr>\n",
              "    <tr>\n",
              "      <th>135365</th>\n",
              "      <td>Wu Jing may face a compensation of 1 billion, ...</td>\n",
              "      <td>With billions of dollars in compensation, Wuji...</td>\n",
              "      <td>agreed</td>\n",
              "    </tr>\n",
              "    <tr>\n",
              "      <th>170183</th>\n",
              "      <td>Yin Xiangjie out of prison, invited Mandar to ...</td>\n",
              "      <td>is xu qing 's current husband a gao bo? the fa...</td>\n",
              "      <td>unrelated</td>\n",
              "    </tr>\n",
              "  </tbody>\n",
              "</table>\n",
              "</div>\n",
              "      <button class=\"colab-df-convert\" onclick=\"convertToInteractive('df-60df0467-20f7-4a0a-aab2-ac02cb657e7e')\"\n",
              "              title=\"Convert this dataframe to an interactive table.\"\n",
              "              style=\"display:none;\">\n",
              "        \n",
              "  <svg xmlns=\"http://www.w3.org/2000/svg\" height=\"24px\"viewBox=\"0 0 24 24\"\n",
              "       width=\"24px\">\n",
              "    <path d=\"M0 0h24v24H0V0z\" fill=\"none\"/>\n",
              "    <path d=\"M18.56 5.44l.94 2.06.94-2.06 2.06-.94-2.06-.94-.94-2.06-.94 2.06-2.06.94zm-11 1L8.5 8.5l.94-2.06 2.06-.94-2.06-.94L8.5 2.5l-.94 2.06-2.06.94zm10 10l.94 2.06.94-2.06 2.06-.94-2.06-.94-.94-2.06-.94 2.06-2.06.94z\"/><path d=\"M17.41 7.96l-1.37-1.37c-.4-.4-.92-.59-1.43-.59-.52 0-1.04.2-1.43.59L10.3 9.45l-7.72 7.72c-.78.78-.78 2.05 0 2.83L4 21.41c.39.39.9.59 1.41.59.51 0 1.02-.2 1.41-.59l7.78-7.78 2.81-2.81c.8-.78.8-2.07 0-2.86zM5.41 20L4 18.59l7.72-7.72 1.47 1.35L5.41 20z\"/>\n",
              "  </svg>\n",
              "      </button>\n",
              "      \n",
              "  <style>\n",
              "    .colab-df-container {\n",
              "      display:flex;\n",
              "      flex-wrap:wrap;\n",
              "      gap: 12px;\n",
              "    }\n",
              "\n",
              "    .colab-df-convert {\n",
              "      background-color: #E8F0FE;\n",
              "      border: none;\n",
              "      border-radius: 50%;\n",
              "      cursor: pointer;\n",
              "      display: none;\n",
              "      fill: #1967D2;\n",
              "      height: 32px;\n",
              "      padding: 0 0 0 0;\n",
              "      width: 32px;\n",
              "    }\n",
              "\n",
              "    .colab-df-convert:hover {\n",
              "      background-color: #E2EBFA;\n",
              "      box-shadow: 0px 1px 2px rgba(60, 64, 67, 0.3), 0px 1px 3px 1px rgba(60, 64, 67, 0.15);\n",
              "      fill: #174EA6;\n",
              "    }\n",
              "\n",
              "    [theme=dark] .colab-df-convert {\n",
              "      background-color: #3B4455;\n",
              "      fill: #D2E3FC;\n",
              "    }\n",
              "\n",
              "    [theme=dark] .colab-df-convert:hover {\n",
              "      background-color: #434B5C;\n",
              "      box-shadow: 0px 1px 3px 1px rgba(0, 0, 0, 0.15);\n",
              "      filter: drop-shadow(0px 1px 2px rgba(0, 0, 0, 0.3));\n",
              "      fill: #FFFFFF;\n",
              "    }\n",
              "  </style>\n",
              "\n",
              "      <script>\n",
              "        const buttonEl =\n",
              "          document.querySelector('#df-60df0467-20f7-4a0a-aab2-ac02cb657e7e button.colab-df-convert');\n",
              "        buttonEl.style.display =\n",
              "          google.colab.kernel.accessAllowed ? 'block' : 'none';\n",
              "\n",
              "        async function convertToInteractive(key) {\n",
              "          const element = document.querySelector('#df-60df0467-20f7-4a0a-aab2-ac02cb657e7e');\n",
              "          const dataTable =\n",
              "            await google.colab.kernel.invokeFunction('convertToInteractive',\n",
              "                                                     [key], {});\n",
              "          if (!dataTable) return;\n",
              "\n",
              "          const docLinkHtml = 'Like what you see? Visit the ' +\n",
              "            '<a target=\"_blank\" href=https://colab.research.google.com/notebooks/data_table.ipynb>data table notebook</a>'\n",
              "            + ' to learn more about interactive tables.';\n",
              "          element.innerHTML = '';\n",
              "          dataTable['output_type'] = 'display_data';\n",
              "          await google.colab.output.renderOutput(dataTable, element);\n",
              "          const docLink = document.createElement('div');\n",
              "          docLink.innerHTML = docLinkHtml;\n",
              "          element.appendChild(docLink);\n",
              "        }\n",
              "      </script>\n",
              "    </div>\n",
              "  </div>\n",
              "  "
            ]
          },
          "metadata": {},
          "execution_count": 167
        }
      ]
    },
    {
      "cell_type": "code",
      "source": [
        "train.label.value_counts(), df.label.value_counts()"
      ],
      "metadata": {
        "colab": {
          "base_uri": "https://localhost:8080/"
        },
        "id": "LuvEqMWXY-Nx",
        "outputId": "be5ab3a6-0836-456e-b5e9-86853800dd74"
      },
      "id": "LuvEqMWXY-Nx",
      "execution_count": 168,
      "outputs": [
        {
          "output_type": "execute_result",
          "data": {
            "text/plain": [
              "(unrelated    161912\n",
              " agreed        68468\n",
              " disagreed      6062\n",
              " Name: label, dtype: int64,\n",
              " unrelated    175598\n",
              " agreed        74238\n",
              " disagreed      6606\n",
              " Name: label, dtype: int64)"
            ]
          },
          "metadata": {},
          "execution_count": 168
        }
      ]
    },
    {
      "cell_type": "code",
      "source": [
        "len(train)"
      ],
      "metadata": {
        "colab": {
          "base_uri": "https://localhost:8080/"
        },
        "id": "Fe-HuMKeyg0O",
        "outputId": "7e738bd0-593d-4704-a55f-203439ebcc21"
      },
      "id": "Fe-HuMKeyg0O",
      "execution_count": 169,
      "outputs": [
        {
          "output_type": "execute_result",
          "data": {
            "text/plain": [
              "236442"
            ]
          },
          "metadata": {},
          "execution_count": 169
        }
      ]
    },
    {
      "cell_type": "code",
      "execution_count": 170,
      "id": "5983877e",
      "metadata": {
        "colab": {
          "base_uri": "https://localhost:8080/",
          "height": 206
        },
        "id": "5983877e",
        "outputId": "79886114-f98f-411f-bce8-895d9fca2c0c"
      },
      "outputs": [
        {
          "output_type": "execute_result",
          "data": {
            "text/plain": [
              "                                                title1_en  \\\n",
              "104355              Homemade rat poison. One dead litter.   \n",
              "133170  By eating these five kinds of vegetables, you ...   \n",
              "221087  The Shenzhen Nailed Nailed Households Resume $...   \n",
              "135365  Wu Jing may face a compensation of 1 billion, ...   \n",
              "170183  Yin Xiangjie out of prison, invited Mandar to ...   \n",
              "\n",
              "                                                title2_en      label  \n",
              "104355  Homemade rat poison, one dead, one dead, all k...     agreed  \n",
              "133170  Zhang DaDa \"day\" upside down begging for growt...  unrelated  \n",
              "221087  Chengdu homebuyers can't buy a house with half...  unrelated  \n",
              "135365  With billions of dollars in compensation, Wuji...     agreed  \n",
              "170183  is xu qing 's current husband a gao bo? the fa...  unrelated  "
            ],
            "text/html": [
              "\n",
              "  <div id=\"df-4e76350c-b690-4438-989e-05020c3e664d\">\n",
              "    <div class=\"colab-df-container\">\n",
              "      <div>\n",
              "<style scoped>\n",
              "    .dataframe tbody tr th:only-of-type {\n",
              "        vertical-align: middle;\n",
              "    }\n",
              "\n",
              "    .dataframe tbody tr th {\n",
              "        vertical-align: top;\n",
              "    }\n",
              "\n",
              "    .dataframe thead th {\n",
              "        text-align: right;\n",
              "    }\n",
              "</style>\n",
              "<table border=\"1\" class=\"dataframe\">\n",
              "  <thead>\n",
              "    <tr style=\"text-align: right;\">\n",
              "      <th></th>\n",
              "      <th>title1_en</th>\n",
              "      <th>title2_en</th>\n",
              "      <th>label</th>\n",
              "    </tr>\n",
              "  </thead>\n",
              "  <tbody>\n",
              "    <tr>\n",
              "      <th>104355</th>\n",
              "      <td>Homemade rat poison. One dead litter.</td>\n",
              "      <td>Homemade rat poison, one dead, one dead, all k...</td>\n",
              "      <td>agreed</td>\n",
              "    </tr>\n",
              "    <tr>\n",
              "      <th>133170</th>\n",
              "      <td>By eating these five kinds of vegetables, you ...</td>\n",
              "      <td>Zhang DaDa \"day\" upside down begging for growt...</td>\n",
              "      <td>unrelated</td>\n",
              "    </tr>\n",
              "    <tr>\n",
              "      <th>221087</th>\n",
              "      <td>The Shenzhen Nailed Nailed Households Resume $...</td>\n",
              "      <td>Chengdu homebuyers can't buy a house with half...</td>\n",
              "      <td>unrelated</td>\n",
              "    </tr>\n",
              "    <tr>\n",
              "      <th>135365</th>\n",
              "      <td>Wu Jing may face a compensation of 1 billion, ...</td>\n",
              "      <td>With billions of dollars in compensation, Wuji...</td>\n",
              "      <td>agreed</td>\n",
              "    </tr>\n",
              "    <tr>\n",
              "      <th>170183</th>\n",
              "      <td>Yin Xiangjie out of prison, invited Mandar to ...</td>\n",
              "      <td>is xu qing 's current husband a gao bo? the fa...</td>\n",
              "      <td>unrelated</td>\n",
              "    </tr>\n",
              "  </tbody>\n",
              "</table>\n",
              "</div>\n",
              "      <button class=\"colab-df-convert\" onclick=\"convertToInteractive('df-4e76350c-b690-4438-989e-05020c3e664d')\"\n",
              "              title=\"Convert this dataframe to an interactive table.\"\n",
              "              style=\"display:none;\">\n",
              "        \n",
              "  <svg xmlns=\"http://www.w3.org/2000/svg\" height=\"24px\"viewBox=\"0 0 24 24\"\n",
              "       width=\"24px\">\n",
              "    <path d=\"M0 0h24v24H0V0z\" fill=\"none\"/>\n",
              "    <path d=\"M18.56 5.44l.94 2.06.94-2.06 2.06-.94-2.06-.94-.94-2.06-.94 2.06-2.06.94zm-11 1L8.5 8.5l.94-2.06 2.06-.94-2.06-.94L8.5 2.5l-.94 2.06-2.06.94zm10 10l.94 2.06.94-2.06 2.06-.94-2.06-.94-.94-2.06-.94 2.06-2.06.94z\"/><path d=\"M17.41 7.96l-1.37-1.37c-.4-.4-.92-.59-1.43-.59-.52 0-1.04.2-1.43.59L10.3 9.45l-7.72 7.72c-.78.78-.78 2.05 0 2.83L4 21.41c.39.39.9.59 1.41.59.51 0 1.02-.2 1.41-.59l7.78-7.78 2.81-2.81c.8-.78.8-2.07 0-2.86zM5.41 20L4 18.59l7.72-7.72 1.47 1.35L5.41 20z\"/>\n",
              "  </svg>\n",
              "      </button>\n",
              "      \n",
              "  <style>\n",
              "    .colab-df-container {\n",
              "      display:flex;\n",
              "      flex-wrap:wrap;\n",
              "      gap: 12px;\n",
              "    }\n",
              "\n",
              "    .colab-df-convert {\n",
              "      background-color: #E8F0FE;\n",
              "      border: none;\n",
              "      border-radius: 50%;\n",
              "      cursor: pointer;\n",
              "      display: none;\n",
              "      fill: #1967D2;\n",
              "      height: 32px;\n",
              "      padding: 0 0 0 0;\n",
              "      width: 32px;\n",
              "    }\n",
              "\n",
              "    .colab-df-convert:hover {\n",
              "      background-color: #E2EBFA;\n",
              "      box-shadow: 0px 1px 2px rgba(60, 64, 67, 0.3), 0px 1px 3px 1px rgba(60, 64, 67, 0.15);\n",
              "      fill: #174EA6;\n",
              "    }\n",
              "\n",
              "    [theme=dark] .colab-df-convert {\n",
              "      background-color: #3B4455;\n",
              "      fill: #D2E3FC;\n",
              "    }\n",
              "\n",
              "    [theme=dark] .colab-df-convert:hover {\n",
              "      background-color: #434B5C;\n",
              "      box-shadow: 0px 1px 3px 1px rgba(0, 0, 0, 0.15);\n",
              "      filter: drop-shadow(0px 1px 2px rgba(0, 0, 0, 0.3));\n",
              "      fill: #FFFFFF;\n",
              "    }\n",
              "  </style>\n",
              "\n",
              "      <script>\n",
              "        const buttonEl =\n",
              "          document.querySelector('#df-4e76350c-b690-4438-989e-05020c3e664d button.colab-df-convert');\n",
              "        buttonEl.style.display =\n",
              "          google.colab.kernel.accessAllowed ? 'block' : 'none';\n",
              "\n",
              "        async function convertToInteractive(key) {\n",
              "          const element = document.querySelector('#df-4e76350c-b690-4438-989e-05020c3e664d');\n",
              "          const dataTable =\n",
              "            await google.colab.kernel.invokeFunction('convertToInteractive',\n",
              "                                                     [key], {});\n",
              "          if (!dataTable) return;\n",
              "\n",
              "          const docLinkHtml = 'Like what you see? Visit the ' +\n",
              "            '<a target=\"_blank\" href=https://colab.research.google.com/notebooks/data_table.ipynb>data table notebook</a>'\n",
              "            + ' to learn more about interactive tables.';\n",
              "          element.innerHTML = '';\n",
              "          dataTable['output_type'] = 'display_data';\n",
              "          await google.colab.output.renderOutput(dataTable, element);\n",
              "          const docLink = document.createElement('div');\n",
              "          docLink.innerHTML = docLinkHtml;\n",
              "          element.appendChild(docLink);\n",
              "        }\n",
              "      </script>\n",
              "    </div>\n",
              "  </div>\n",
              "  "
            ]
          },
          "metadata": {},
          "execution_count": 170
        }
      ],
      "source": [
        "df.head()"
      ]
    },
    {
      "cell_type": "code",
      "execution_count": 171,
      "id": "ae07fdcf",
      "metadata": {
        "scrolled": true,
        "colab": {
          "base_uri": "https://localhost:8080/",
          "height": 206
        },
        "id": "ae07fdcf",
        "outputId": "71fe27b9-813e-4906-ef8a-928228084f6e"
      },
      "outputs": [
        {
          "output_type": "execute_result",
          "data": {
            "text/plain": [
              "       id    tid1    tid2                                          title1_en  \\\n",
              "0  256442  100672  100673  The great coat brother Zhu Zhu Wen, in the man...   \n",
              "1  256443  162269  162270  NASA reveals facts about UFO wreckage found on...   \n",
              "2  256444  157826  157854      The hollow tomatoes are loaded with hormones.   \n",
              "3  256445  109579   74076  Ange Pavilion Geoshui: How accurate is Matrimo...   \n",
              "4  256446   15068   15085  A 50-year-old bus-bus blows up an 8-year-old c...   \n",
              "\n",
              "                                           title2_en  \n",
              "0  Lin xinsheng after the birth of \"hard milking,...  \n",
              "1  The UFO found in Yuancun, Jiaocheng County, Sh...  \n",
              "2  Li chenfan bingbing home photos, netizen: this...  \n",
              "3  Master one: the eight-character presumption of...  \n",
              "4  < i > Joe Johnson's disgruntled timing and ord...  "
            ],
            "text/html": [
              "\n",
              "  <div id=\"df-fbea5d35-1f9e-4ad0-aa8b-f1b0762d1e47\">\n",
              "    <div class=\"colab-df-container\">\n",
              "      <div>\n",
              "<style scoped>\n",
              "    .dataframe tbody tr th:only-of-type {\n",
              "        vertical-align: middle;\n",
              "    }\n",
              "\n",
              "    .dataframe tbody tr th {\n",
              "        vertical-align: top;\n",
              "    }\n",
              "\n",
              "    .dataframe thead th {\n",
              "        text-align: right;\n",
              "    }\n",
              "</style>\n",
              "<table border=\"1\" class=\"dataframe\">\n",
              "  <thead>\n",
              "    <tr style=\"text-align: right;\">\n",
              "      <th></th>\n",
              "      <th>id</th>\n",
              "      <th>tid1</th>\n",
              "      <th>tid2</th>\n",
              "      <th>title1_en</th>\n",
              "      <th>title2_en</th>\n",
              "    </tr>\n",
              "  </thead>\n",
              "  <tbody>\n",
              "    <tr>\n",
              "      <th>0</th>\n",
              "      <td>256442</td>\n",
              "      <td>100672</td>\n",
              "      <td>100673</td>\n",
              "      <td>The great coat brother Zhu Zhu Wen, in the man...</td>\n",
              "      <td>Lin xinsheng after the birth of \"hard milking,...</td>\n",
              "    </tr>\n",
              "    <tr>\n",
              "      <th>1</th>\n",
              "      <td>256443</td>\n",
              "      <td>162269</td>\n",
              "      <td>162270</td>\n",
              "      <td>NASA reveals facts about UFO wreckage found on...</td>\n",
              "      <td>The UFO found in Yuancun, Jiaocheng County, Sh...</td>\n",
              "    </tr>\n",
              "    <tr>\n",
              "      <th>2</th>\n",
              "      <td>256444</td>\n",
              "      <td>157826</td>\n",
              "      <td>157854</td>\n",
              "      <td>The hollow tomatoes are loaded with hormones.</td>\n",
              "      <td>Li chenfan bingbing home photos, netizen: this...</td>\n",
              "    </tr>\n",
              "    <tr>\n",
              "      <th>3</th>\n",
              "      <td>256445</td>\n",
              "      <td>109579</td>\n",
              "      <td>74076</td>\n",
              "      <td>Ange Pavilion Geoshui: How accurate is Matrimo...</td>\n",
              "      <td>Master one: the eight-character presumption of...</td>\n",
              "    </tr>\n",
              "    <tr>\n",
              "      <th>4</th>\n",
              "      <td>256446</td>\n",
              "      <td>15068</td>\n",
              "      <td>15085</td>\n",
              "      <td>A 50-year-old bus-bus blows up an 8-year-old c...</td>\n",
              "      <td>&lt; i &gt; Joe Johnson's disgruntled timing and ord...</td>\n",
              "    </tr>\n",
              "  </tbody>\n",
              "</table>\n",
              "</div>\n",
              "      <button class=\"colab-df-convert\" onclick=\"convertToInteractive('df-fbea5d35-1f9e-4ad0-aa8b-f1b0762d1e47')\"\n",
              "              title=\"Convert this dataframe to an interactive table.\"\n",
              "              style=\"display:none;\">\n",
              "        \n",
              "  <svg xmlns=\"http://www.w3.org/2000/svg\" height=\"24px\"viewBox=\"0 0 24 24\"\n",
              "       width=\"24px\">\n",
              "    <path d=\"M0 0h24v24H0V0z\" fill=\"none\"/>\n",
              "    <path d=\"M18.56 5.44l.94 2.06.94-2.06 2.06-.94-2.06-.94-.94-2.06-.94 2.06-2.06.94zm-11 1L8.5 8.5l.94-2.06 2.06-.94-2.06-.94L8.5 2.5l-.94 2.06-2.06.94zm10 10l.94 2.06.94-2.06 2.06-.94-2.06-.94-.94-2.06-.94 2.06-2.06.94z\"/><path d=\"M17.41 7.96l-1.37-1.37c-.4-.4-.92-.59-1.43-.59-.52 0-1.04.2-1.43.59L10.3 9.45l-7.72 7.72c-.78.78-.78 2.05 0 2.83L4 21.41c.39.39.9.59 1.41.59.51 0 1.02-.2 1.41-.59l7.78-7.78 2.81-2.81c.8-.78.8-2.07 0-2.86zM5.41 20L4 18.59l7.72-7.72 1.47 1.35L5.41 20z\"/>\n",
              "  </svg>\n",
              "      </button>\n",
              "      \n",
              "  <style>\n",
              "    .colab-df-container {\n",
              "      display:flex;\n",
              "      flex-wrap:wrap;\n",
              "      gap: 12px;\n",
              "    }\n",
              "\n",
              "    .colab-df-convert {\n",
              "      background-color: #E8F0FE;\n",
              "      border: none;\n",
              "      border-radius: 50%;\n",
              "      cursor: pointer;\n",
              "      display: none;\n",
              "      fill: #1967D2;\n",
              "      height: 32px;\n",
              "      padding: 0 0 0 0;\n",
              "      width: 32px;\n",
              "    }\n",
              "\n",
              "    .colab-df-convert:hover {\n",
              "      background-color: #E2EBFA;\n",
              "      box-shadow: 0px 1px 2px rgba(60, 64, 67, 0.3), 0px 1px 3px 1px rgba(60, 64, 67, 0.15);\n",
              "      fill: #174EA6;\n",
              "    }\n",
              "\n",
              "    [theme=dark] .colab-df-convert {\n",
              "      background-color: #3B4455;\n",
              "      fill: #D2E3FC;\n",
              "    }\n",
              "\n",
              "    [theme=dark] .colab-df-convert:hover {\n",
              "      background-color: #434B5C;\n",
              "      box-shadow: 0px 1px 3px 1px rgba(0, 0, 0, 0.15);\n",
              "      filter: drop-shadow(0px 1px 2px rgba(0, 0, 0, 0.3));\n",
              "      fill: #FFFFFF;\n",
              "    }\n",
              "  </style>\n",
              "\n",
              "      <script>\n",
              "        const buttonEl =\n",
              "          document.querySelector('#df-fbea5d35-1f9e-4ad0-aa8b-f1b0762d1e47 button.colab-df-convert');\n",
              "        buttonEl.style.display =\n",
              "          google.colab.kernel.accessAllowed ? 'block' : 'none';\n",
              "\n",
              "        async function convertToInteractive(key) {\n",
              "          const element = document.querySelector('#df-fbea5d35-1f9e-4ad0-aa8b-f1b0762d1e47');\n",
              "          const dataTable =\n",
              "            await google.colab.kernel.invokeFunction('convertToInteractive',\n",
              "                                                     [key], {});\n",
              "          if (!dataTable) return;\n",
              "\n",
              "          const docLinkHtml = 'Like what you see? Visit the ' +\n",
              "            '<a target=\"_blank\" href=https://colab.research.google.com/notebooks/data_table.ipynb>data table notebook</a>'\n",
              "            + ' to learn more about interactive tables.';\n",
              "          element.innerHTML = '';\n",
              "          dataTable['output_type'] = 'display_data';\n",
              "          await google.colab.output.renderOutput(dataTable, element);\n",
              "          const docLink = document.createElement('div');\n",
              "          docLink.innerHTML = docLinkHtml;\n",
              "          element.appendChild(docLink);\n",
              "        }\n",
              "      </script>\n",
              "    </div>\n",
              "  </div>\n",
              "  "
            ]
          },
          "metadata": {},
          "execution_count": 171
        }
      ],
      "source": [
        "test.head()"
      ]
    },
    {
      "cell_type": "code",
      "execution_count": 172,
      "id": "90db2bf9",
      "metadata": {
        "scrolled": true,
        "colab": {
          "base_uri": "https://localhost:8080/"
        },
        "id": "90db2bf9",
        "outputId": "619c5326-dcf8-426f-be43-6226763eda70"
      },
      "outputs": [
        {
          "output_type": "execute_result",
          "data": {
            "text/plain": [
              "(title1_en    0\n",
              " title2_en    0\n",
              " label        0\n",
              " dtype: int64,\n",
              " id           0\n",
              " tid1         0\n",
              " tid2         0\n",
              " title1_en    0\n",
              " title2_en    0\n",
              " dtype: int64)"
            ]
          },
          "metadata": {},
          "execution_count": 172
        }
      ],
      "source": [
        "df.isnull().sum(), test.isnull().sum()"
      ]
    },
    {
      "cell_type": "markdown",
      "id": "871e0477",
      "metadata": {
        "id": "871e0477"
      },
      "source": [
        "#### There are no missing values"
      ]
    },
    {
      "cell_type": "code",
      "execution_count": 173,
      "id": "1c0e965b",
      "metadata": {
        "colab": {
          "base_uri": "https://localhost:8080/"
        },
        "id": "1c0e965b",
        "outputId": "7d2de96d-d65d-4d05-81b8-a6eaa0e0385b"
      },
      "outputs": [
        {
          "output_type": "execute_result",
          "data": {
            "text/plain": [
              "array(['agreed', 'unrelated', 'disagreed'], dtype=object)"
            ]
          },
          "metadata": {},
          "execution_count": 173
        }
      ],
      "source": [
        "df['label'].unique()"
      ]
    },
    {
      "cell_type": "code",
      "execution_count": 174,
      "id": "37a83169",
      "metadata": {
        "colab": {
          "base_uri": "https://localhost:8080/",
          "height": 497
        },
        "id": "37a83169",
        "outputId": "f45dc97e-7373-454e-987e-f7c06d8b1c03"
      },
      "outputs": [
        {
          "output_type": "execute_result",
          "data": {
            "text/plain": [
              "Text(0.5, 0, 'Labels')"
            ]
          },
          "metadata": {},
          "execution_count": 174
        },
        {
          "output_type": "display_data",
          "data": {
            "text/plain": [
              "<Figure size 640x480 with 1 Axes>"
            ],
            "image/png": "[encoded data removed]"
          },
          "metadata": {}
        }
      ],
      "source": [
        "sns.countplot(x=df['label'])\n",
        "plt.title(\"Label Count\")\n",
        "plt.xlabel(\"Labels\")"
      ]
    },
    {
      "cell_type": "code",
      "source": [
        "sns.countplot(x=val['label'])\n",
        "plt.title(\"Label Count\")\n",
        "plt.xlabel(\"Labels\")"
      ],
      "metadata": {
        "colab": {
          "base_uri": "https://localhost:8080/",
          "height": 497
        },
        "id": "hdcIsObhv9JS",
        "outputId": "57256c2c-6ba8-4048-9f3d-73fbfee1729c"
      },
      "id": "hdcIsObhv9JS",
      "execution_count": 175,
      "outputs": [
        {
          "output_type": "execute_result",
          "data": {
            "text/plain": [
              "Text(0.5, 0, 'Labels')"
            ]
          },
          "metadata": {},
          "execution_count": 175
        },
        {
          "output_type": "display_data",
          "data": {
            "text/plain": [
              "<Figure size 640x480 with 1 Axes>"
            ],
            "image/png": "[encoded data removed]"
          },
          "metadata": {}
        }
      ]
    },
    {
      "cell_type": "code",
      "source": [
        "!pip install nlpaug"
      ],
      "metadata": {
        "colab": {
          "base_uri": "https://localhost:8080/"
        },
        "id": "b-flKSAS0Djb",
        "outputId": "818b406f-d819-41a5-ac36-8a58d5a9e4f1"
      },
      "id": "b-flKSAS0Djb",
      "execution_count": 176,
      "outputs": [
        {
          "output_type": "stream",
          "name": "stdout",
          "text": [
            "Looking in indexes: https://pypi.org/simple, https://us-python.pkg.dev/colab-wheels/public/simple/\n",
            "Requirement already satisfied: nlpaug in /usr/local/lib/python3.9/dist-packages (1.1.11)\n",
            "Requirement already satisfied: pandas>=1.2.0 in /usr/local/lib/python3.9/dist-packages (from nlpaug) (1.5.3)\n",
            "Requirement already satisfied: requests>=2.22.0 in /usr/local/lib/python3.9/dist-packages (from nlpaug) (2.27.1)\n",
            "Requirement already satisfied: numpy>=1.16.2 in /usr/local/lib/python3.9/dist-packages (from nlpaug) (1.22.4)\n",
            "Requirement already satisfied: gdown>=4.0.0 in /usr/local/lib/python3.9/dist-packages (from nlpaug) (4.6.6)\n",
            "Requirement already satisfied: beautifulsoup4 in /usr/local/lib/python3.9/dist-packages (from gdown>=4.0.0->nlpaug) (4.11.2)\n",
            "Requirement already satisfied: filelock in /usr/local/lib/python3.9/dist-packages (from gdown>=4.0.0->nlpaug) (3.11.0)\n",
            "Requirement already satisfied: tqdm in /usr/local/lib/python3.9/dist-packages (from gdown>=4.0.0->nlpaug) (4.65.0)\n",
            "Requirement already satisfied: six in /usr/local/lib/python3.9/dist-packages (from gdown>=4.0.0->nlpaug) (1.16.0)\n",
            "Requirement already satisfied: python-dateutil>=2.8.1 in /usr/local/lib/python3.9/dist-packages (from pandas>=1.2.0->nlpaug) (2.8.2)\n",
            "Requirement already satisfied: pytz>=2020.1 in /usr/local/lib/python3.9/dist-packages (from pandas>=1.2.0->nlpaug) (2022.7.1)\n",
            "Requirement already satisfied: charset-normalizer~=2.0.0 in /usr/local/lib/python3.9/dist-packages (from requests>=2.22.0->nlpaug) (2.0.12)\n",
            "Requirement already satisfied: certifi>=2017.4.17 in /usr/local/lib/python3.9/dist-packages (from requests>=2.22.0->nlpaug) (2022.12.7)\n",
            "Requirement already satisfied: idna<4,>=2.5 in /usr/local/lib/python3.9/dist-packages (from requests>=2.22.0->nlpaug) (3.4)\n",
            "Requirement already satisfied: urllib3<1.27,>=1.21.1 in /usr/local/lib/python3.9/dist-packages (from requests>=2.22.0->nlpaug) (1.26.15)\n",
            "Requirement already satisfied: soupsieve>1.2 in /usr/local/lib/python3.9/dist-packages (from beautifulsoup4->gdown>=4.0.0->nlpaug) (2.4.1)\n",
            "Requirement already satisfied: PySocks!=1.5.7,>=1.5.6 in /usr/local/lib/python3.9/dist-packages (from requests>=2.22.0->nlpaug) (1.7.1)\n"
          ]
        }
      ]
    },
    {
      "cell_type": "code",
      "source": [
        "import nlpaug.augmenter.word as naw\n",
        "syn_aug = naw.SynonymAug(aug_p=0.3, aug_max=1)"
      ],
      "metadata": {
        "id": "8ath991K0Qs4"
      },
      "id": "8ath991K0Qs4",
      "execution_count": 177,
      "outputs": []
    },
    {
      "cell_type": "code",
      "source": [
        "disagreed_train = train[train.label=='disagreed']\n",
        "curr = []\n",
        "for i, s in enumerate(disagreed_train.iloc[:, 0]):\n",
        "    l = []\n",
        "    mod_sentence = syn_aug.augment(s, n=1)[0]\n",
        "    if mod_sentence != disagreed_train.iloc[i, 0]:\n",
        "        l.append(mod_sentence)\n",
        "        l.append(disagreed_train.iloc[i, 1])\n",
        "        l.append(disagreed_train.iloc[i, 2])\n",
        "        curr.append(l)\n",
        "\n",
        "for i, s in enumerate(disagreed_train.iloc[:, 0]):\n",
        "    l = []\n",
        "    mod_sentence1 = syn_aug.augment(s, n=1)[0]\n",
        "    mod_sentence2 = syn_aug.augment(disagreed_train.iloc[i, 1], n=1)[0]\n",
        "    if mod_sentence1 != disagreed_train.iloc[i, 0] and mod_sentence2 != disagreed_train.iloc[i, 1]:\n",
        "        l.append(mod_sentence1)\n",
        "        l.append(mod_sentence2)\n",
        "        l.append(disagreed_train.iloc[i, 2])\n",
        "        curr.append(l)\n",
        "\n",
        "for i, s in enumerate(disagreed_train.iloc[:, 1]):\n",
        "    l = []\n",
        "    mod_sentence = syn_aug.augment(s, n=1)[0]\n",
        "    if mod_sentence != disagreed_train.iloc[i, 1]:\n",
        "        l.append(disagreed_train.iloc[i, 0])\n",
        "        l.append(mod_sentence)\n",
        "        l.append(disagreed_train.iloc[i, 2])\n",
        "        curr.append(l)\n"
      ],
      "metadata": {
        "id": "Bg3zOMTD0WKX"
      },
      "id": "Bg3zOMTD0WKX",
      "execution_count": 178,
      "outputs": []
    },
    {
      "cell_type": "code",
      "source": [
        "len(curr), len(disagreed_train)"
      ],
      "metadata": {
        "colab": {
          "base_uri": "https://localhost:8080/"
        },
        "id": "GQcodSol0qXE",
        "outputId": "4fa23eca-6c7f-40fa-ad92-8e36f8e50e13"
      },
      "id": "GQcodSol0qXE",
      "execution_count": 179,
      "outputs": [
        {
          "output_type": "execute_result",
          "data": {
            "text/plain": [
              "(14803, 6062)"
            ]
          },
          "metadata": {},
          "execution_count": 179
        }
      ]
    },
    {
      "cell_type": "code",
      "source": [
        "syn_aug = naw.SynonymAug(aug_p=0.3, aug_max=3)"
      ],
      "metadata": {
        "id": "g_uXuvDr0vKi"
      },
      "id": "g_uXuvDr0vKi",
      "execution_count": 180,
      "outputs": []
    },
    {
      "cell_type": "code",
      "source": [
        "for i, s in enumerate(disagreed_train.iloc[:, 0]):\n",
        "    l = []\n",
        "    mod_sentence = syn_aug.augment(s, n=1)[0]\n",
        "    if mod_sentence != disagreed_train.iloc[i, 0]:\n",
        "        l.append(mod_sentence)\n",
        "        l.append(disagreed_train.iloc[i, 1])\n",
        "        l.append(disagreed_train.iloc[i, 2])\n",
        "        curr.append(l)\n",
        "\n",
        "for i, s in enumerate(disagreed_train.iloc[:, 0]):\n",
        "    l = []\n",
        "    mod_sentence1 = syn_aug.augment(s, n=1)[0]\n",
        "    mod_sentence2 = syn_aug.augment(disagreed_train.iloc[i, 1], n=1)[0]\n",
        "    if mod_sentence1 != disagreed_train.iloc[i, 0] and mod_sentence2 != disagreed_train.iloc[i, 1]:\n",
        "        l.append(mod_sentence1)\n",
        "        l.append(mod_sentence2)\n",
        "        l.append(disagreed_train.iloc[i, 2])\n",
        "        curr.append(l)\n",
        "\n",
        "for i, s in enumerate(disagreed_train.iloc[:, 1]):\n",
        "    l = []\n",
        "    mod_sentence = syn_aug.augment(s, n=1)[0]\n",
        "    if mod_sentence != disagreed_train.iloc[i, 1]:\n",
        "        l.append(disagreed_train.iloc[i, 0])\n",
        "        l.append(mod_sentence)\n",
        "        l.append(disagreed_train.iloc[i, 2])\n",
        "        curr.append(l)"
      ],
      "metadata": {
        "id": "pBAVt0gL0yWt"
      },
      "id": "pBAVt0gL0yWt",
      "execution_count": 181,
      "outputs": []
    },
    {
      "cell_type": "code",
      "source": [
        "len(curr)"
      ],
      "metadata": {
        "colab": {
          "base_uri": "https://localhost:8080/"
        },
        "id": "23SA-IS00050",
        "outputId": "d2d4b566-26af-47f3-910c-0a63b4c2534c"
      },
      "id": "23SA-IS00050",
      "execution_count": 182,
      "outputs": [
        {
          "output_type": "execute_result",
          "data": {
            "text/plain": [
              "32620"
            ]
          },
          "metadata": {},
          "execution_count": 182
        }
      ]
    },
    {
      "cell_type": "code",
      "source": [
        "curr = np.array(curr)"
      ],
      "metadata": {
        "id": "UUvHbBni1bfo"
      },
      "id": "UUvHbBni1bfo",
      "execution_count": 183,
      "outputs": []
    },
    {
      "cell_type": "code",
      "source": [
        "AGREED_COUNT = train['label'].value_counts()[1]\n",
        "unrelated_train = train[train.label=='unrelated']\n",
        "agreed_train = train[train.label=='agreed']\n",
        "disagreed_train = train[train.label=='disagreed']\n",
        "additional_data = pd.DataFrame(data=curr, columns=['title1_en', 'title2_en', 'label'])\n",
        "train = pd.concat([unrelated_train, agreed_train, disagreed_train, additional_data], axis=0)"
      ],
      "metadata": {
        "id": "Y146zpCzabJb"
      },
      "id": "Y146zpCzabJb",
      "execution_count": 184,
      "outputs": []
    },
    {
      "cell_type": "code",
      "source": [
        "train = train.sample(frac=1, random_state=42)"
      ],
      "metadata": {
        "id": "3WpulQKha1kz"
      },
      "id": "3WpulQKha1kz",
      "execution_count": 185,
      "outputs": []
    },
    {
      "cell_type": "code",
      "source": [
        "train.columns"
      ],
      "metadata": {
        "colab": {
          "base_uri": "https://localhost:8080/"
        },
        "id": "ks-DpUFKag_y",
        "outputId": "557d1234-454b-46c0-db06-74db3f6b70c4"
      },
      "id": "ks-DpUFKag_y",
      "execution_count": 186,
      "outputs": [
        {
          "output_type": "execute_result",
          "data": {
            "text/plain": [
              "Index(['title1_en', 'title2_en', 'label'], dtype='object')"
            ]
          },
          "metadata": {},
          "execution_count": 186
        }
      ]
    },
    {
      "cell_type": "code",
      "source": [
        "sns.countplot(x=train['label'])\n",
        "plt.title(\"Label Count\")\n",
        "plt.xlabel(\"Labels\")"
      ],
      "metadata": {
        "colab": {
          "base_uri": "https://localhost:8080/",
          "height": 497
        },
        "id": "EnIx9U5JbYgC",
        "outputId": "081770d1-9684-4a7f-c57a-8ef7a3d12b74"
      },
      "id": "EnIx9U5JbYgC",
      "execution_count": 187,
      "outputs": [
        {
          "output_type": "execute_result",
          "data": {
            "text/plain": [
              "Text(0.5, 0, 'Labels')"
            ]
          },
          "metadata": {},
          "execution_count": 187
        },
        {
          "output_type": "display_data",
          "data": {
            "text/plain": [
              "<Figure size 640x480 with 1 Axes>"
            ],
            "image/png": "[encoded data removed]"
          },
          "metadata": {}
        }
      ]
    },
    {
      "cell_type": "code",
      "source": [
        "train['label'] = train['label'].map({'unrelated':0, 'agreed':1, 'disagreed':2}).astype(np.uint8)\n",
        "train.label.unique()"
      ],
      "metadata": {
        "colab": {
          "base_uri": "https://localhost:8080/"
        },
        "id": "uCsoxgzl6HK0",
        "outputId": "07098158-3e85-4e9c-db94-85a97e93f501"
      },
      "id": "uCsoxgzl6HK0",
      "execution_count": 188,
      "outputs": [
        {
          "output_type": "execute_result",
          "data": {
            "text/plain": [
              "array([0, 1, 2], dtype=uint8)"
            ]
          },
          "metadata": {},
          "execution_count": 188
        }
      ]
    },
    {
      "cell_type": "code",
      "source": [
        "train['label'].value_counts()"
      ],
      "metadata": {
        "colab": {
          "base_uri": "https://localhost:8080/"
        },
        "id": "Xc4LH4Y-ne7n",
        "outputId": "b260fc50-10b9-41a3-8ed0-40575e872a55"
      },
      "id": "Xc4LH4Y-ne7n",
      "execution_count": 189,
      "outputs": [
        {
          "output_type": "execute_result",
          "data": {
            "text/plain": [
              "0    161912\n",
              "1     68468\n",
              "2     38682\n",
              "Name: label, dtype: int64"
            ]
          },
          "metadata": {},
          "execution_count": 189
        }
      ]
    },
    {
      "cell_type": "code",
      "source": [
        "val['label'] = val['label'].map({'unrelated':0, 'agreed':1, 'disagreed':2}).astype(np.uint8)"
      ],
      "metadata": {
        "id": "u8pWsoDq3AqA"
      },
      "id": "u8pWsoDq3AqA",
      "execution_count": 190,
      "outputs": []
    },
    {
      "cell_type": "code",
      "source": [
        "train.head()"
      ],
      "metadata": {
        "colab": {
          "base_uri": "https://localhost:8080/",
          "height": 206
        },
        "id": "4JIndm8KaICg",
        "outputId": "eb7e4563-e247-49aa-cb2b-28bbe4207bc9"
      },
      "id": "4JIndm8KaICg",
      "execution_count": 191,
      "outputs": [
        {
          "output_type": "execute_result",
          "data": {
            "text/plain": [
              "                                                title1_en  \\\n",
              "162755  Xiaogan experimental school section a drive-by...   \n",
              "116998  Ma just unveiled five low-cost Internet start-...   \n",
              "110568  Lumbar disc protruding a pig's foot easy to ha...   \n",
              "163708  Li Xiaolu's night-sleepover event, the TV dram...   \n",
              "47100   Don't believe these five children's rumors abo...   \n",
              "\n",
              "                                                title2_en  label  \n",
              "162755  Police in nanjing: eight netizens have been ar...      0  \n",
              "116998  Chery dismisses rumors: there is no \"whole pac...      0  \n",
              "110568  Dizzy hand, pig's feet so eat many benefits, t...      1  \n",
              "163708  Li Xiaolu because of the affair, the cause all...      1  \n",
              "47100   Qiaojia 2 children are killed, the murderer ha...      0  "
            ],
            "text/html": [
              "\n",
              "  <div id=\"df-7e433d49-4983-4b24-9d03-30a1967ba797\">\n",
              "    <div class=\"colab-df-container\">\n",
              "      <div>\n",
              "<style scoped>\n",
              "    .dataframe tbody tr th:only-of-type {\n",
              "        vertical-align: middle;\n",
              "    }\n",
              "\n",
              "    .dataframe tbody tr th {\n",
              "        vertical-align: top;\n",
              "    }\n",
              "\n",
              "    .dataframe thead th {\n",
              "        text-align: right;\n",
              "    }\n",
              "</style>\n",
              "<table border=\"1\" class=\"dataframe\">\n",
              "  <thead>\n",
              "    <tr style=\"text-align: right;\">\n",
              "      <th></th>\n",
              "      <th>title1_en</th>\n",
              "      <th>title2_en</th>\n",
              "      <th>label</th>\n",
              "    </tr>\n",
              "  </thead>\n",
              "  <tbody>\n",
              "    <tr>\n",
              "      <th>162755</th>\n",
              "      <td>Xiaogan experimental school section a drive-by...</td>\n",
              "      <td>Police in nanjing: eight netizens have been ar...</td>\n",
              "      <td>0</td>\n",
              "    </tr>\n",
              "    <tr>\n",
              "      <th>116998</th>\n",
              "      <td>Ma just unveiled five low-cost Internet start-...</td>\n",
              "      <td>Chery dismisses rumors: there is no \"whole pac...</td>\n",
              "      <td>0</td>\n",
              "    </tr>\n",
              "    <tr>\n",
              "      <th>110568</th>\n",
              "      <td>Lumbar disc protruding a pig's foot easy to ha...</td>\n",
              "      <td>Dizzy hand, pig's feet so eat many benefits, t...</td>\n",
              "      <td>1</td>\n",
              "    </tr>\n",
              "    <tr>\n",
              "      <th>163708</th>\n",
              "      <td>Li Xiaolu's night-sleepover event, the TV dram...</td>\n",
              "      <td>Li Xiaolu because of the affair, the cause all...</td>\n",
              "      <td>1</td>\n",
              "    </tr>\n",
              "    <tr>\n",
              "      <th>47100</th>\n",
              "      <td>Don't believe these five children's rumors abo...</td>\n",
              "      <td>Qiaojia 2 children are killed, the murderer ha...</td>\n",
              "      <td>0</td>\n",
              "    </tr>\n",
              "  </tbody>\n",
              "</table>\n",
              "</div>\n",
              "      <button class=\"colab-df-convert\" onclick=\"convertToInteractive('df-7e433d49-4983-4b24-9d03-30a1967ba797')\"\n",
              "              title=\"Convert this dataframe to an interactive table.\"\n",
              "              style=\"display:none;\">\n",
              "        \n",
              "  <svg xmlns=\"http://www.w3.org/2000/svg\" height=\"24px\"viewBox=\"0 0 24 24\"\n",
              "       width=\"24px\">\n",
              "    <path d=\"M0 0h24v24H0V0z\" fill=\"none\"/>\n",
              "    <path d=\"M18.56 5.44l.94 2.06.94-2.06 2.06-.94-2.06-.94-.94-2.06-.94 2.06-2.06.94zm-11 1L8.5 8.5l.94-2.06 2.06-.94-2.06-.94L8.5 2.5l-.94 2.06-2.06.94zm10 10l.94 2.06.94-2.06 2.06-.94-2.06-.94-.94-2.06-.94 2.06-2.06.94z\"/><path d=\"M17.41 7.96l-1.37-1.37c-.4-.4-.92-.59-1.43-.59-.52 0-1.04.2-1.43.59L10.3 9.45l-7.72 7.72c-.78.78-.78 2.05 0 2.83L4 21.41c.39.39.9.59 1.41.59.51 0 1.02-.2 1.41-.59l7.78-7.78 2.81-2.81c.8-.78.8-2.07 0-2.86zM5.41 20L4 18.59l7.72-7.72 1.47 1.35L5.41 20z\"/>\n",
              "  </svg>\n",
              "      </button>\n",
              "      \n",
              "  <style>\n",
              "    .colab-df-container {\n",
              "      display:flex;\n",
              "      flex-wrap:wrap;\n",
              "      gap: 12px;\n",
              "    }\n",
              "\n",
              "    .colab-df-convert {\n",
              "      background-color: #E8F0FE;\n",
              "      border: none;\n",
              "      border-radius: 50%;\n",
              "      cursor: pointer;\n",
              "      display: none;\n",
              "      fill: #1967D2;\n",
              "      height: 32px;\n",
              "      padding: 0 0 0 0;\n",
              "      width: 32px;\n",
              "    }\n",
              "\n",
              "    .colab-df-convert:hover {\n",
              "      background-color: #E2EBFA;\n",
              "      box-shadow: 0px 1px 2px rgba(60, 64, 67, 0.3), 0px 1px 3px 1px rgba(60, 64, 67, 0.15);\n",
              "      fill: #174EA6;\n",
              "    }\n",
              "\n",
              "    [theme=dark] .colab-df-convert {\n",
              "      background-color: #3B4455;\n",
              "      fill: #D2E3FC;\n",
              "    }\n",
              "\n",
              "    [theme=dark] .colab-df-convert:hover {\n",
              "      background-color: #434B5C;\n",
              "      box-shadow: 0px 1px 3px 1px rgba(0, 0, 0, 0.15);\n",
              "      filter: drop-shadow(0px 1px 2px rgba(0, 0, 0, 0.3));\n",
              "      fill: #FFFFFF;\n",
              "    }\n",
              "  </style>\n",
              "\n",
              "      <script>\n",
              "        const buttonEl =\n",
              "          document.querySelector('#df-7e433d49-4983-4b24-9d03-30a1967ba797 button.colab-df-convert');\n",
              "        buttonEl.style.display =\n",
              "          google.colab.kernel.accessAllowed ? 'block' : 'none';\n",
              "\n",
              "        async function convertToInteractive(key) {\n",
              "          const element = document.querySelector('#df-7e433d49-4983-4b24-9d03-30a1967ba797');\n",
              "          const dataTable =\n",
              "            await google.colab.kernel.invokeFunction('convertToInteractive',\n",
              "                                                     [key], {});\n",
              "          if (!dataTable) return;\n",
              "\n",
              "          const docLinkHtml = 'Like what you see? Visit the ' +\n",
              "            '<a target=\"_blank\" href=https://colab.research.google.com/notebooks/data_table.ipynb>data table notebook</a>'\n",
              "            + ' to learn more about interactive tables.';\n",
              "          element.innerHTML = '';\n",
              "          dataTable['output_type'] = 'display_data';\n",
              "          await google.colab.output.renderOutput(dataTable, element);\n",
              "          const docLink = document.createElement('div');\n",
              "          docLink.innerHTML = docLinkHtml;\n",
              "          element.appendChild(docLink);\n",
              "        }\n",
              "      </script>\n",
              "    </div>\n",
              "  </div>\n",
              "  "
            ]
          },
          "metadata": {},
          "execution_count": 191
        }
      ]
    },
    {
      "cell_type": "code",
      "source": [
        "train['label'].value_counts()"
      ],
      "metadata": {
        "colab": {
          "base_uri": "https://localhost:8080/"
        },
        "id": "xsaaXXTweTUe",
        "outputId": "f9ae6c0b-2f61-40ab-d823-c5ddcb197441"
      },
      "id": "xsaaXXTweTUe",
      "execution_count": 192,
      "outputs": [
        {
          "output_type": "execute_result",
          "data": {
            "text/plain": [
              "0    161912\n",
              "1     68468\n",
              "2     38682\n",
              "Name: label, dtype: int64"
            ]
          },
          "metadata": {},
          "execution_count": 192
        }
      ]
    },
    {
      "cell_type": "markdown",
      "source": [
        "### Text preprocessing\n",
        "#### Assign an index to each word\n",
        "#### Count words to see most common words"
      ],
      "metadata": {
        "id": "ZE5GQyPG8e_7"
      },
      "id": "ZE5GQyPG8e_7"
    },
    {
      "cell_type": "code",
      "source": [
        "#  keras.datasets.imdb.load_data(num_words=max_words)\n",
        "from nltk.tokenize import word_tokenize\n",
        "from nltk.corpus import stopwords\n",
        "import re\n",
        "import nltk\n",
        "import string\n",
        "nltk.download('punkt')\n",
        "nltk.download('stopwords')\n",
        "nltk.download('wordnet')\n",
        "\n",
        "UNWANTED_WORDS = ['ho', 'unk', 'ha', 'honey']\n",
        "def transform_text(s):\n",
        "    # Remove websites\n",
        "    s = re.sub(r\"http\\S+\", \"\", s) \n",
        "    s = re.sub(r\"www.\\S+\", \"\", s) \n",
        "    # Remove numbers\n",
        "    s = re.sub(r'\\d+', '', s)\n",
        "    # Remove punctuation\n",
        "    s = \"\".join([char.lower() for char in s if char not in string.punctuation])\n",
        "    tokenized = word_tokenize(s)\n",
        "    tokenized =  [w for w in tokenized if not w.lower() in stop_words]\n",
        "    # Apply lemmatization\n",
        "    tokenized = [lemmatizer.lemmatize(w) for w in tokenized]\n",
        "\n",
        "    return tokenized\n",
        "\n",
        "curr = 1\n",
        "lemmatizer = nltk.stem.WordNetLemmatizer()\n",
        "stop_words = set(stopwords.words('english'))\n",
        "str_to_int = dict()\n",
        "word_count = dict()\n",
        "title1_en = []\n",
        "title2_en = []\n",
        "# Preprocess training\n",
        "for s in train['title1_en']:\n",
        "  tokenized = transform_text(s)\n",
        "  l = []\n",
        "  for w in tokenized:\n",
        "    if w in UNWANTED_WORDS:\n",
        "      l.append(0)\n",
        "      continue\n",
        "    if w not in str_to_int:\n",
        "      str_to_int[w] = curr\n",
        "      word_count[w] = 1\n",
        "      curr += 1\n",
        "    if w in word_count: word_count[w] += 1\n",
        "    l.append(str_to_int[w])\n",
        "  # if len(l) < max_len:\n",
        "  title1_en.append(l)\n",
        "\n",
        "for s in train['title2_en']:\n",
        "  tokenized = transform_text(s)\n",
        "  l = []\n",
        "  for w in tokenized:\n",
        "    if w in UNWANTED_WORDS:\n",
        "      l.append(0)\n",
        "      continue\n",
        "    if w not in str_to_int:\n",
        "      str_to_int[w] = curr\n",
        "      word_count[w] = 1\n",
        "      curr += 1\n",
        "    if w in word_count: word_count[w] += 1\n",
        "    l.append(str_to_int[w])\n",
        "  # if len(l) < max_len:\n",
        "  title2_en.append(l)\n",
        "\n",
        "# Preprocess validation\n",
        "# Preprocess testing\n",
        "val_title1_en = []\n",
        "val_title2_en = []\n",
        "for s in val['title1_en']:\n",
        "  tokenized = transform_text(s)\n",
        "  l = []\n",
        "  for w in tokenized:\n",
        "    if w in UNWANTED_WORDS:\n",
        "      l.append(0)\n",
        "      continue\n",
        "    if w not in str_to_int:\n",
        "      print(\"not in\")\n",
        "      str_to_int[w] = 0\n",
        "\n",
        "    if w in word_count: word_count[w] += 1\n",
        "    l.append(str_to_int[w])\n",
        "  # if len(l) < max_len:\n",
        "  val_title1_en.append(l)\n",
        "\n",
        "for s in val['title2_en']:\n",
        "  tokenized = transform_text(s)\n",
        "  l = []\n",
        "  for w in tokenized:\n",
        "    if w in UNWANTED_WORDS:\n",
        "      l.append(0)\n",
        "      continue\n",
        "    if w not in str_to_int:\n",
        "      str_to_int[w] = 0\n",
        "    if w in word_count: word_count[w] += 1\n",
        "    l.append(str_to_int[w])\n",
        "  val_title2_en.append(l)\n",
        "    \n",
        "# Preprocess testing\n",
        "test_title1_en = []\n",
        "test_title2_en = []\n",
        "for s in test['title1_en']:\n",
        "  tokenized = transform_text(s)\n",
        "  l = []\n",
        "  for w in tokenized:\n",
        "    if w in UNWANTED_WORDS:\n",
        "      l.append(0)\n",
        "      continue\n",
        "    if w not in str_to_int:\n",
        "      print(\"not in\")\n",
        "      str_to_int[w] = 0\n",
        "\n",
        "    if w in word_count: word_count[w] += 1\n",
        "    l.append(str_to_int[w])\n",
        "  # if len(l) < max_len:\n",
        "  test_title1_en.append(l)\n",
        "\n",
        "for s in test['title2_en']:\n",
        "  tokenized = transform_text(s)\n",
        "  l = []\n",
        "  for w in tokenized:\n",
        "    if w in UNWANTED_WORDS:\n",
        "      l.append(0)\n",
        "      continue\n",
        "    if w not in str_to_int:\n",
        "      str_to_int[w] = 0\n",
        "    if w in word_count: word_count[w] += 1\n",
        "    l.append(str_to_int[w])\n",
        "  test_title2_en.append(l)\n",
        "\n",
        "    \n",
        "  \n",
        "    "
      ],
      "metadata": {
        "colab": {
          "base_uri": "https://localhost:8080/"
        },
        "id": "DjNBhojm1gNl",
        "outputId": "42d21923-5352-42b1-d8a0-d025658bfea5"
      },
      "id": "DjNBhojm1gNl",
      "execution_count": 193,
      "outputs": [
        {
          "output_type": "stream",
          "name": "stderr",
          "text": [
            "[nltk_data] Downloading package punkt to /root/nltk_data...\n",
            "[nltk_data]   Package punkt is already up-to-date!\n",
            "[nltk_data] Downloading package stopwords to /root/nltk_data...\n",
            "[nltk_data]   Package stopwords is already up-to-date!\n",
            "[nltk_data] Downloading package wordnet to /root/nltk_data...\n",
            "[nltk_data]   Package wordnet is already up-to-date!\n"
          ]
        },
        {
          "output_type": "stream",
          "name": "stdout",
          "text": [
            "not in\n",
            "not in\n",
            "not in\n",
            "not in\n",
            "not in\n",
            "not in\n",
            "not in\n",
            "not in\n",
            "not in\n",
            "not in\n",
            "not in\n",
            "not in\n",
            "not in\n",
            "not in\n",
            "not in\n",
            "not in\n",
            "not in\n",
            "not in\n",
            "not in\n",
            "not in\n",
            "not in\n",
            "not in\n",
            "not in\n",
            "not in\n",
            "not in\n",
            "not in\n",
            "not in\n",
            "not in\n",
            "not in\n",
            "not in\n",
            "not in\n",
            "not in\n",
            "not in\n",
            "not in\n",
            "not in\n",
            "not in\n",
            "not in\n",
            "not in\n",
            "not in\n",
            "not in\n",
            "not in\n",
            "not in\n",
            "not in\n",
            "not in\n",
            "not in\n",
            "not in\n",
            "not in\n",
            "not in\n",
            "not in\n",
            "not in\n",
            "not in\n",
            "not in\n",
            "not in\n",
            "not in\n",
            "not in\n",
            "not in\n",
            "not in\n",
            "not in\n",
            "not in\n",
            "not in\n",
            "not in\n",
            "not in\n",
            "not in\n",
            "not in\n",
            "not in\n",
            "not in\n",
            "not in\n",
            "not in\n",
            "not in\n",
            "not in\n",
            "not in\n",
            "not in\n",
            "not in\n",
            "not in\n",
            "not in\n",
            "not in\n",
            "not in\n",
            "not in\n",
            "not in\n",
            "not in\n",
            "not in\n",
            "not in\n",
            "not in\n",
            "not in\n",
            "not in\n",
            "not in\n",
            "not in\n",
            "not in\n",
            "not in\n",
            "not in\n",
            "not in\n",
            "not in\n",
            "not in\n",
            "not in\n",
            "not in\n",
            "not in\n",
            "not in\n",
            "not in\n",
            "not in\n",
            "not in\n",
            "not in\n",
            "not in\n",
            "not in\n",
            "not in\n",
            "not in\n",
            "not in\n",
            "not in\n",
            "not in\n",
            "not in\n",
            "not in\n",
            "not in\n",
            "not in\n",
            "not in\n",
            "not in\n",
            "not in\n",
            "not in\n",
            "not in\n",
            "not in\n",
            "not in\n",
            "not in\n",
            "not in\n",
            "not in\n",
            "not in\n",
            "not in\n",
            "not in\n",
            "not in\n",
            "not in\n",
            "not in\n",
            "not in\n",
            "not in\n",
            "not in\n",
            "not in\n",
            "not in\n",
            "not in\n",
            "not in\n",
            "not in\n",
            "not in\n",
            "not in\n",
            "not in\n",
            "not in\n",
            "not in\n",
            "not in\n",
            "not in\n",
            "not in\n",
            "not in\n",
            "not in\n",
            "not in\n",
            "not in\n",
            "not in\n",
            "not in\n",
            "not in\n",
            "not in\n",
            "not in\n",
            "not in\n",
            "not in\n",
            "not in\n",
            "not in\n",
            "not in\n",
            "not in\n",
            "not in\n",
            "not in\n",
            "not in\n",
            "not in\n",
            "not in\n",
            "not in\n",
            "not in\n",
            "not in\n",
            "not in\n",
            "not in\n",
            "not in\n",
            "not in\n",
            "not in\n",
            "not in\n",
            "not in\n",
            "not in\n",
            "not in\n",
            "not in\n",
            "not in\n",
            "not in\n",
            "not in\n",
            "not in\n",
            "not in\n",
            "not in\n",
            "not in\n",
            "not in\n",
            "not in\n",
            "not in\n",
            "not in\n",
            "not in\n",
            "not in\n",
            "not in\n",
            "not in\n",
            "not in\n",
            "not in\n",
            "not in\n",
            "not in\n",
            "not in\n",
            "not in\n",
            "not in\n",
            "not in\n",
            "not in\n",
            "not in\n",
            "not in\n",
            "not in\n",
            "not in\n",
            "not in\n",
            "not in\n",
            "not in\n",
            "not in\n",
            "not in\n",
            "not in\n",
            "not in\n",
            "not in\n",
            "not in\n",
            "not in\n",
            "not in\n",
            "not in\n",
            "not in\n",
            "not in\n",
            "not in\n",
            "not in\n",
            "not in\n",
            "not in\n",
            "not in\n",
            "not in\n",
            "not in\n",
            "not in\n",
            "not in\n",
            "not in\n",
            "not in\n",
            "not in\n",
            "not in\n",
            "not in\n",
            "not in\n",
            "not in\n",
            "not in\n",
            "not in\n",
            "not in\n",
            "not in\n",
            "not in\n",
            "not in\n",
            "not in\n",
            "not in\n",
            "not in\n",
            "not in\n",
            "not in\n",
            "not in\n",
            "not in\n",
            "not in\n",
            "not in\n",
            "not in\n",
            "not in\n",
            "not in\n",
            "not in\n",
            "not in\n",
            "not in\n",
            "not in\n",
            "not in\n",
            "not in\n",
            "not in\n",
            "not in\n",
            "not in\n",
            "not in\n",
            "not in\n",
            "not in\n",
            "not in\n",
            "not in\n",
            "not in\n",
            "not in\n",
            "not in\n",
            "not in\n",
            "not in\n",
            "not in\n",
            "not in\n",
            "not in\n",
            "not in\n",
            "not in\n",
            "not in\n",
            "not in\n",
            "not in\n",
            "not in\n",
            "not in\n",
            "not in\n",
            "not in\n",
            "not in\n",
            "not in\n",
            "not in\n",
            "not in\n",
            "not in\n",
            "not in\n",
            "not in\n",
            "not in\n",
            "not in\n",
            "not in\n",
            "not in\n",
            "not in\n",
            "not in\n",
            "not in\n",
            "not in\n",
            "not in\n",
            "not in\n",
            "not in\n",
            "not in\n",
            "not in\n",
            "not in\n",
            "not in\n",
            "not in\n",
            "not in\n",
            "not in\n",
            "not in\n",
            "not in\n",
            "not in\n",
            "not in\n",
            "not in\n",
            "not in\n",
            "not in\n",
            "not in\n",
            "not in\n",
            "not in\n",
            "not in\n",
            "not in\n",
            "not in\n",
            "not in\n",
            "not in\n",
            "not in\n",
            "not in\n",
            "not in\n",
            "not in\n",
            "not in\n",
            "not in\n",
            "not in\n",
            "not in\n",
            "not in\n",
            "not in\n",
            "not in\n",
            "not in\n",
            "not in\n",
            "not in\n",
            "not in\n",
            "not in\n",
            "not in\n",
            "not in\n",
            "not in\n",
            "not in\n",
            "not in\n",
            "not in\n",
            "not in\n",
            "not in\n",
            "not in\n",
            "not in\n",
            "not in\n",
            "not in\n",
            "not in\n",
            "not in\n",
            "not in\n",
            "not in\n",
            "not in\n",
            "not in\n",
            "not in\n",
            "not in\n",
            "not in\n",
            "not in\n",
            "not in\n",
            "not in\n",
            "not in\n",
            "not in\n",
            "not in\n",
            "not in\n",
            "not in\n",
            "not in\n",
            "not in\n",
            "not in\n",
            "not in\n",
            "not in\n",
            "not in\n",
            "not in\n",
            "not in\n",
            "not in\n",
            "not in\n",
            "not in\n",
            "not in\n",
            "not in\n",
            "not in\n",
            "not in\n",
            "not in\n",
            "not in\n",
            "not in\n",
            "not in\n",
            "not in\n",
            "not in\n",
            "not in\n",
            "not in\n",
            "not in\n",
            "not in\n",
            "not in\n",
            "not in\n",
            "not in\n",
            "not in\n",
            "not in\n",
            "not in\n",
            "not in\n",
            "not in\n",
            "not in\n",
            "not in\n",
            "not in\n",
            "not in\n",
            "not in\n",
            "not in\n",
            "not in\n",
            "not in\n",
            "not in\n",
            "not in\n",
            "not in\n",
            "not in\n",
            "not in\n",
            "not in\n",
            "not in\n",
            "not in\n",
            "not in\n",
            "not in\n",
            "not in\n",
            "not in\n",
            "not in\n",
            "not in\n",
            "not in\n",
            "not in\n",
            "not in\n",
            "not in\n",
            "not in\n",
            "not in\n",
            "not in\n",
            "not in\n",
            "not in\n",
            "not in\n",
            "not in\n",
            "not in\n",
            "not in\n",
            "not in\n",
            "not in\n",
            "not in\n",
            "not in\n",
            "not in\n",
            "not in\n"
          ]
        }
      ]
    },
    {
      "cell_type": "code",
      "source": [
        "max_words = len(list(str_to_int.values()))\n",
        "max_words"
      ],
      "metadata": {
        "colab": {
          "base_uri": "https://localhost:8080/"
        },
        "id": "PidSsc4G7Nj1",
        "outputId": "f86a6a1e-b870-4582-cb10-0d1a86b0b509"
      },
      "id": "PidSsc4G7Nj1",
      "execution_count": 194,
      "outputs": [
        {
          "output_type": "execute_result",
          "data": {
            "text/plain": [
              "46928"
            ]
          },
          "metadata": {},
          "execution_count": 194
        }
      ]
    },
    {
      "cell_type": "code",
      "source": [
        "max_len = 0\n",
        "for d in test_title1_en:\n",
        "   if len(d) > max_len:\n",
        "     max_len = len(d) \n",
        "     print(d)\n",
        "     print(len(d))\n",
        "    \n",
        "\n",
        "for d in test_title2_en:\n",
        "    if len(d) > max_len:\n",
        "     max_len = len(d) \n",
        "     print(d)\n",
        "     print(len(d))\n",
        "\n",
        "for d in val_title1_en:\n",
        "    if len(d) > max_len:\n",
        "     max_len = len(d) \n",
        "     print(d)\n",
        "     print(len(d))\n",
        "\n",
        "for d in val_title2_en:\n",
        "    if len(d) > max_len:\n",
        "     max_len = len(d) \n",
        "     print(d)\n",
        "     print(len(d))\n",
        "\n",
        "for d in title1_en:\n",
        "    if len(d) > max_len:\n",
        "     max_len = len(d) \n",
        "     print(d)\n",
        "     print(len(d))\n",
        "\n",
        "for d in title2_en:\n",
        "    if len(d) > max_len:\n",
        "     max_len = len(d) \n",
        "     print(d)\n",
        "     print(len(d))\n",
        "\n",
        "print()\n",
        "\n",
        "def find_key(input_dict, value):\n",
        "  return next((k for k, v in input_dict.items() if v == value), None)\n",
        "\n",
        "find_key(str_to_int, 2225), find_key(str_to_int, 258), find_key(str_to_int, 7682)\n"
      ],
      "metadata": {
        "colab": {
          "base_uri": "https://localhost:8080/"
        },
        "id": "Z0QSeDSL-pKn",
        "outputId": "755d6a10-624f-43a7-9360-433e4078595e"
      },
      "id": "Z0QSeDSL-pKn",
      "execution_count": 195,
      "outputs": [
        {
          "output_type": "stream",
          "name": "stdout",
          "text": [
            "[374, 13772, 1297, 1815, 1815, 1988, 5136, 97, 794, 1439, 794, 113, 42432, 5367, 153]\n",
            "15\n",
            "[1497, 1498, 5206, 2190, 19805, 1329, 6079, 22099, 405, 15611, 3241, 2238, 69, 5368, 22100, 1163, 405, 69, 405, 549]\n",
            "20\n",
            "[475, 320, 2381, 960, 526, 1864, 4252, 5882, 1677, 503, 0, 1483, 3797, 3691, 3286, 284, 884, 3411, 138, 1649, 65, 187, 7501, 3877, 352]\n",
            "25\n",
            "[3642, 5993, 4326, 2601, 8986, 2601, 951, 650, 5870, 3471, 3943, 5831, 1387, 270, 3493, 156, 952, 131, 274, 3471, 952, 3493, 2333, 960, 3027, 4503]\n",
            "26\n",
            "[2285, 3760, 3761, 507, 1355, 507, 1355, 507, 1355, 507, 1355, 507, 1355, 507, 1355, 507, 1355, 507, 1355, 507, 1355, 507, 1355, 507, 1355, 507, 1355, 507, 1355, 507, 1355, 507, 1355, 507, 1355, 507, 1355, 507, 1355, 507, 1355]\n",
            "41\n",
            "[20527, 439, 1270, 3619, 245, 7115, 7324, 0, 0, 0, 0, 0, 0, 0, 0, 0, 0, 0, 0, 0, 0, 0, 0, 0, 0, 0, 0, 0, 0, 0, 0, 0, 0, 0, 0, 0, 0, 0, 0, 0, 0, 0, 0, 0, 0, 0, 0, 0, 0, 0, 0, 0, 0, 0, 0, 0, 0, 0, 0, 0, 0, 0, 0, 0, 0, 0, 0, 0, 0, 0, 0, 0, 0, 0, 0, 0, 0, 0, 0, 0, 0, 0, 0, 0, 0, 0, 0, 0, 0, 0, 0, 0, 0, 0, 0, 0, 0, 0, 0, 0, 0, 0, 0, 0, 0, 0, 0, 0, 0, 0, 0, 0, 0, 0, 0, 0, 0, 0, 0, 0, 0, 0, 0, 0, 0, 0, 0, 0, 0, 0, 0, 0, 0, 0, 0, 0, 0, 0, 0, 0, 0, 0, 0, 0, 0, 0, 0, 0, 0, 0, 0, 0, 0, 0, 0, 0, 0, 0, 0, 0, 0, 0, 0, 0, 0, 0, 0, 0, 0, 0, 0, 0, 0, 0, 0, 0, 0, 0, 0, 0, 0, 0, 0, 0, 0, 0, 0, 0, 0, 0, 0, 0, 0, 0, 0, 0, 0, 0, 0, 0, 0, 0, 0, 0, 0, 0, 0, 0, 0, 0, 0, 0, 0, 0, 0, 0, 0, 0, 0, 0, 0, 0, 0, 0, 0, 0, 0, 0, 0, 0, 0, 0, 0, 0, 0, 0, 0, 0, 0, 0, 0, 0, 0, 0, 0, 0, 0, 0, 0]\n",
            "249\n",
            "[2328, 2421, 1029, 1029, 1029, 1029, 1029, 1029, 1029, 1029, 1029, 1029, 1029, 1029, 1029, 1029, 1029, 1029, 1029, 1029, 1029, 1029, 1029, 1029, 1029, 1029, 1029, 1029, 1029, 1029, 1029, 1029, 1029, 1029, 1029, 1029, 1029, 1029, 1029, 1029, 1029, 1029, 1029, 1029, 1029, 1029, 1029, 1029, 1029, 1029, 1029, 1029, 1029, 1029, 1029, 1029, 1029, 1029, 1029, 1029, 1029, 1029, 1029, 1029, 1029, 1029, 1029, 1029, 1029, 1029, 1029, 1029, 1029, 1029, 1029, 1029, 1029, 1029, 1029, 1029, 1029, 1029, 1029, 1029, 1029, 1029, 1029, 1029, 1029, 1029, 1029, 1029, 1029, 1029, 1029, 1029, 1029, 1029, 1029, 1029, 1029, 1029, 1029, 1029, 1029, 1029, 1029, 1029, 1029, 1029, 1029, 1029, 1029, 1029, 1029, 1029, 1029, 1029, 1029, 1029, 1029, 1029, 1029, 1029, 1029, 1029, 1029, 1029, 1029, 1029, 1029, 1029, 1029, 1029, 1029, 1029, 1029, 1029, 1029, 1029, 1029, 1029, 1029, 1029, 1029, 1029, 1029, 1029, 1029, 1029, 1029, 1029, 1029, 1029, 1029, 1029, 1029, 1029, 1029, 1029, 1029, 1029, 1029, 1029, 1029, 1029, 1029, 1029, 1029, 1029, 1029, 1029, 1029, 1029, 1029, 1029, 1029, 1029, 1029, 1029, 1029, 1029, 1029, 1029, 1029, 1029, 1029, 1029, 1029, 1029, 1029, 1029, 1029, 1029, 1029, 1029, 1029, 1029, 1029, 1029, 1029, 1029, 1029, 1029, 1029, 1029, 1029, 1029, 1029, 1029, 1029, 1029, 1029, 1029, 1029, 1029, 1029, 1029, 1029, 1029, 1029, 1029, 1029, 1029, 1029, 1029, 1029, 1029, 1029, 1029, 1029, 1029, 1029, 1029, 1029, 1029, 1029, 1029, 1029, 1029, 1029, 1029, 1029, 1029, 1029, 1029, 1029, 1029, 1029, 1029]\n",
            "250\n",
            "[16611, 0, 0, 0, 0, 0, 0, 0, 0, 0, 0, 0, 0, 0, 0, 0, 0, 0, 0, 0, 0, 0, 0, 0, 0, 0, 0, 0, 0, 0, 0, 0, 0, 0, 0, 0, 0, 0, 0, 0, 0, 0, 0, 0, 0, 0, 0, 0, 0, 0, 0, 0, 0, 0, 0, 0, 0, 0, 0, 0, 0, 0, 0, 0, 0, 0, 0, 0, 0, 0, 0, 0, 0, 0, 0, 0, 0, 0, 0, 0, 0, 0, 0, 0, 0, 0, 0, 0, 0, 0, 0, 0, 0, 0, 0, 0, 0, 0, 0, 0, 0, 0, 0, 0, 0, 0, 0, 0, 0, 0, 0, 0, 0, 0, 0, 0, 0, 0, 0, 0, 0, 0, 0, 0, 0, 0, 0, 0, 0, 0, 0, 0, 0, 0, 0, 0, 0, 0, 0, 0, 0, 0, 0, 0, 0, 0, 0, 0, 0, 0, 0, 0, 0, 0, 0, 0, 0, 0, 0, 0, 0, 0, 0, 0, 0, 0, 0, 0, 0, 0, 0, 0, 0, 0, 0, 0, 0, 0, 0, 0, 0, 0, 0, 0, 0, 0, 0, 0, 0, 0, 0, 0, 0, 0, 0, 0, 0, 0, 0, 0, 0, 0, 0, 0, 0, 0, 0, 0, 0, 0, 0, 0, 0, 0, 0, 0, 0, 0, 0, 0, 0, 0, 0, 0, 0, 0, 0, 0, 0, 0, 0, 0, 0, 0, 0, 0, 0, 0, 0, 0, 0, 0, 0, 0, 0, 0, 0, 0, 0, 0, 0, 0, 0, 0, 0, 0, 0, 0, 0, 0, 0, 0, 0, 0, 0, 0, 0, 0, 0, 0, 0, 0, 0, 0, 0, 0, 0, 0, 0, 0, 0, 0, 0, 0, 0, 0, 0, 0, 0, 0, 0, 0, 0, 0, 0, 0, 0, 0, 0, 0, 0, 0, 0, 0, 0, 0, 0, 0, 0, 0, 0, 0, 0, 0, 0, 0, 0, 0, 0, 0, 0, 0, 0, 0, 0, 0, 0, 0, 0, 0, 0, 0, 0, 0, 0, 0, 0, 0, 0, 0, 0, 0, 0, 0, 0, 0, 0, 0, 0, 0, 0, 0, 0, 0, 0, 0, 0, 0, 0, 0, 0, 0, 0, 0, 0, 0, 0, 0, 0, 0, 0, 0, 0, 0, 0, 0, 0, 0, 0, 0, 0, 0, 0, 0, 0, 0, 0, 0, 0, 0, 0, 0, 0, 0, 0, 0, 0, 0, 0, 0, 0, 0, 0, 0, 0, 0, 0, 0, 0, 0, 0, 0, 0, 0, 0, 0, 0, 0, 0, 0, 0, 0, 0, 0, 0, 0, 0, 0, 0, 0, 0, 0, 0, 0, 0, 0, 0, 0, 0, 0, 0, 0, 0, 0, 0, 0, 0, 0, 0, 0, 0, 0, 0, 0, 0, 0, 0, 0, 0, 0, 0, 0, 0, 0, 0, 0, 0, 0, 0, 0, 0, 0, 0, 0, 0, 0, 0, 0, 0, 0, 0, 0, 0, 0, 0, 0, 0, 0, 0, 0, 0, 0, 0, 0, 0, 0, 0, 0]\n",
            "498\n",
            "\n"
          ]
        },
        {
          "output_type": "execute_result",
          "data": {
            "text/plain": [
              "('resist', 'spanking', 'fiske')"
            ]
          },
          "metadata": {},
          "execution_count": 195
        }
      ]
    },
    {
      "cell_type": "code",
      "execution_count": 196,
      "id": "e2579747",
      "metadata": {
        "colab": {
          "base_uri": "https://localhost:8080/"
        },
        "id": "e2579747",
        "outputId": "302e0510-e264-4af0-9e0e-5d49cd6c56eb"
      },
      "outputs": [
        {
          "output_type": "stream",
          "name": "stderr",
          "text": [
            "<ipython-input-196-72d927538e67>:3: VisibleDeprecationWarning: Creating an ndarray from ragged nested sequences (which is a list-or-tuple of lists-or-tuples-or ndarrays with different lengths or shapes) is deprecated. If you meant to do this, you must specify 'dtype=object' when creating the ndarray.\n",
            "  title1_en_padded = pad_sequences(np.array(title1_en), maxlen=max_len)\n",
            "<ipython-input-196-72d927538e67>:4: VisibleDeprecationWarning: Creating an ndarray from ragged nested sequences (which is a list-or-tuple of lists-or-tuples-or ndarrays with different lengths or shapes) is deprecated. If you meant to do this, you must specify 'dtype=object' when creating the ndarray.\n",
            "  title2_en_padded = pad_sequences(np.array(title2_en), maxlen=max_len)\n",
            "<ipython-input-196-72d927538e67>:6: VisibleDeprecationWarning: Creating an ndarray from ragged nested sequences (which is a list-or-tuple of lists-or-tuples-or ndarrays with different lengths or shapes) is deprecated. If you meant to do this, you must specify 'dtype=object' when creating the ndarray.\n",
            "  val_title1_en_padded = pad_sequences(np.array(val_title1_en), maxlen=max_len)\n",
            "<ipython-input-196-72d927538e67>:7: VisibleDeprecationWarning: Creating an ndarray from ragged nested sequences (which is a list-or-tuple of lists-or-tuples-or ndarrays with different lengths or shapes) is deprecated. If you meant to do this, you must specify 'dtype=object' when creating the ndarray.\n",
            "  val_title2_en_padded = pad_sequences(np.array(val_title2_en), maxlen=max_len)\n",
            "<ipython-input-196-72d927538e67>:9: VisibleDeprecationWarning: Creating an ndarray from ragged nested sequences (which is a list-or-tuple of lists-or-tuples-or ndarrays with different lengths or shapes) is deprecated. If you meant to do this, you must specify 'dtype=object' when creating the ndarray.\n",
            "  test_title1_en_padded = pad_sequences(np.array(test_title1_en), maxlen=max_len)\n",
            "<ipython-input-196-72d927538e67>:10: VisibleDeprecationWarning: Creating an ndarray from ragged nested sequences (which is a list-or-tuple of lists-or-tuples-or ndarrays with different lengths or shapes) is deprecated. If you meant to do this, you must specify 'dtype=object' when creating the ndarray.\n",
            "  test_title2_en_padded = pad_sequences(np.array(test_title2_en), maxlen=max_len)\n"
          ]
        },
        {
          "output_type": "execute_result",
          "data": {
            "text/plain": [
              "(269062, 269062, 269062)"
            ]
          },
          "metadata": {},
          "execution_count": 196
        }
      ],
      "source": [
        "# train = train[['title1_en', 'title2_en']]\n",
        "# Padding training set\n",
        "title1_en_padded = pad_sequences(np.array(title1_en), maxlen=max_len)\n",
        "title2_en_padded = pad_sequences(np.array(title2_en), maxlen=max_len)\n",
        "# Padding validation set\n",
        "val_title1_en_padded = pad_sequences(np.array(val_title1_en), maxlen=max_len)\n",
        "val_title2_en_padded = pad_sequences(np.array(val_title2_en), maxlen=max_len)\n",
        "# Padding testing set\n",
        "test_title1_en_padded = pad_sequences(np.array(test_title1_en), maxlen=max_len)\n",
        "test_title2_en_padded = pad_sequences(np.array(test_title2_en), maxlen=max_len)\n",
        "train_full = np.array([np.array([title1_en_padded[i], title2_en_padded[i]]) for i in range(len(title1_en_padded))])\n",
        "len(train['label']), len(title1_en), len(title2_en)\n",
        "\n",
        "\n",
        "# X_train, X_val, y_train, y_val = train_test_split(train_full, train['label'], test_size=0, random_state=42)"
      ]
    },
    {
      "cell_type": "markdown",
      "source": [
        "#### Our model is intended to have 2 inputs"
      ],
      "metadata": {
        "id": "EKlbyPrYEEgr"
      },
      "id": "EKlbyPrYEEgr"
    },
    {
      "cell_type": "code",
      "source": [
        "input1 = train_full[:, 0, :]\n",
        "input2 = train_full[:, 1, :]\n",
        "val1 = val_title1_en_padded\n",
        "val2 = val_title2_en_padded\n",
        "test1 = test_title1_en_padded\n",
        "test2 = test_title2_en_padded"
      ],
      "metadata": {
        "id": "S4l-hOfWCxNN"
      },
      "id": "S4l-hOfWCxNN",
      "execution_count": 197,
      "outputs": []
    },
    {
      "cell_type": "code",
      "source": [
        "print(input1[-1][-1], input2[-1][-1])"
      ],
      "metadata": {
        "colab": {
          "base_uri": "https://localhost:8080/"
        },
        "id": "pVF6s8-kFybP",
        "outputId": "3df7b894-cd87-4859-ba92-9ea08d386464"
      },
      "id": "pVF6s8-kFybP",
      "execution_count": 198,
      "outputs": [
        {
          "output_type": "stream",
          "name": "stdout",
          "text": [
            "1152 1899\n"
          ]
        }
      ]
    },
    {
      "cell_type": "code",
      "source": [
        "# Model\n",
        "inputs1 = Input(shape=(None,), name='title1_en') # title1_en\n",
        "inputs2 = Input(shape=(None,), name='title2_en') # title2_en\n",
        "\n",
        "embedding1 = Embedding(max_words, embedding_dim-50)(inputs1)\n",
        "embedding2 = Embedding(max_words, embedding_dim-50)(inputs2)\n",
        "\n",
        "conv1 = Conv1D(128, 3, activation='relu')(embedding1)\n",
        "conv2 = Conv1D(128, 3, activation='relu')(embedding2)\n",
        "\n",
        "pool1 = MaxPooling1D()(conv1)\n",
        "pool2 = MaxPooling1D()(conv2)\n",
        "\n",
        "lstm1 = LSTM(64)(pool1)\n",
        "lstm2 = LSTM(64)(pool2)\n",
        "\n",
        "x1 = Dense(32)(lstm1)\n",
        "x2 = Dense(32)(lstm2)\n",
        "\n",
        "conc = concatenate([x1, x2], axis=-1)\n",
        "x = Dense(16, activation='relu')(conc)\n",
        "\n",
        "y = Dense(3, activation='softmax')(x)\n",
        "\n",
        "model = Model([inputs1, inputs2], y)\n",
        "model.summary()\n",
        "\n"
      ],
      "metadata": {
        "colab": {
          "base_uri": "https://localhost:8080/"
        },
        "id": "Ev3oeD3W_ni3",
        "outputId": "19d3c896-c8ab-491d-a2d5-a950a5af6806"
      },
      "id": "Ev3oeD3W_ni3",
      "execution_count": 199,
      "outputs": [
        {
          "output_type": "stream",
          "name": "stdout",
          "text": [
            "Model: \"model_2\"\n",
            "__________________________________________________________________________________________________\n",
            " Layer (type)                   Output Shape         Param #     Connected to                     \n",
            "==================================================================================================\n",
            " title1_en (InputLayer)         [(None, None)]       0           []                               \n",
            "                                                                                                  \n",
            " title2_en (InputLayer)         [(None, None)]       0           []                               \n",
            "                                                                                                  \n",
            " embedding_4 (Embedding)        (None, None, 50)     2346400     ['title1_en[0][0]']              \n",
            "                                                                                                  \n",
            " embedding_5 (Embedding)        (None, None, 50)     2346400     ['title2_en[0][0]']              \n",
            "                                                                                                  \n",
            " conv1d_4 (Conv1D)              (None, None, 128)    19328       ['embedding_4[0][0]']            \n",
            "                                                                                                  \n",
            " conv1d_5 (Conv1D)              (None, None, 128)    19328       ['embedding_5[0][0]']            \n",
            "                                                                                                  \n",
            " max_pooling1d_4 (MaxPooling1D)  (None, None, 128)   0           ['conv1d_4[0][0]']               \n",
            "                                                                                                  \n",
            " max_pooling1d_5 (MaxPooling1D)  (None, None, 128)   0           ['conv1d_5[0][0]']               \n",
            "                                                                                                  \n",
            " lstm_4 (LSTM)                  (None, 64)           49408       ['max_pooling1d_4[0][0]']        \n",
            "                                                                                                  \n",
            " lstm_5 (LSTM)                  (None, 64)           49408       ['max_pooling1d_5[0][0]']        \n",
            "                                                                                                  \n",
            " dense_8 (Dense)                (None, 32)           2080        ['lstm_4[0][0]']                 \n",
            "                                                                                                  \n",
            " dense_9 (Dense)                (None, 32)           2080        ['lstm_5[0][0]']                 \n",
            "                                                                                                  \n",
            " concatenate_2 (Concatenate)    (None, 64)           0           ['dense_8[0][0]',                \n",
            "                                                                  'dense_9[0][0]']                \n",
            "                                                                                                  \n",
            " dense_10 (Dense)               (None, 16)           1040        ['concatenate_2[0][0]']          \n",
            "                                                                                                  \n",
            " dense_11 (Dense)               (None, 3)            51          ['dense_10[0][0]']               \n",
            "                                                                                                  \n",
            "==================================================================================================\n",
            "Total params: 4,835,523\n",
            "Trainable params: 4,835,523\n",
            "Non-trainable params: 0\n",
            "__________________________________________________________________________________________________\n"
          ]
        }
      ]
    },
    {
      "cell_type": "code",
      "source": [
        "train['label']"
      ],
      "metadata": {
        "colab": {
          "base_uri": "https://localhost:8080/"
        },
        "id": "8i4qxMxR34lU",
        "outputId": "0dca353b-56bb-4fc2-bdbf-29457e684dce"
      },
      "id": "8i4qxMxR34lU",
      "execution_count": 200,
      "outputs": [
        {
          "output_type": "execute_result",
          "data": {
            "text/plain": [
              "162755    0\n",
              "116998    0\n",
              "110568    1\n",
              "163708    1\n",
              "47100     0\n",
              "         ..\n",
              "215683    0\n",
              "22736     2\n",
              "199192    0\n",
              "65197     0\n",
              "158478    0\n",
              "Name: label, Length: 269062, dtype: uint8"
            ]
          },
          "metadata": {},
          "execution_count": 200
        }
      ]
    },
    {
      "cell_type": "code",
      "source": [
        "val['label'], len(val2)"
      ],
      "metadata": {
        "colab": {
          "base_uri": "https://localhost:8080/"
        },
        "id": "aX5_A8FulGab",
        "outputId": "0103a0fe-0b73-474c-cb28-f6370b9fe926"
      },
      "id": "aX5_A8FulGab",
      "execution_count": 201,
      "outputs": [
        {
          "output_type": "execute_result",
          "data": {
            "text/plain": [
              "(40570     1\n",
              " 225266    0\n",
              " 17687     0\n",
              " 13783     0\n",
              " 127289    1\n",
              "          ..\n",
              " 113467    0\n",
              " 238386    1\n",
              " 82300     0\n",
              " 247598    0\n",
              " 124551    0\n",
              " Name: label, Length: 20000, dtype: uint8,\n",
              " 20000)"
            ]
          },
          "metadata": {},
          "execution_count": 201
        }
      ]
    },
    {
      "cell_type": "code",
      "source": [
        "model.compile(loss=\"sparse_categorical_crossentropy\", optimizer=tf.keras.optimizers.Adam(learning_rate=0.0001), metrics=['accuracy']) \n",
        "history = model.fit([input1, input2], np.array(train['label']), validation_data=([val1, val2], val['label']), epochs=5)"
      ],
      "metadata": {
        "colab": {
          "base_uri": "https://localhost:8080/"
        },
        "id": "Jh5iAxpWWLW5",
        "outputId": "67a5d1e5-f0be-4f3b-c8ca-17296491c233"
      },
      "id": "Jh5iAxpWWLW5",
      "execution_count": 202,
      "outputs": [
        {
          "output_type": "stream",
          "name": "stdout",
          "text": [
            "Epoch 1/5\n",
            "8409/8409 [==============================] - 210s 24ms/step - loss: 0.5746 - accuracy: 0.7247 - val_loss: 0.4974 - val_accuracy: 0.7655\n",
            "Epoch 2/5\n",
            "8409/8409 [==============================] - 173s 21ms/step - loss: 0.3882 - accuracy: 0.8228 - val_loss: 0.4573 - val_accuracy: 0.7940\n",
            "Epoch 3/5\n",
            "8409/8409 [==============================] - 172s 21ms/step - loss: 0.3145 - accuracy: 0.8613 - val_loss: 0.4357 - val_accuracy: 0.8160\n",
            "Epoch 4/5\n",
            "8409/8409 [==============================] - 171s 20ms/step - loss: 0.2670 - accuracy: 0.8848 - val_loss: 0.4370 - val_accuracy: 0.8277\n",
            "Epoch 5/5\n",
            "8409/8409 [==============================] - 171s 20ms/step - loss: 0.2311 - accuracy: 0.9026 - val_loss: 0.4471 - val_accuracy: 0.8291\n"
          ]
        }
      ]
    },
    {
      "cell_type": "code",
      "execution_count": 203,
      "id": "3e6c208d",
      "metadata": {
        "id": "3e6c208d",
        "colab": {
          "base_uri": "https://localhost:8080/"
        },
        "outputId": "2fc38811-55e5-47d6-adb8-47eec4fb0172"
      },
      "outputs": [
        {
          "output_type": "stream",
          "name": "stdout",
          "text": [
            "625/625 [==============================] - 5s 7ms/step\n"
          ]
        }
      ],
      "source": [
        "y_pred = model.predict([val1, val2])\n",
        "# movie = keras.datasets.imdb.load_data(num_words=max_words)"
      ]
    },
    {
      "cell_type": "markdown",
      "source": [],
      "metadata": {
        "id": "kipRi-mDjQ8K"
      },
      "id": "kipRi-mDjQ8K"
    },
    {
      "cell_type": "code",
      "source": [
        "y_pred = np.argmax(y_pred, axis=1)"
      ],
      "metadata": {
        "id": "zM_8q_nP-Zah"
      },
      "id": "zM_8q_nP-Zah",
      "execution_count": 204,
      "outputs": []
    },
    {
      "cell_type": "code",
      "source": [
        "from sklearn.metrics import classification_report"
      ],
      "metadata": {
        "id": "vHLPRAXYFqoT"
      },
      "id": "vHLPRAXYFqoT",
      "execution_count": 208,
      "outputs": []
    },
    {
      "cell_type": "code",
      "source": [
        "print(classification_report(val['label'], y_pred))"
      ],
      "metadata": {
        "colab": {
          "base_uri": "https://localhost:8080/"
        },
        "id": "wMrRn7bjBKFB",
        "outputId": "681976a4-3a41-4e7d-b054-cc43d8ee8d82"
      },
      "id": "wMrRn7bjBKFB",
      "execution_count": 205,
      "outputs": [
        {
          "output_type": "stream",
          "name": "stdout",
          "text": [
            "              precision    recall  f1-score   support\n",
            "\n",
            "           0       0.88      0.86      0.87     13686\n",
            "           1       0.73      0.77      0.75      5770\n",
            "           2       0.56      0.55      0.56       544\n",
            "\n",
            "    accuracy                           0.83     20000\n",
            "   macro avg       0.73      0.73      0.73     20000\n",
            "weighted avg       0.83      0.83      0.83     20000\n",
            "\n"
          ]
        }
      ]
    }
  ],
  "metadata": {
    "kernelspec": {
      "display_name": "Python 3 (ipykernel)",
      "language": "python",
      "name": "python3"
    },
    "language_info": {
      "codemirror_mode": {
        "name": "ipython",
        "version": 3
      },
      "file_extension": ".py",
      "mimetype": "text/x-python",
      "name": "python",
      "nbconvert_exporter": "python",
      "pygments_lexer": "ipython3",
      "version": "3.8.5"
    },
    "colab": {
      "provenance": []
    },
    "accelerator": "GPU",
    "gpuClass": "premium"
  },
  "nbformat": 4,
  "nbformat_minor": 5
}