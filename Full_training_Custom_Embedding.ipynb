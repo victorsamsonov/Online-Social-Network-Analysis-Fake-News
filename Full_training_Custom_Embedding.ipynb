{
  "cells": [
    {
      "cell_type": "code",
      "source": [
        "!unzip glove.6B.zip -d my_data\n"
      ],
      "metadata": {
        "colab": {
          "base_uri": "https://localhost:8080/"
        },
        "id": "nwkn4PwyvreF",
        "outputId": "e6852d51-f479-43f1-8077-682f561666e4"
      },
      "id": "nwkn4PwyvreF",
      "execution_count": null,
      "outputs": [
        {
          "output_type": "stream",
          "name": "stdout",
          "text": [
            "unzip:  cannot find or open glove.6B.zip, glove.6B.zip.zip or glove.6B.zip.ZIP.\n"
          ]
        }
      ]
    },
    {
      "cell_type": "code",
      "source": [
        "!pip install keras_preprocessing"
      ],
      "metadata": {
        "colab": {
          "base_uri": "https://localhost:8080/"
        },
        "id": "lsvdlcUEz-lo",
        "outputId": "3f7bf985-27e3-42d4-ef68-cfabfdee7c2a"
      },
      "id": "lsvdlcUEz-lo",
      "execution_count": null,
      "outputs": [
        {
          "output_type": "stream",
          "name": "stdout",
          "text": [
            "Looking in indexes: https://pypi.org/simple, https://us-python.pkg.dev/colab-wheels/public/simple/\n",
            "Requirement already satisfied: keras_preprocessing in /usr/local/lib/python3.9/dist-packages (1.1.2)\n",
            "Requirement already satisfied: six>=1.9.0 in /usr/local/lib/python3.9/dist-packages (from keras_preprocessing) (1.16.0)\n",
            "Requirement already satisfied: numpy>=1.9.1 in /usr/local/lib/python3.9/dist-packages (from keras_preprocessing) (1.22.4)\n"
          ]
        }
      ]
    },
    {
      "cell_type": "code",
      "source": [
        "import tensorflow as tf\n",
        "import keras\n",
        "from keras.layers import Dense, Embedding, Input, Flatten, LSTM, Conv1D, concatenate, MaxPooling1D\n",
        "from keras.models import Sequential, Model\n",
        "from keras_preprocessing.sequence import pad_sequences\n",
        "from sklearn.metrics import accuracy_score"
      ],
      "metadata": {
        "id": "RgQLbkarzwJ6"
      },
      "id": "RgQLbkarzwJ6",
      "execution_count": null,
      "outputs": []
    },
    {
      "cell_type": "code",
      "execution_count": null,
      "id": "fc340a5e",
      "metadata": {
        "id": "fc340a5e"
      },
      "outputs": [],
      "source": [
        "import pandas as pd\n",
        "import numpy as np\n",
        "import matplotlib.pyplot as plt\n",
        "import seaborn as sns\n",
        "from sklearn.feature_extraction.text import CountVectorizer\n",
        "from sklearn.model_selection import train_test_split\n",
        "from sklearn.feature_extraction.text import TfidfTransformer\n",
        "from sklearn.naive_bayes import GaussianNB\n"
      ]
    },
    {
      "cell_type": "code",
      "source": [
        "max_len = 50\n",
        "embedding_dim = 100"
      ],
      "metadata": {
        "id": "FfJWT6a30NiO"
      },
      "id": "FfJWT6a30NiO",
      "execution_count": null,
      "outputs": []
    },
    {
      "cell_type": "code",
      "execution_count": null,
      "id": "a6ab5143",
      "metadata": {
        "id": "a6ab5143"
      },
      "outputs": [],
      "source": [
        "sns.set_theme(style=\"whitegrid\")\n",
        "train = pd.read_csv('augmented_train.csv')\n",
        "test = pd.read_csv(\"test.csv\")"
      ]
    },
    {
      "cell_type": "code",
      "source": [
        "train.head()"
      ],
      "metadata": {
        "colab": {
          "base_uri": "https://localhost:8080/",
          "height": 206
        },
        "id": "Kf2GmszueTdk",
        "outputId": "32d31f2a-b802-4e6f-f6bc-7cc0dea1ac0d"
      },
      "id": "Kf2GmszueTdk",
      "execution_count": null,
      "outputs": [
        {
          "output_type": "execute_result",
          "data": {
            "text/plain": [
              "   Unnamed: 0                                          title1_en  \\\n",
              "0        1383  It turns out Ma Huateng ' second daughter Ma M...   \n",
              "1      117507  Netflix fly-by-plane fly-in-the-mud-moths-Urum...   \n",
              "2      156419  Women on the subway do not give a seat to the ...   \n",
              "3      239056     A magic grass, cure uncle's diabetes mellitus!   \n",
              "4      192827  The photographer adventured to explore Fan Che...   \n",
              "\n",
              "                                           title2_en  label  \n",
              "0  Ma Huateng tells the rumour that Wang Zhong pu...      2  \n",
              "1        - Texas Airplanes for Moths? - MLA: Rumors.      0  \n",
              "2  A man gives a seat to a pregnant woman, and a ...      0  \n",
              "3  You know what? Here comes Diabetic Friendship....      1  \n",
              "4  New traffic rules are to be implemented from N...      0  "
            ],
            "text/html": [
              "\n",
              "  <div id=\"df-12d6b9a6-3a3f-46cf-ba0f-2a03186a685b\">\n",
              "    <div class=\"colab-df-container\">\n",
              "      <div>\n",
              "<style scoped>\n",
              "    .dataframe tbody tr th:only-of-type {\n",
              "        vertical-align: middle;\n",
              "    }\n",
              "\n",
              "    .dataframe tbody tr th {\n",
              "        vertical-align: top;\n",
              "    }\n",
              "\n",
              "    .dataframe thead th {\n",
              "        text-align: right;\n",
              "    }\n",
              "</style>\n",
              "<table border=\"1\" class=\"dataframe\">\n",
              "  <thead>\n",
              "    <tr style=\"text-align: right;\">\n",
              "      <th></th>\n",
              "      <th>Unnamed: 0</th>\n",
              "      <th>title1_en</th>\n",
              "      <th>title2_en</th>\n",
              "      <th>label</th>\n",
              "    </tr>\n",
              "  </thead>\n",
              "  <tbody>\n",
              "    <tr>\n",
              "      <th>0</th>\n",
              "      <td>1383</td>\n",
              "      <td>It turns out Ma Huateng ' second daughter Ma M...</td>\n",
              "      <td>Ma Huateng tells the rumour that Wang Zhong pu...</td>\n",
              "      <td>2</td>\n",
              "    </tr>\n",
              "    <tr>\n",
              "      <th>1</th>\n",
              "      <td>117507</td>\n",
              "      <td>Netflix fly-by-plane fly-in-the-mud-moths-Urum...</td>\n",
              "      <td>- Texas Airplanes for Moths? - MLA: Rumors.</td>\n",
              "      <td>0</td>\n",
              "    </tr>\n",
              "    <tr>\n",
              "      <th>2</th>\n",
              "      <td>156419</td>\n",
              "      <td>Women on the subway do not give a seat to the ...</td>\n",
              "      <td>A man gives a seat to a pregnant woman, and a ...</td>\n",
              "      <td>0</td>\n",
              "    </tr>\n",
              "    <tr>\n",
              "      <th>3</th>\n",
              "      <td>239056</td>\n",
              "      <td>A magic grass, cure uncle's diabetes mellitus!</td>\n",
              "      <td>You know what? Here comes Diabetic Friendship....</td>\n",
              "      <td>1</td>\n",
              "    </tr>\n",
              "    <tr>\n",
              "      <th>4</th>\n",
              "      <td>192827</td>\n",
              "      <td>The photographer adventured to explore Fan Che...</td>\n",
              "      <td>New traffic rules are to be implemented from N...</td>\n",
              "      <td>0</td>\n",
              "    </tr>\n",
              "  </tbody>\n",
              "</table>\n",
              "</div>\n",
              "      <button class=\"colab-df-convert\" onclick=\"convertToInteractive('df-12d6b9a6-3a3f-46cf-ba0f-2a03186a685b')\"\n",
              "              title=\"Convert this dataframe to an interactive table.\"\n",
              "              style=\"display:none;\">\n",
              "        \n",
              "  <svg xmlns=\"http://www.w3.org/2000/svg\" height=\"24px\"viewBox=\"0 0 24 24\"\n",
              "       width=\"24px\">\n",
              "    <path d=\"M0 0h24v24H0V0z\" fill=\"none\"/>\n",
              "    <path d=\"M18.56 5.44l.94 2.06.94-2.06 2.06-.94-2.06-.94-.94-2.06-.94 2.06-2.06.94zm-11 1L8.5 8.5l.94-2.06 2.06-.94-2.06-.94L8.5 2.5l-.94 2.06-2.06.94zm10 10l.94 2.06.94-2.06 2.06-.94-2.06-.94-.94-2.06-.94 2.06-2.06.94z\"/><path d=\"M17.41 7.96l-1.37-1.37c-.4-.4-.92-.59-1.43-.59-.52 0-1.04.2-1.43.59L10.3 9.45l-7.72 7.72c-.78.78-.78 2.05 0 2.83L4 21.41c.39.39.9.59 1.41.59.51 0 1.02-.2 1.41-.59l7.78-7.78 2.81-2.81c.8-.78.8-2.07 0-2.86zM5.41 20L4 18.59l7.72-7.72 1.47 1.35L5.41 20z\"/>\n",
              "  </svg>\n",
              "      </button>\n",
              "      \n",
              "  <style>\n",
              "    .colab-df-container {\n",
              "      display:flex;\n",
              "      flex-wrap:wrap;\n",
              "      gap: 12px;\n",
              "    }\n",
              "\n",
              "    .colab-df-convert {\n",
              "      background-color: #E8F0FE;\n",
              "      border: none;\n",
              "      border-radius: 50%;\n",
              "      cursor: pointer;\n",
              "      display: none;\n",
              "      fill: #1967D2;\n",
              "      height: 32px;\n",
              "      padding: 0 0 0 0;\n",
              "      width: 32px;\n",
              "    }\n",
              "\n",
              "    .colab-df-convert:hover {\n",
              "      background-color: #E2EBFA;\n",
              "      box-shadow: 0px 1px 2px rgba(60, 64, 67, 0.3), 0px 1px 3px 1px rgba(60, 64, 67, 0.15);\n",
              "      fill: #174EA6;\n",
              "    }\n",
              "\n",
              "    [theme=dark] .colab-df-convert {\n",
              "      background-color: #3B4455;\n",
              "      fill: #D2E3FC;\n",
              "    }\n",
              "\n",
              "    [theme=dark] .colab-df-convert:hover {\n",
              "      background-color: #434B5C;\n",
              "      box-shadow: 0px 1px 3px 1px rgba(0, 0, 0, 0.15);\n",
              "      filter: drop-shadow(0px 1px 2px rgba(0, 0, 0, 0.3));\n",
              "      fill: #FFFFFF;\n",
              "    }\n",
              "  </style>\n",
              "\n",
              "      <script>\n",
              "        const buttonEl =\n",
              "          document.querySelector('#df-12d6b9a6-3a3f-46cf-ba0f-2a03186a685b button.colab-df-convert');\n",
              "        buttonEl.style.display =\n",
              "          google.colab.kernel.accessAllowed ? 'block' : 'none';\n",
              "\n",
              "        async function convertToInteractive(key) {\n",
              "          const element = document.querySelector('#df-12d6b9a6-3a3f-46cf-ba0f-2a03186a685b');\n",
              "          const dataTable =\n",
              "            await google.colab.kernel.invokeFunction('convertToInteractive',\n",
              "                                                     [key], {});\n",
              "          if (!dataTable) return;\n",
              "\n",
              "          const docLinkHtml = 'Like what you see? Visit the ' +\n",
              "            '<a target=\"_blank\" href=https://colab.research.google.com/notebooks/data_table.ipynb>data table notebook</a>'\n",
              "            + ' to learn more about interactive tables.';\n",
              "          element.innerHTML = '';\n",
              "          dataTable['output_type'] = 'display_data';\n",
              "          await google.colab.output.renderOutput(dataTable, element);\n",
              "          const docLink = document.createElement('div');\n",
              "          docLink.innerHTML = docLinkHtml;\n",
              "          element.appendChild(docLink);\n",
              "        }\n",
              "      </script>\n",
              "    </div>\n",
              "  </div>\n",
              "  "
            ]
          },
          "metadata": {},
          "execution_count": 41
        }
      ]
    },
    {
      "cell_type": "code",
      "source": [
        "train.label.value_counts()"
      ],
      "metadata": {
        "colab": {
          "base_uri": "https://localhost:8080/"
        },
        "id": "LuvEqMWXY-Nx",
        "outputId": "8ac6eafa-cea0-47f4-91f7-546f07890009"
      },
      "id": "LuvEqMWXY-Nx",
      "execution_count": null,
      "outputs": [
        {
          "output_type": "execute_result",
          "data": {
            "text/plain": [
              "0    175598\n",
              "1     74238\n",
              "2     42146\n",
              "Name: label, dtype: int64"
            ]
          },
          "metadata": {},
          "execution_count": 42
        }
      ]
    },
    {
      "cell_type": "code",
      "source": [
        "len(train)"
      ],
      "metadata": {
        "colab": {
          "base_uri": "https://localhost:8080/"
        },
        "id": "Fe-HuMKeyg0O",
        "outputId": "c21f7f19-04f4-41d3-9045-35a6087e6b77"
      },
      "id": "Fe-HuMKeyg0O",
      "execution_count": null,
      "outputs": [
        {
          "output_type": "execute_result",
          "data": {
            "text/plain": [
              "291982"
            ]
          },
          "metadata": {},
          "execution_count": 43
        }
      ]
    },
    {
      "cell_type": "markdown",
      "id": "871e0477",
      "metadata": {
        "id": "871e0477"
      },
      "source": [
        "#### There are no missing values"
      ]
    },
    {
      "cell_type": "code",
      "source": [
        "train.columns"
      ],
      "metadata": {
        "colab": {
          "base_uri": "https://localhost:8080/"
        },
        "id": "ks-DpUFKag_y",
        "outputId": "fc3dc471-5808-4832-b4db-960eff290e47"
      },
      "id": "ks-DpUFKag_y",
      "execution_count": null,
      "outputs": [
        {
          "output_type": "execute_result",
          "data": {
            "text/plain": [
              "Index(['Unnamed: 0', 'title1_en', 'title2_en', 'label'], dtype='object')"
            ]
          },
          "metadata": {},
          "execution_count": 44
        }
      ]
    },
    {
      "cell_type": "code",
      "source": [
        "sns.countplot(x=train['label'])\n",
        "plt.title(\"Label Count\")\n",
        "plt.xlabel(\"Labels\")"
      ],
      "metadata": {
        "colab": {
          "base_uri": "https://localhost:8080/",
          "height": 497
        },
        "id": "EnIx9U5JbYgC",
        "outputId": "2a0f75cc-7cde-4934-f72a-69614b2e9bc9"
      },
      "id": "EnIx9U5JbYgC",
      "execution_count": null,
      "outputs": [
        {
          "output_type": "execute_result",
          "data": {
            "text/plain": [
              "Text(0.5, 0, 'Labels')"
            ]
          },
          "metadata": {},
          "execution_count": 45
        },
        {
          "output_type": "display_data",
          "data": {
            "text/plain": [
              "<Figure size 640x480 with 1 Axes>"
            ],
            "image/png": "[encoded data removed]"
          },
          "metadata": {}
        }
      ]
    },
    {
      "cell_type": "code",
      "source": [
        "train['label'].value_counts()"
      ],
      "metadata": {
        "colab": {
          "base_uri": "https://localhost:8080/"
        },
        "id": "Xc4LH4Y-ne7n",
        "outputId": "d28526cc-d567-4a68-d4bd-0b2e20a0da83"
      },
      "id": "Xc4LH4Y-ne7n",
      "execution_count": null,
      "outputs": [
        {
          "output_type": "execute_result",
          "data": {
            "text/plain": [
              "0    175598\n",
              "1     74238\n",
              "2     42146\n",
              "Name: label, dtype: int64"
            ]
          },
          "metadata": {},
          "execution_count": 46
        }
      ]
    },
    {
      "cell_type": "code",
      "source": [
        "train.head()"
      ],
      "metadata": {
        "colab": {
          "base_uri": "https://localhost:8080/",
          "height": 206
        },
        "id": "4JIndm8KaICg",
        "outputId": "74d67c3a-bb0a-4017-a1d5-d8ae8a8b4ef6"
      },
      "id": "4JIndm8KaICg",
      "execution_count": null,
      "outputs": [
        {
          "output_type": "execute_result",
          "data": {
            "text/plain": [
              "   Unnamed: 0                                          title1_en  \\\n",
              "0        1383  It turns out Ma Huateng ' second daughter Ma M...   \n",
              "1      117507  Netflix fly-by-plane fly-in-the-mud-moths-Urum...   \n",
              "2      156419  Women on the subway do not give a seat to the ...   \n",
              "3      239056     A magic grass, cure uncle's diabetes mellitus!   \n",
              "4      192827  The photographer adventured to explore Fan Che...   \n",
              "\n",
              "                                           title2_en  label  \n",
              "0  Ma Huateng tells the rumour that Wang Zhong pu...      2  \n",
              "1        - Texas Airplanes for Moths? - MLA: Rumors.      0  \n",
              "2  A man gives a seat to a pregnant woman, and a ...      0  \n",
              "3  You know what? Here comes Diabetic Friendship....      1  \n",
              "4  New traffic rules are to be implemented from N...      0  "
            ],
            "text/html": [
              "\n",
              "  <div id=\"df-099d04e4-729a-4dcf-831f-9c139229a85f\">\n",
              "    <div class=\"colab-df-container\">\n",
              "      <div>\n",
              "<style scoped>\n",
              "    .dataframe tbody tr th:only-of-type {\n",
              "        vertical-align: middle;\n",
              "    }\n",
              "\n",
              "    .dataframe tbody tr th {\n",
              "        vertical-align: top;\n",
              "    }\n",
              "\n",
              "    .dataframe thead th {\n",
              "        text-align: right;\n",
              "    }\n",
              "</style>\n",
              "<table border=\"1\" class=\"dataframe\">\n",
              "  <thead>\n",
              "    <tr style=\"text-align: right;\">\n",
              "      <th></th>\n",
              "      <th>Unnamed: 0</th>\n",
              "      <th>title1_en</th>\n",
              "      <th>title2_en</th>\n",
              "      <th>label</th>\n",
              "    </tr>\n",
              "  </thead>\n",
              "  <tbody>\n",
              "    <tr>\n",
              "      <th>0</th>\n",
              "      <td>1383</td>\n",
              "      <td>It turns out Ma Huateng ' second daughter Ma M...</td>\n",
              "      <td>Ma Huateng tells the rumour that Wang Zhong pu...</td>\n",
              "      <td>2</td>\n",
              "    </tr>\n",
              "    <tr>\n",
              "      <th>1</th>\n",
              "      <td>117507</td>\n",
              "      <td>Netflix fly-by-plane fly-in-the-mud-moths-Urum...</td>\n",
              "      <td>- Texas Airplanes for Moths? - MLA: Rumors.</td>\n",
              "      <td>0</td>\n",
              "    </tr>\n",
              "    <tr>\n",
              "      <th>2</th>\n",
              "      <td>156419</td>\n",
              "      <td>Women on the subway do not give a seat to the ...</td>\n",
              "      <td>A man gives a seat to a pregnant woman, and a ...</td>\n",
              "      <td>0</td>\n",
              "    </tr>\n",
              "    <tr>\n",
              "      <th>3</th>\n",
              "      <td>239056</td>\n",
              "      <td>A magic grass, cure uncle's diabetes mellitus!</td>\n",
              "      <td>You know what? Here comes Diabetic Friendship....</td>\n",
              "      <td>1</td>\n",
              "    </tr>\n",
              "    <tr>\n",
              "      <th>4</th>\n",
              "      <td>192827</td>\n",
              "      <td>The photographer adventured to explore Fan Che...</td>\n",
              "      <td>New traffic rules are to be implemented from N...</td>\n",
              "      <td>0</td>\n",
              "    </tr>\n",
              "  </tbody>\n",
              "</table>\n",
              "</div>\n",
              "      <button class=\"colab-df-convert\" onclick=\"convertToInteractive('df-099d04e4-729a-4dcf-831f-9c139229a85f')\"\n",
              "              title=\"Convert this dataframe to an interactive table.\"\n",
              "              style=\"display:none;\">\n",
              "        \n",
              "  <svg xmlns=\"http://www.w3.org/2000/svg\" height=\"24px\"viewBox=\"0 0 24 24\"\n",
              "       width=\"24px\">\n",
              "    <path d=\"M0 0h24v24H0V0z\" fill=\"none\"/>\n",
              "    <path d=\"M18.56 5.44l.94 2.06.94-2.06 2.06-.94-2.06-.94-.94-2.06-.94 2.06-2.06.94zm-11 1L8.5 8.5l.94-2.06 2.06-.94-2.06-.94L8.5 2.5l-.94 2.06-2.06.94zm10 10l.94 2.06.94-2.06 2.06-.94-2.06-.94-.94-2.06-.94 2.06-2.06.94z\"/><path d=\"M17.41 7.96l-1.37-1.37c-.4-.4-.92-.59-1.43-.59-.52 0-1.04.2-1.43.59L10.3 9.45l-7.72 7.72c-.78.78-.78 2.05 0 2.83L4 21.41c.39.39.9.59 1.41.59.51 0 1.02-.2 1.41-.59l7.78-7.78 2.81-2.81c.8-.78.8-2.07 0-2.86zM5.41 20L4 18.59l7.72-7.72 1.47 1.35L5.41 20z\"/>\n",
              "  </svg>\n",
              "      </button>\n",
              "      \n",
              "  <style>\n",
              "    .colab-df-container {\n",
              "      display:flex;\n",
              "      flex-wrap:wrap;\n",
              "      gap: 12px;\n",
              "    }\n",
              "\n",
              "    .colab-df-convert {\n",
              "      background-color: #E8F0FE;\n",
              "      border: none;\n",
              "      border-radius: 50%;\n",
              "      cursor: pointer;\n",
              "      display: none;\n",
              "      fill: #1967D2;\n",
              "      height: 32px;\n",
              "      padding: 0 0 0 0;\n",
              "      width: 32px;\n",
              "    }\n",
              "\n",
              "    .colab-df-convert:hover {\n",
              "      background-color: #E2EBFA;\n",
              "      box-shadow: 0px 1px 2px rgba(60, 64, 67, 0.3), 0px 1px 3px 1px rgba(60, 64, 67, 0.15);\n",
              "      fill: #174EA6;\n",
              "    }\n",
              "\n",
              "    [theme=dark] .colab-df-convert {\n",
              "      background-color: #3B4455;\n",
              "      fill: #D2E3FC;\n",
              "    }\n",
              "\n",
              "    [theme=dark] .colab-df-convert:hover {\n",
              "      background-color: #434B5C;\n",
              "      box-shadow: 0px 1px 3px 1px rgba(0, 0, 0, 0.15);\n",
              "      filter: drop-shadow(0px 1px 2px rgba(0, 0, 0, 0.3));\n",
              "      fill: #FFFFFF;\n",
              "    }\n",
              "  </style>\n",
              "\n",
              "      <script>\n",
              "        const buttonEl =\n",
              "          document.querySelector('#df-099d04e4-729a-4dcf-831f-9c139229a85f button.colab-df-convert');\n",
              "        buttonEl.style.display =\n",
              "          google.colab.kernel.accessAllowed ? 'block' : 'none';\n",
              "\n",
              "        async function convertToInteractive(key) {\n",
              "          const element = document.querySelector('#df-099d04e4-729a-4dcf-831f-9c139229a85f');\n",
              "          const dataTable =\n",
              "            await google.colab.kernel.invokeFunction('convertToInteractive',\n",
              "                                                     [key], {});\n",
              "          if (!dataTable) return;\n",
              "\n",
              "          const docLinkHtml = 'Like what you see? Visit the ' +\n",
              "            '<a target=\"_blank\" href=https://colab.research.google.com/notebooks/data_table.ipynb>data table notebook</a>'\n",
              "            + ' to learn more about interactive tables.';\n",
              "          element.innerHTML = '';\n",
              "          dataTable['output_type'] = 'display_data';\n",
              "          await google.colab.output.renderOutput(dataTable, element);\n",
              "          const docLink = document.createElement('div');\n",
              "          docLink.innerHTML = docLinkHtml;\n",
              "          element.appendChild(docLink);\n",
              "        }\n",
              "      </script>\n",
              "    </div>\n",
              "  </div>\n",
              "  "
            ]
          },
          "metadata": {},
          "execution_count": 47
        }
      ]
    },
    {
      "cell_type": "code",
      "source": [
        "train['label'].value_counts()"
      ],
      "metadata": {
        "colab": {
          "base_uri": "https://localhost:8080/"
        },
        "id": "xsaaXXTweTUe",
        "outputId": "4f29e939-70e9-43d3-af20-f58651c9f1af"
      },
      "id": "xsaaXXTweTUe",
      "execution_count": null,
      "outputs": [
        {
          "output_type": "execute_result",
          "data": {
            "text/plain": [
              "0    175598\n",
              "1     74238\n",
              "2     42146\n",
              "Name: label, dtype: int64"
            ]
          },
          "metadata": {},
          "execution_count": 48
        }
      ]
    },
    {
      "cell_type": "markdown",
      "id": "480f1575",
      "metadata": {
        "id": "480f1575"
      },
      "source": [
        "#### The data is unbalanced"
      ]
    },
    {
      "cell_type": "markdown",
      "source": [
        "### Text preprocessing\n",
        "#### Assign an index to each word\n",
        "#### Count words to see most common words"
      ],
      "metadata": {
        "id": "ZE5GQyPG8e_7"
      },
      "id": "ZE5GQyPG8e_7"
    },
    {
      "cell_type": "code",
      "source": [
        "#  keras.datasets.imdb.load_data(num_words=max_words)\n",
        "from nltk.tokenize import word_tokenize\n",
        "from nltk.corpus import stopwords\n",
        "import re\n",
        "import nltk\n",
        "import string\n",
        "nltk.download('punkt')\n",
        "nltk.download('stopwords')\n",
        "nltk.download('wordnet')\n",
        "\n",
        "UNWANTED_WORDS = ['ho', 'unk', 'ha', 'honey']\n",
        "def transform_text(s):\n",
        "    # Remove websites\n",
        "    s = re.sub(r\"http\\S+\", \"\", s) \n",
        "    s = re.sub(r\"www.\\S+\", \"\", s) \n",
        "    # Remove numbers\n",
        "    s = re.sub(r'\\d+', '', s)\n",
        "    # Remove punctuation\n",
        "    s = \"\".join([char.lower() for char in s if char not in string.punctuation])\n",
        "    tokenized = word_tokenize(s)\n",
        "    tokenized =  [w for w in tokenized if not w.lower() in stop_words]\n",
        "    # Apply lemmatization\n",
        "    tokenized = [lemmatizer.lemmatize(w) for w in tokenized]\n",
        "\n",
        "    return tokenized\n",
        "\n",
        "curr = 1\n",
        "lemmatizer = nltk.stem.WordNetLemmatizer()\n",
        "stop_words = set(stopwords.words('english'))\n",
        "str_to_int = dict()\n",
        "word_count = dict()\n",
        "title1_en = []\n",
        "title2_en = []\n",
        "# Preprocess training\n",
        "for s in train['title1_en']:\n",
        "  tokenized = transform_text(s)\n",
        "  l = []\n",
        "  for w in tokenized:\n",
        "    if w in UNWANTED_WORDS:\n",
        "      l.append(0)\n",
        "      continue\n",
        "    if w not in str_to_int:\n",
        "      str_to_int[w] = curr\n",
        "      word_count[w] = 1\n",
        "      curr += 1\n",
        "    if w in word_count: word_count[w] += 1\n",
        "    l.append(str_to_int[w])\n",
        "  # if len(l) < max_len:\n",
        "  title1_en.append(l)\n",
        "\n",
        "for s in train['title2_en']:\n",
        "  tokenized = transform_text(s)\n",
        "  l = []\n",
        "  for w in tokenized:\n",
        "    if w in UNWANTED_WORDS:\n",
        "      l.append(0)\n",
        "      continue\n",
        "    if w not in str_to_int:\n",
        "      str_to_int[w] = curr\n",
        "      word_count[w] = 1\n",
        "      curr += 1\n",
        "    if w in word_count: word_count[w] += 1\n",
        "    l.append(str_to_int[w])\n",
        "  # if len(l) < max_len:\n",
        "  title2_en.append(l)\n",
        "    \n",
        "# Preprocess testing\n",
        "test_title1_en = []\n",
        "test_title2_en = []\n",
        "for s in test['title1_en']:\n",
        "  tokenized = transform_text(s)\n",
        "  l = []\n",
        "  for w in tokenized:\n",
        "    if w in UNWANTED_WORDS:\n",
        "      l.append(0)\n",
        "      continue\n",
        "    if w not in str_to_int:\n",
        "      print(\"not in\")\n",
        "      str_to_int[w] = 0\n",
        "\n",
        "    if w in word_count: word_count[w] += 1\n",
        "    l.append(str_to_int[w])\n",
        "  # if len(l) < max_len:\n",
        "  test_title1_en.append(l)\n",
        "\n",
        "for s in test['title2_en']:\n",
        "  tokenized = transform_text(s)\n",
        "  l = []\n",
        "  for w in tokenized:\n",
        "    if w in UNWANTED_WORDS:\n",
        "      l.append(0)\n",
        "      continue\n",
        "    if w not in str_to_int:\n",
        "      str_to_int[w] = 0\n",
        "    if w in word_count: word_count[w] += 1\n",
        "    l.append(str_to_int[w])\n",
        "  test_title2_en.append(l)\n",
        "\n",
        "    \n",
        "  \n",
        "    "
      ],
      "metadata": {
        "colab": {
          "base_uri": "https://localhost:8080/"
        },
        "id": "DjNBhojm1gNl",
        "outputId": "2b1e79ae-63b9-475b-9399-59d36e8c6e19"
      },
      "id": "DjNBhojm1gNl",
      "execution_count": null,
      "outputs": [
        {
          "output_type": "stream",
          "name": "stderr",
          "text": [
            "[nltk_data] Downloading package punkt to /root/nltk_data...\n",
            "[nltk_data]   Package punkt is already up-to-date!\n",
            "[nltk_data] Downloading package stopwords to /root/nltk_data...\n",
            "[nltk_data]   Package stopwords is already up-to-date!\n",
            "[nltk_data] Downloading package wordnet to /root/nltk_data...\n",
            "[nltk_data]   Package wordnet is already up-to-date!\n"
          ]
        },
        {
          "output_type": "stream",
          "name": "stdout",
          "text": [
            "not in\n",
            "not in\n",
            "not in\n",
            "not in\n",
            "not in\n",
            "not in\n",
            "not in\n",
            "not in\n",
            "not in\n",
            "not in\n",
            "not in\n",
            "not in\n",
            "not in\n",
            "not in\n",
            "not in\n",
            "not in\n",
            "not in\n",
            "not in\n",
            "not in\n",
            "not in\n",
            "not in\n",
            "not in\n",
            "not in\n",
            "not in\n",
            "not in\n",
            "not in\n",
            "not in\n",
            "not in\n",
            "not in\n",
            "not in\n",
            "not in\n",
            "not in\n",
            "not in\n",
            "not in\n",
            "not in\n",
            "not in\n",
            "not in\n",
            "not in\n",
            "not in\n",
            "not in\n",
            "not in\n",
            "not in\n",
            "not in\n",
            "not in\n",
            "not in\n",
            "not in\n",
            "not in\n",
            "not in\n",
            "not in\n",
            "not in\n",
            "not in\n",
            "not in\n",
            "not in\n",
            "not in\n",
            "not in\n",
            "not in\n",
            "not in\n",
            "not in\n",
            "not in\n",
            "not in\n",
            "not in\n",
            "not in\n",
            "not in\n",
            "not in\n",
            "not in\n",
            "not in\n",
            "not in\n",
            "not in\n",
            "not in\n",
            "not in\n",
            "not in\n",
            "not in\n",
            "not in\n",
            "not in\n",
            "not in\n",
            "not in\n",
            "not in\n",
            "not in\n",
            "not in\n",
            "not in\n",
            "not in\n",
            "not in\n",
            "not in\n",
            "not in\n",
            "not in\n",
            "not in\n",
            "not in\n",
            "not in\n",
            "not in\n",
            "not in\n",
            "not in\n",
            "not in\n",
            "not in\n",
            "not in\n",
            "not in\n",
            "not in\n",
            "not in\n",
            "not in\n",
            "not in\n",
            "not in\n",
            "not in\n",
            "not in\n",
            "not in\n",
            "not in\n",
            "not in\n",
            "not in\n",
            "not in\n",
            "not in\n",
            "not in\n",
            "not in\n",
            "not in\n",
            "not in\n",
            "not in\n",
            "not in\n",
            "not in\n",
            "not in\n",
            "not in\n",
            "not in\n",
            "not in\n",
            "not in\n",
            "not in\n",
            "not in\n",
            "not in\n",
            "not in\n",
            "not in\n",
            "not in\n",
            "not in\n",
            "not in\n",
            "not in\n",
            "not in\n",
            "not in\n",
            "not in\n",
            "not in\n",
            "not in\n",
            "not in\n",
            "not in\n",
            "not in\n",
            "not in\n",
            "not in\n",
            "not in\n",
            "not in\n",
            "not in\n",
            "not in\n",
            "not in\n",
            "not in\n",
            "not in\n",
            "not in\n",
            "not in\n",
            "not in\n",
            "not in\n",
            "not in\n",
            "not in\n",
            "not in\n",
            "not in\n",
            "not in\n",
            "not in\n",
            "not in\n",
            "not in\n",
            "not in\n",
            "not in\n",
            "not in\n",
            "not in\n",
            "not in\n",
            "not in\n",
            "not in\n",
            "not in\n",
            "not in\n",
            "not in\n",
            "not in\n",
            "not in\n",
            "not in\n",
            "not in\n",
            "not in\n",
            "not in\n",
            "not in\n",
            "not in\n",
            "not in\n",
            "not in\n",
            "not in\n",
            "not in\n",
            "not in\n",
            "not in\n",
            "not in\n",
            "not in\n",
            "not in\n",
            "not in\n",
            "not in\n",
            "not in\n",
            "not in\n",
            "not in\n",
            "not in\n",
            "not in\n",
            "not in\n",
            "not in\n",
            "not in\n",
            "not in\n",
            "not in\n",
            "not in\n",
            "not in\n",
            "not in\n",
            "not in\n",
            "not in\n",
            "not in\n",
            "not in\n",
            "not in\n",
            "not in\n",
            "not in\n",
            "not in\n",
            "not in\n",
            "not in\n",
            "not in\n",
            "not in\n",
            "not in\n",
            "not in\n",
            "not in\n",
            "not in\n",
            "not in\n",
            "not in\n",
            "not in\n",
            "not in\n",
            "not in\n",
            "not in\n",
            "not in\n",
            "not in\n",
            "not in\n",
            "not in\n",
            "not in\n",
            "not in\n",
            "not in\n",
            "not in\n",
            "not in\n",
            "not in\n",
            "not in\n",
            "not in\n",
            "not in\n",
            "not in\n",
            "not in\n",
            "not in\n",
            "not in\n",
            "not in\n",
            "not in\n",
            "not in\n",
            "not in\n",
            "not in\n",
            "not in\n",
            "not in\n",
            "not in\n",
            "not in\n",
            "not in\n",
            "not in\n",
            "not in\n",
            "not in\n",
            "not in\n",
            "not in\n",
            "not in\n",
            "not in\n",
            "not in\n",
            "not in\n",
            "not in\n",
            "not in\n",
            "not in\n",
            "not in\n",
            "not in\n",
            "not in\n",
            "not in\n",
            "not in\n",
            "not in\n",
            "not in\n",
            "not in\n",
            "not in\n",
            "not in\n",
            "not in\n",
            "not in\n",
            "not in\n",
            "not in\n",
            "not in\n",
            "not in\n",
            "not in\n",
            "not in\n",
            "not in\n",
            "not in\n",
            "not in\n",
            "not in\n",
            "not in\n",
            "not in\n",
            "not in\n",
            "not in\n",
            "not in\n",
            "not in\n",
            "not in\n",
            "not in\n",
            "not in\n",
            "not in\n",
            "not in\n",
            "not in\n",
            "not in\n",
            "not in\n",
            "not in\n",
            "not in\n",
            "not in\n",
            "not in\n",
            "not in\n",
            "not in\n",
            "not in\n",
            "not in\n",
            "not in\n",
            "not in\n",
            "not in\n",
            "not in\n",
            "not in\n",
            "not in\n",
            "not in\n",
            "not in\n",
            "not in\n",
            "not in\n",
            "not in\n",
            "not in\n",
            "not in\n",
            "not in\n",
            "not in\n"
          ]
        }
      ]
    },
    {
      "cell_type": "code",
      "source": [
        "max_words = len(list(str_to_int.values()))\n",
        "max_words"
      ],
      "metadata": {
        "colab": {
          "base_uri": "https://localhost:8080/"
        },
        "id": "PidSsc4G7Nj1",
        "outputId": "bc70c294-6a67-4729-fe9f-20cfd4aab46e"
      },
      "id": "PidSsc4G7Nj1",
      "execution_count": null,
      "outputs": [
        {
          "output_type": "execute_result",
          "data": {
            "text/plain": [
              "46988"
            ]
          },
          "metadata": {},
          "execution_count": 50
        }
      ]
    },
    {
      "cell_type": "code",
      "source": [
        "max_len = 0\n",
        "for d in test_title1_en:\n",
        "   if len(d) > max_len:\n",
        "     max_len = len(d) \n",
        "     print(d)\n",
        "     print(len(d))\n",
        "    \n",
        "\n",
        "for d in test_title2_en:\n",
        "    if len(d) > max_len:\n",
        "     max_len = len(d) \n",
        "     print(d)\n",
        "     print(len(d))\n",
        "\n",
        "for d in title1_en:\n",
        "    if len(d) > max_len:\n",
        "     max_len = len(d) \n",
        "     print(d)\n",
        "     print(len(d))\n",
        "\n",
        "for d in title2_en:\n",
        "    if len(d) > max_len:\n",
        "     max_len = len(d) \n",
        "     print(d)\n",
        "     print(len(d))\n",
        "\n",
        "print()\n",
        "\n",
        "def find_key(input_dict, value):\n",
        "  return next((k for k, v in input_dict.items() if v == value), None)\n",
        "\n",
        "find_key(str_to_int, 2225), find_key(str_to_int, 258), find_key(str_to_int, 7682)\n"
      ],
      "metadata": {
        "colab": {
          "base_uri": "https://localhost:8080/"
        },
        "id": "Z0QSeDSL-pKn",
        "outputId": "ed66e1dd-c8ed-47a8-87bb-61603d9d0ae8"
      },
      "id": "Z0QSeDSL-pKn",
      "execution_count": null,
      "outputs": [
        {
          "output_type": "stream",
          "name": "stdout",
          "text": [
            "[714, 2380, 466, 249, 249, 5053, 6401, 59, 254, 2192, 254, 835, 36767, 5164, 924]\n",
            "15\n",
            "[174, 175, 176, 177, 178, 179, 180, 181, 182, 183, 184, 185, 186, 187, 188, 189, 182, 186, 182, 190]\n",
            "20\n",
            "[955, 810, 1343, 1813, 2180, 1890, 6414, 7830, 655, 323, 0, 577, 2908, 5354, 2706, 22, 3403, 3948, 32, 7112, 779, 292, 1751, 7831, 277]\n",
            "25\n",
            "[2615, 7739, 9668, 1021, 5033, 1021, 4430, 3618, 198, 6934, 2229, 367, 2518, 487, 193, 1291, 1123, 866, 393, 6934, 1123, 193, 2142, 1813, 1435, 2193]\n",
            "26\n",
            "[3544, 2060, 2061, 1409, 1841, 1409, 1841, 1409, 1841, 1409, 1841, 1409, 1841, 1409, 1841, 1409, 1841, 1409, 1841, 1409, 1841, 1409, 1841, 1409, 1841, 1409, 1841, 1409, 1841, 1409, 1841, 1409, 1841, 1409, 1841, 1409, 1841, 1409, 1841, 1409, 1841]\n",
            "41\n",
            "[18664, 1202, 2187, 1780, 208, 1916, 4406, 0, 0, 0, 0, 0, 0, 0, 0, 0, 0, 0, 0, 0, 0, 0, 0, 0, 0, 0, 0, 0, 0, 0, 0, 0, 0, 0, 0, 0, 0, 0, 0, 0, 0, 0, 0, 0, 0, 0, 0, 0, 0, 0, 0, 0, 0, 0, 0, 0, 0, 0, 0, 0, 0, 0, 0, 0, 0, 0, 0, 0, 0, 0, 0, 0, 0, 0, 0, 0, 0, 0, 0, 0, 0, 0, 0, 0, 0, 0, 0, 0, 0, 0, 0, 0, 0, 0, 0, 0, 0, 0, 0, 0, 0, 0, 0, 0, 0, 0, 0, 0, 0, 0, 0, 0, 0, 0, 0, 0, 0, 0, 0, 0, 0, 0, 0, 0, 0, 0, 0, 0, 0, 0, 0, 0, 0, 0, 0, 0, 0, 0, 0, 0, 0, 0, 0, 0, 0, 0, 0, 0, 0, 0, 0, 0, 0, 0, 0, 0, 0, 0, 0, 0, 0, 0, 0, 0, 0, 0, 0, 0, 0, 0, 0, 0, 0, 0, 0, 0, 0, 0, 0, 0, 0, 0, 0, 0, 0, 0, 0, 0, 0, 0, 0, 0, 0, 0, 0, 0, 0, 0, 0, 0, 0, 0, 0, 0, 0, 0, 0, 0, 0, 0, 0, 0, 0, 0, 0, 0, 0, 0, 0, 0, 0, 0, 0, 0, 0, 0, 0, 0, 0, 0, 0, 0, 0, 0, 0, 0, 0, 0, 0, 0, 0, 0, 0, 0, 0, 0, 0, 0, 0]\n",
            "249\n",
            "[2287, 371, 535, 535, 535, 535, 535, 535, 535, 535, 535, 535, 535, 535, 535, 535, 535, 535, 535, 535, 535, 535, 535, 535, 535, 535, 535, 535, 535, 535, 535, 535, 535, 535, 535, 535, 535, 535, 535, 535, 535, 535, 535, 535, 535, 535, 535, 535, 535, 535, 535, 535, 535, 535, 535, 535, 535, 535, 535, 535, 535, 535, 535, 535, 535, 535, 535, 535, 535, 535, 535, 535, 535, 535, 535, 535, 535, 535, 535, 535, 535, 535, 535, 535, 535, 535, 535, 535, 535, 535, 535, 535, 535, 535, 535, 535, 535, 535, 535, 535, 535, 535, 535, 535, 535, 535, 535, 535, 535, 535, 535, 535, 535, 535, 535, 535, 535, 535, 535, 535, 535, 535, 535, 535, 535, 535, 535, 535, 535, 535, 535, 535, 535, 535, 535, 535, 535, 535, 535, 535, 535, 535, 535, 535, 535, 535, 535, 535, 535, 535, 535, 535, 535, 535, 535, 535, 535, 535, 535, 535, 535, 535, 535, 535, 535, 535, 535, 535, 535, 535, 535, 535, 535, 535, 535, 535, 535, 535, 535, 535, 535, 535, 535, 535, 535, 535, 535, 535, 535, 535, 535, 535, 535, 535, 535, 535, 535, 535, 535, 535, 535, 535, 535, 535, 535, 535, 535, 535, 535, 535, 535, 535, 535, 535, 535, 535, 535, 535, 535, 535, 535, 535, 535, 535, 535, 535, 535, 535, 535, 535, 535, 535, 535, 535, 535, 535, 535, 535, 535, 535, 535, 535, 535, 535, 535, 535, 535, 535, 535, 535]\n",
            "250\n",
            "[1891, 1153, 25654, 0, 0, 0, 0, 0, 0, 0, 0, 0, 0, 0, 0, 0, 0, 0, 0, 0, 0, 0, 0, 0, 0, 0, 0, 0, 0, 0, 0, 0, 0, 0, 0, 0, 0, 0, 0, 0, 0, 0, 0, 0, 0, 0, 0, 0, 0, 0, 0, 0, 0, 0, 0, 0, 0, 0, 0, 0, 0, 0, 0, 0, 0, 0, 0, 0, 0, 0, 0, 0, 0, 0, 0, 0, 0, 0, 0, 0, 0, 0, 0, 0, 0, 0, 0, 0, 0, 0, 0, 0, 0, 0, 0, 0, 0, 0, 0, 0, 0, 0, 0, 0, 0, 0, 0, 0, 0, 0, 0, 0, 0, 0, 0, 0, 0, 0, 0, 0, 0, 0, 0, 0, 0, 0, 0, 0, 0, 0, 0, 0, 0, 0, 0, 0, 0, 0, 0, 0, 0, 0, 0, 0, 0, 0, 0, 0, 0, 0, 0, 0, 0, 0, 0, 0, 0, 0, 0, 0, 0, 0, 0, 0, 0, 0, 0, 0, 0, 0, 0, 0, 0, 0, 0, 0, 0, 0, 0, 0, 0, 0, 0, 0, 0, 0, 0, 0, 0, 0, 0, 0, 0, 0, 0, 0, 0, 0, 0, 0, 0, 0, 0, 0, 0, 0, 0, 0, 0, 0, 0, 0, 0, 0, 0, 0, 0, 0, 0, 0, 0, 0, 0, 0, 0, 0, 0, 0, 0, 0, 0, 0, 0, 0, 0, 0, 0, 0, 0, 0, 0, 0, 0, 0, 0, 0, 0, 0, 0, 0, 0, 0, 0, 0, 0, 0, 0, 0, 0, 0, 0, 0, 0, 0, 0, 0, 0, 0, 0, 0, 0, 0, 0, 0, 0, 0, 0, 0, 0, 0, 0, 0, 0, 0, 0, 0, 0, 0, 0, 0, 0, 0, 0, 0, 0, 0, 0, 0, 0, 0, 0, 0, 0, 0, 0, 0, 0, 0, 0, 0, 0, 0, 0, 0, 0, 0, 0, 0, 0, 0, 0, 0, 0, 0, 0, 0, 0, 0, 0, 0, 0, 0, 0, 0, 0, 0, 0, 0, 0, 0, 0, 0, 0, 0, 0, 0, 0, 0, 0, 0, 0, 0, 0, 0, 0, 0, 0, 0, 0, 0, 0, 0, 0, 0, 0, 0, 0, 0, 0, 0, 0, 0, 0, 0, 0, 0, 0, 0, 0, 0, 0, 0, 0, 0, 0, 0, 0, 80, 25655, 25656, 25657, 22413, 422, 557, 557, 6834, 927, 10209, 514, 1179]\n",
            "400\n",
            "[15985, 0, 0, 0, 0, 0, 0, 0, 0, 0, 0, 0, 0, 0, 0, 0, 0, 0, 0, 0, 0, 0, 0, 0, 0, 0, 0, 0, 0, 0, 0, 0, 0, 0, 0, 0, 0, 0, 0, 0, 0, 0, 0, 0, 0, 0, 0, 0, 0, 0, 0, 0, 0, 0, 0, 0, 0, 0, 0, 0, 0, 0, 0, 0, 0, 0, 0, 0, 0, 0, 0, 0, 0, 0, 0, 0, 0, 0, 0, 0, 0, 0, 0, 0, 0, 0, 0, 0, 0, 0, 0, 0, 0, 0, 0, 0, 0, 0, 0, 0, 0, 0, 0, 0, 0, 0, 0, 0, 0, 0, 0, 0, 0, 0, 0, 0, 0, 0, 0, 0, 0, 0, 0, 0, 0, 0, 0, 0, 0, 0, 0, 0, 0, 0, 0, 0, 0, 0, 0, 0, 0, 0, 0, 0, 0, 0, 0, 0, 0, 0, 0, 0, 0, 0, 0, 0, 0, 0, 0, 0, 0, 0, 0, 0, 0, 0, 0, 0, 0, 0, 0, 0, 0, 0, 0, 0, 0, 0, 0, 0, 0, 0, 0, 0, 0, 0, 0, 0, 0, 0, 0, 0, 0, 0, 0, 0, 0, 0, 0, 0, 0, 0, 0, 0, 0, 0, 0, 0, 0, 0, 0, 0, 0, 0, 0, 0, 0, 0, 0, 0, 0, 0, 0, 0, 0, 0, 0, 0, 0, 0, 0, 0, 0, 0, 0, 0, 0, 0, 0, 0, 0, 0, 0, 0, 0, 0, 0, 0, 0, 0, 0, 0, 0, 0, 0, 0, 0, 0, 0, 0, 0, 0, 0, 0, 0, 0, 0, 0, 0, 0, 0, 0, 0, 0, 0, 0, 0, 0, 0, 0, 0, 0, 0, 0, 0, 0, 0, 0, 0, 0, 0, 0, 0, 0, 0, 0, 0, 0, 0, 0, 0, 0, 0, 0, 0, 0, 0, 0, 0, 0, 0, 0, 0, 0, 0, 0, 0, 0, 0, 0, 0, 0, 0, 0, 0, 0, 0, 0, 0, 0, 0, 0, 0, 0, 0, 0, 0, 0, 0, 0, 0, 0, 0, 0, 0, 0, 0, 0, 0, 0, 0, 0, 0, 0, 0, 0, 0, 0, 0, 0, 0, 0, 0, 0, 0, 0, 0, 0, 0, 0, 0, 0, 0, 0, 0, 0, 0, 0, 0, 0, 0, 0, 0, 0, 0, 0, 0, 0, 0, 0, 0, 0, 0, 0, 0, 0, 0, 0, 0, 0, 0, 0, 0, 0, 0, 0, 0, 0, 0, 0, 0, 0, 0, 0, 0, 0, 0, 0, 0, 0, 0, 0, 0, 0, 0, 0, 0, 0, 0, 0, 0, 0, 0, 0, 0, 0, 0, 0, 0, 0, 0, 0, 0, 0, 0, 0, 0, 0, 0, 0, 0, 0, 0, 0, 0, 0, 0, 0, 0, 0, 0, 0, 0, 0, 0, 0, 0, 0, 0, 0, 0, 0, 0, 0, 0, 0, 0, 0, 0, 0, 0, 0, 0, 0, 0, 0, 0, 0, 0, 0, 0, 0, 0, 0, 0, 0, 0, 0]\n",
            "498\n",
            "\n"
          ]
        },
        {
          "output_type": "execute_result",
          "data": {
            "text/plain": [
              "('peasant', 'made', 'respective')"
            ]
          },
          "metadata": {},
          "execution_count": 51
        }
      ]
    },
    {
      "cell_type": "code",
      "execution_count": null,
      "id": "e2579747",
      "metadata": {
        "colab": {
          "base_uri": "https://localhost:8080/"
        },
        "id": "e2579747",
        "outputId": "84f6dd9d-e9ee-4496-e9d2-1005ec708edb"
      },
      "outputs": [
        {
          "output_type": "stream",
          "name": "stderr",
          "text": [
            "<ipython-input-52-bc22a787dae5>:3: VisibleDeprecationWarning: Creating an ndarray from ragged nested sequences (which is a list-or-tuple of lists-or-tuples-or ndarrays with different lengths or shapes) is deprecated. If you meant to do this, you must specify 'dtype=object' when creating the ndarray.\n",
            "  title1_en_padded = pad_sequences(np.array(title1_en), maxlen=max_len)\n",
            "<ipython-input-52-bc22a787dae5>:4: VisibleDeprecationWarning: Creating an ndarray from ragged nested sequences (which is a list-or-tuple of lists-or-tuples-or ndarrays with different lengths or shapes) is deprecated. If you meant to do this, you must specify 'dtype=object' when creating the ndarray.\n",
            "  title2_en_padded = pad_sequences(np.array(title2_en), maxlen=max_len)\n",
            "<ipython-input-52-bc22a787dae5>:7: VisibleDeprecationWarning: Creating an ndarray from ragged nested sequences (which is a list-or-tuple of lists-or-tuples-or ndarrays with different lengths or shapes) is deprecated. If you meant to do this, you must specify 'dtype=object' when creating the ndarray.\n",
            "  test_title1_en_padded = pad_sequences(np.array(test_title1_en), maxlen=max_len)\n",
            "<ipython-input-52-bc22a787dae5>:8: VisibleDeprecationWarning: Creating an ndarray from ragged nested sequences (which is a list-or-tuple of lists-or-tuples-or ndarrays with different lengths or shapes) is deprecated. If you meant to do this, you must specify 'dtype=object' when creating the ndarray.\n",
            "  test_title2_en_padded = pad_sequences(np.array(test_title2_en), maxlen=max_len)\n"
          ]
        },
        {
          "output_type": "execute_result",
          "data": {
            "text/plain": [
              "(291982, 291982, 291982)"
            ]
          },
          "metadata": {},
          "execution_count": 52
        }
      ],
      "source": [
        "# train = train[['title1_en', 'title2_en']]\n",
        "# Padding training set\n",
        "title1_en_padded = pad_sequences(np.array(title1_en), maxlen=max_len)\n",
        "title2_en_padded = pad_sequences(np.array(title2_en), maxlen=max_len)\n",
        "\n",
        "# Padding testing set\n",
        "test_title1_en_padded = pad_sequences(np.array(test_title1_en), maxlen=max_len)\n",
        "test_title2_en_padded = pad_sequences(np.array(test_title2_en), maxlen=max_len)\n",
        "train_full = np.array([np.array([title1_en_padded[i], title2_en_padded[i]]) for i in range(len(title1_en_padded))])\n",
        "len(train['label']), len(title1_en), len(title2_en)\n"
      ]
    },
    {
      "cell_type": "code",
      "source": [],
      "metadata": {
        "id": "rqZ09m2bMLWU"
      },
      "id": "rqZ09m2bMLWU",
      "execution_count": null,
      "outputs": []
    },
    {
      "cell_type": "markdown",
      "source": [
        "#### Our model is intended to have 2 inputs"
      ],
      "metadata": {
        "id": "EKlbyPrYEEgr"
      },
      "id": "EKlbyPrYEEgr"
    },
    {
      "cell_type": "code",
      "source": [
        "input1 = train_full[:, 0, :]\n",
        "input2 = train_full[:, 1, :]\n",
        "\n",
        "test1 = test_title1_en_padded\n",
        "test2 = test_title2_en_padded"
      ],
      "metadata": {
        "id": "S4l-hOfWCxNN"
      },
      "id": "S4l-hOfWCxNN",
      "execution_count": null,
      "outputs": []
    },
    {
      "cell_type": "code",
      "source": [
        "print(input1[-1][-1], input2[-1][-1])"
      ],
      "metadata": {
        "colab": {
          "base_uri": "https://localhost:8080/"
        },
        "id": "pVF6s8-kFybP",
        "outputId": "f69508ac-df2f-420b-a1df-96b323d804ec"
      },
      "id": "pVF6s8-kFybP",
      "execution_count": null,
      "outputs": [
        {
          "output_type": "stream",
          "name": "stdout",
          "text": [
            "6101 431\n"
          ]
        }
      ]
    },
    {
      "cell_type": "code",
      "source": [
        "# Model\n",
        "inputs1 = Input(shape=(None,), name='title1_en') # title1_en\n",
        "inputs2 = Input(shape=(None,), name='title2_en') # title2_en\n",
        "\n",
        "embedding1 = Embedding(max_words, embedding_dim-50)(inputs1)\n",
        "embedding2 = Embedding(max_words, embedding_dim-50)(inputs2)\n",
        "\n",
        "conv1 = Conv1D(128, 3, activation='relu')(embedding1)\n",
        "conv2 = Conv1D(128, 3, activation='relu')(embedding2)\n",
        "\n",
        "pool1 = MaxPooling1D()(conv1)\n",
        "pool2 = MaxPooling1D()(conv2)\n",
        "\n",
        "lstm1 = LSTM(64)(pool1)\n",
        "lstm2 = LSTM(64)(pool2)\n",
        "\n",
        "x1 = Dense(32)(lstm1)\n",
        "x2 = Dense(32)(lstm2)\n",
        "\n",
        "conc = concatenate([x1, x2], axis=-1)\n",
        "x = Dense(16, activation='relu')(conc)\n",
        "\n",
        "y = Dense(3, activation='softmax')(x)\n",
        "\n",
        "model = Model([inputs1, inputs2], y)\n",
        "model.summary()\n",
        "\n"
      ],
      "metadata": {
        "colab": {
          "base_uri": "https://localhost:8080/"
        },
        "id": "Ev3oeD3W_ni3",
        "outputId": "648294d9-6636-4493-f04f-29064c0bb42d"
      },
      "id": "Ev3oeD3W_ni3",
      "execution_count": null,
      "outputs": [
        {
          "output_type": "stream",
          "name": "stdout",
          "text": [
            "Model: \"model_1\"\n",
            "__________________________________________________________________________________________________\n",
            " Layer (type)                   Output Shape         Param #     Connected to                     \n",
            "==================================================================================================\n",
            " title1_en (InputLayer)         [(None, None)]       0           []                               \n",
            "                                                                                                  \n",
            " title2_en (InputLayer)         [(None, None)]       0           []                               \n",
            "                                                                                                  \n",
            " embedding_2 (Embedding)        (None, None, 50)     2349400     ['title1_en[0][0]']              \n",
            "                                                                                                  \n",
            " embedding_3 (Embedding)        (None, None, 50)     2349400     ['title2_en[0][0]']              \n",
            "                                                                                                  \n",
            " conv1d_2 (Conv1D)              (None, None, 128)    19328       ['embedding_2[0][0]']            \n",
            "                                                                                                  \n",
            " conv1d_3 (Conv1D)              (None, None, 128)    19328       ['embedding_3[0][0]']            \n",
            "                                                                                                  \n",
            " max_pooling1d_2 (MaxPooling1D)  (None, None, 128)   0           ['conv1d_2[0][0]']               \n",
            "                                                                                                  \n",
            " max_pooling1d_3 (MaxPooling1D)  (None, None, 128)   0           ['conv1d_3[0][0]']               \n",
            "                                                                                                  \n",
            " lstm_2 (LSTM)                  (None, 64)           49408       ['max_pooling1d_2[0][0]']        \n",
            "                                                                                                  \n",
            " lstm_3 (LSTM)                  (None, 64)           49408       ['max_pooling1d_3[0][0]']        \n",
            "                                                                                                  \n",
            " dense_4 (Dense)                (None, 32)           2080        ['lstm_2[0][0]']                 \n",
            "                                                                                                  \n",
            " dense_5 (Dense)                (None, 32)           2080        ['lstm_3[0][0]']                 \n",
            "                                                                                                  \n",
            " concatenate_1 (Concatenate)    (None, 64)           0           ['dense_4[0][0]',                \n",
            "                                                                  'dense_5[0][0]']                \n",
            "                                                                                                  \n",
            " dense_6 (Dense)                (None, 16)           1040        ['concatenate_1[0][0]']          \n",
            "                                                                                                  \n",
            " dense_7 (Dense)                (None, 3)            51          ['dense_6[0][0]']                \n",
            "                                                                                                  \n",
            "==================================================================================================\n",
            "Total params: 4,841,523\n",
            "Trainable params: 4,841,523\n",
            "Non-trainable params: 0\n",
            "__________________________________________________________________________________________________\n"
          ]
        }
      ]
    },
    {
      "cell_type": "code",
      "source": [
        "train['label']"
      ],
      "metadata": {
        "colab": {
          "base_uri": "https://localhost:8080/"
        },
        "id": "8i4qxMxR34lU",
        "outputId": "bb46be97-1c3e-4683-d4b3-53a69877b072"
      },
      "id": "8i4qxMxR34lU",
      "execution_count": null,
      "outputs": [
        {
          "output_type": "execute_result",
          "data": {
            "text/plain": [
              "0         2\n",
              "1         0\n",
              "2         0\n",
              "3         1\n",
              "4         0\n",
              "         ..\n",
              "291977    1\n",
              "291978    1\n",
              "291979    0\n",
              "291980    2\n",
              "291981    0\n",
              "Name: label, Length: 291982, dtype: int64"
            ]
          },
          "metadata": {},
          "execution_count": 56
        }
      ]
    },
    {
      "cell_type": "code",
      "source": [
        "model.compile(loss=\"sparse_categorical_crossentropy\", optimizer=tf.keras.optimizers.Adam(learning_rate=0.0001), metrics=['accuracy']) \n",
        "history = model.fit([input1, input2], np.array(train['label']), epochs=5)"
      ],
      "metadata": {
        "colab": {
          "base_uri": "https://localhost:8080/"
        },
        "id": "Jh5iAxpWWLW5",
        "outputId": "999b8bbd-539e-4014-f788-201aff12b549"
      },
      "id": "Jh5iAxpWWLW5",
      "execution_count": null,
      "outputs": [
        {
          "output_type": "stream",
          "name": "stdout",
          "text": [
            "Epoch 1/5\n",
            "9125/9125 [==============================] - 214s 23ms/step - loss: 0.5554 - accuracy: 0.7350\n",
            "Epoch 2/5\n",
            "9125/9125 [==============================] - 180s 20ms/step - loss: 0.3746 - accuracy: 0.8295\n",
            "Epoch 3/5\n",
            "9125/9125 [==============================] - 181s 20ms/step - loss: 0.3163 - accuracy: 0.8603\n",
            "Epoch 4/5\n",
            "9125/9125 [==============================] - 181s 20ms/step - loss: 0.2720 - accuracy: 0.8832\n",
            "Epoch 5/5\n",
            "9125/9125 [==============================] - 180s 20ms/step - loss: 0.2347 - accuracy: 0.9020\n"
          ]
        }
      ]
    },
    {
      "cell_type": "code",
      "source": [
        "model.save_weights(\"Final_model_custom_embedding.h5\")"
      ],
      "metadata": {
        "id": "uBwqIlR7dLd_"
      },
      "id": "uBwqIlR7dLd_",
      "execution_count": null,
      "outputs": []
    },
    {
      "cell_type": "code",
      "source": [
        "y_pred = model.predict([test1, test2])"
      ],
      "metadata": {
        "id": "IzAHW-U_7X24",
        "colab": {
          "base_uri": "https://localhost:8080/"
        },
        "outputId": "6b5ad81c-2285-4076-ca12-45a66ff27262"
      },
      "id": "IzAHW-U_7X24",
      "execution_count": null,
      "outputs": [
        {
          "output_type": "stream",
          "name": "stdout",
          "text": [
            "2004/2004 [==============================] - 15s 7ms/step\n"
          ]
        }
      ]
    },
    {
      "cell_type": "code",
      "source": [
        "y_pred"
      ],
      "metadata": {
        "colab": {
          "base_uri": "https://localhost:8080/"
        },
        "id": "0Y9rpefCsqEc",
        "outputId": "f170f22b-94e5-40fa-fcdb-91f0ed9e4712"
      },
      "id": "0Y9rpefCsqEc",
      "execution_count": null,
      "outputs": [
        {
          "output_type": "execute_result",
          "data": {
            "text/plain": [
              "array([[8.7668812e-01, 1.2330588e-01, 5.9360682e-06],\n",
              "       [8.8094974e-01, 1.1904865e-01, 1.5251959e-06],\n",
              "       [9.9806136e-01, 1.7177541e-03, 2.2083275e-04],\n",
              "       ...,\n",
              "       [8.4309690e-02, 9.1568893e-01, 1.4155535e-06],\n",
              "       [9.9330270e-01, 6.3395849e-03, 3.5773680e-04],\n",
              "       [6.4534175e-01, 3.5430697e-01, 3.5137165e-04]], dtype=float32)"
            ]
          },
          "metadata": {},
          "execution_count": 60
        }
      ]
    },
    {
      "cell_type": "code",
      "source": [
        "d = {'id': test['id'], 'label': np.argmax(y_pred, axis=1)}\n",
        "submission = pd.DataFrame(data=d, columns=['id', 'label'])\n",
        "submission['label'] = submission['label'].map({0:'unrelated', 1:'agreed', 2:'disagreed'})"
      ],
      "metadata": {
        "id": "QCM48dyArtTZ"
      },
      "id": "QCM48dyArtTZ",
      "execution_count": null,
      "outputs": []
    },
    {
      "cell_type": "code",
      "source": [
        "submission.reset_index(drop=True, inplace=True)\n",
        "submission.head()"
      ],
      "metadata": {
        "colab": {
          "base_uri": "https://localhost:8080/",
          "height": 206
        },
        "id": "9brjNg1FthTm",
        "outputId": "d9cf8f89-5bc7-4636-869f-b44aff25cebc"
      },
      "id": "9brjNg1FthTm",
      "execution_count": null,
      "outputs": [
        {
          "output_type": "execute_result",
          "data": {
            "text/plain": [
              "       id      label\n",
              "0  256442  unrelated\n",
              "1  256443  unrelated\n",
              "2  256444  unrelated\n",
              "3  256445  unrelated\n",
              "4  256446  unrelated"
            ],
            "text/html": [
              "\n",
              "  <div id=\"df-92a52acb-fc34-4057-82aa-075d2402d0d1\">\n",
              "    <div class=\"colab-df-container\">\n",
              "      <div>\n",
              "<style scoped>\n",
              "    .dataframe tbody tr th:only-of-type {\n",
              "        vertical-align: middle;\n",
              "    }\n",
              "\n",
              "    .dataframe tbody tr th {\n",
              "        vertical-align: top;\n",
              "    }\n",
              "\n",
              "    .dataframe thead th {\n",
              "        text-align: right;\n",
              "    }\n",
              "</style>\n",
              "<table border=\"1\" class=\"dataframe\">\n",
              "  <thead>\n",
              "    <tr style=\"text-align: right;\">\n",
              "      <th></th>\n",
              "      <th>id</th>\n",
              "      <th>label</th>\n",
              "    </tr>\n",
              "  </thead>\n",
              "  <tbody>\n",
              "    <tr>\n",
              "      <th>0</th>\n",
              "      <td>256442</td>\n",
              "      <td>unrelated</td>\n",
              "    </tr>\n",
              "    <tr>\n",
              "      <th>1</th>\n",
              "      <td>256443</td>\n",
              "      <td>unrelated</td>\n",
              "    </tr>\n",
              "    <tr>\n",
              "      <th>2</th>\n",
              "      <td>256444</td>\n",
              "      <td>unrelated</td>\n",
              "    </tr>\n",
              "    <tr>\n",
              "      <th>3</th>\n",
              "      <td>256445</td>\n",
              "      <td>unrelated</td>\n",
              "    </tr>\n",
              "    <tr>\n",
              "      <th>4</th>\n",
              "      <td>256446</td>\n",
              "      <td>unrelated</td>\n",
              "    </tr>\n",
              "  </tbody>\n",
              "</table>\n",
              "</div>\n",
              "      <button class=\"colab-df-convert\" onclick=\"convertToInteractive('df-92a52acb-fc34-4057-82aa-075d2402d0d1')\"\n",
              "              title=\"Convert this dataframe to an interactive table.\"\n",
              "              style=\"display:none;\">\n",
              "        \n",
              "  <svg xmlns=\"http://www.w3.org/2000/svg\" height=\"24px\"viewBox=\"0 0 24 24\"\n",
              "       width=\"24px\">\n",
              "    <path d=\"M0 0h24v24H0V0z\" fill=\"none\"/>\n",
              "    <path d=\"M18.56 5.44l.94 2.06.94-2.06 2.06-.94-2.06-.94-.94-2.06-.94 2.06-2.06.94zm-11 1L8.5 8.5l.94-2.06 2.06-.94-2.06-.94L8.5 2.5l-.94 2.06-2.06.94zm10 10l.94 2.06.94-2.06 2.06-.94-2.06-.94-.94-2.06-.94 2.06-2.06.94z\"/><path d=\"M17.41 7.96l-1.37-1.37c-.4-.4-.92-.59-1.43-.59-.52 0-1.04.2-1.43.59L10.3 9.45l-7.72 7.72c-.78.78-.78 2.05 0 2.83L4 21.41c.39.39.9.59 1.41.59.51 0 1.02-.2 1.41-.59l7.78-7.78 2.81-2.81c.8-.78.8-2.07 0-2.86zM5.41 20L4 18.59l7.72-7.72 1.47 1.35L5.41 20z\"/>\n",
              "  </svg>\n",
              "      </button>\n",
              "      \n",
              "  <style>\n",
              "    .colab-df-container {\n",
              "      display:flex;\n",
              "      flex-wrap:wrap;\n",
              "      gap: 12px;\n",
              "    }\n",
              "\n",
              "    .colab-df-convert {\n",
              "      background-color: #E8F0FE;\n",
              "      border: none;\n",
              "      border-radius: 50%;\n",
              "      cursor: pointer;\n",
              "      display: none;\n",
              "      fill: #1967D2;\n",
              "      height: 32px;\n",
              "      padding: 0 0 0 0;\n",
              "      width: 32px;\n",
              "    }\n",
              "\n",
              "    .colab-df-convert:hover {\n",
              "      background-color: #E2EBFA;\n",
              "      box-shadow: 0px 1px 2px rgba(60, 64, 67, 0.3), 0px 1px 3px 1px rgba(60, 64, 67, 0.15);\n",
              "      fill: #174EA6;\n",
              "    }\n",
              "\n",
              "    [theme=dark] .colab-df-convert {\n",
              "      background-color: #3B4455;\n",
              "      fill: #D2E3FC;\n",
              "    }\n",
              "\n",
              "    [theme=dark] .colab-df-convert:hover {\n",
              "      background-color: #434B5C;\n",
              "      box-shadow: 0px 1px 3px 1px rgba(0, 0, 0, 0.15);\n",
              "      filter: drop-shadow(0px 1px 2px rgba(0, 0, 0, 0.3));\n",
              "      fill: #FFFFFF;\n",
              "    }\n",
              "  </style>\n",
              "\n",
              "      <script>\n",
              "        const buttonEl =\n",
              "          document.querySelector('#df-92a52acb-fc34-4057-82aa-075d2402d0d1 button.colab-df-convert');\n",
              "        buttonEl.style.display =\n",
              "          google.colab.kernel.accessAllowed ? 'block' : 'none';\n",
              "\n",
              "        async function convertToInteractive(key) {\n",
              "          const element = document.querySelector('#df-92a52acb-fc34-4057-82aa-075d2402d0d1');\n",
              "          const dataTable =\n",
              "            await google.colab.kernel.invokeFunction('convertToInteractive',\n",
              "                                                     [key], {});\n",
              "          if (!dataTable) return;\n",
              "\n",
              "          const docLinkHtml = 'Like what you see? Visit the ' +\n",
              "            '<a target=\"_blank\" href=https://colab.research.google.com/notebooks/data_table.ipynb>data table notebook</a>'\n",
              "            + ' to learn more about interactive tables.';\n",
              "          element.innerHTML = '';\n",
              "          dataTable['output_type'] = 'display_data';\n",
              "          await google.colab.output.renderOutput(dataTable, element);\n",
              "          const docLink = document.createElement('div');\n",
              "          docLink.innerHTML = docLinkHtml;\n",
              "          element.appendChild(docLink);\n",
              "        }\n",
              "      </script>\n",
              "    </div>\n",
              "  </div>\n",
              "  "
            ]
          },
          "metadata": {},
          "execution_count": 62
        }
      ]
    },
    {
      "cell_type": "code",
      "source": [
        "submission.label.value_counts()"
      ],
      "metadata": {
        "colab": {
          "base_uri": "https://localhost:8080/"
        },
        "id": "EF39k1Blr2kf",
        "outputId": "ef6d0e39-f0cd-4ade-c0fa-2d2de368fda2"
      },
      "id": "EF39k1Blr2kf",
      "execution_count": null,
      "outputs": [
        {
          "output_type": "execute_result",
          "data": {
            "text/plain": [
              "unrelated    44494\n",
              "agreed       17401\n",
              "disagreed     2215\n",
              "Name: label, dtype: int64"
            ]
          },
          "metadata": {},
          "execution_count": 63
        }
      ]
    },
    {
      "cell_type": "code",
      "source": [
        "submission.to_csv(\"submission.csv\", index=False)"
      ],
      "metadata": {
        "id": "n9t0nbO_r85p"
      },
      "id": "n9t0nbO_r85p",
      "execution_count": null,
      "outputs": []
    },
    {
      "cell_type": "code",
      "source": [],
      "metadata": {
        "id": "sL2OSFJktRKY"
      },
      "id": "sL2OSFJktRKY",
      "execution_count": null,
      "outputs": []
    }
  ],
  "metadata": {
    "kernelspec": {
      "display_name": "Python 3 (ipykernel)",
      "language": "python",
      "name": "python3"
    },
    "language_info": {
      "codemirror_mode": {
        "name": "ipython",
        "version": 3
      },
      "file_extension": ".py",
      "mimetype": "text/x-python",
      "name": "python",
      "nbconvert_exporter": "python",
      "pygments_lexer": "ipython3",
      "version": "3.8.5"
    },
    "colab": {
      "provenance": []
    },
    "accelerator": "GPU",
    "gpuClass": "premium"
  },
  "nbformat": 4,
  "nbformat_minor": 5
}