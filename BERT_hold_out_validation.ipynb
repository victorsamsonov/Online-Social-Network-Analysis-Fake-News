{
  "cells": [
    {
      "cell_type": "code",
      "source": [
        "!unzip glove.6B.zip -d my_data\n"
      ],
      "metadata": {
        "colab": {
          "base_uri": "https://localhost:8080/"
        },
        "id": "nwkn4PwyvreF",
        "outputId": "56e6ad36-2270-4029-f9d9-1766dbb09a5b"
      },
      "id": "nwkn4PwyvreF",
      "execution_count": null,
      "outputs": [
        {
          "output_type": "stream",
          "name": "stdout",
          "text": [
            "unzip:  cannot find or open glove.6B.zip, glove.6B.zip.zip or glove.6B.zip.ZIP.\n"
          ]
        }
      ]
    },
    {
      "cell_type": "code",
      "source": [
        "!pip install keras_preprocessing"
      ],
      "metadata": {
        "colab": {
          "base_uri": "https://localhost:8080/"
        },
        "id": "lsvdlcUEz-lo",
        "outputId": "44a1214c-c534-4041-fbad-310cfeceafa6"
      },
      "id": "lsvdlcUEz-lo",
      "execution_count": 1,
      "outputs": [
        {
          "output_type": "stream",
          "name": "stdout",
          "text": [
            "Looking in indexes: https://pypi.org/simple, https://us-python.pkg.dev/colab-wheels/public/simple/\n",
            "Collecting keras_preprocessing\n",
            "  Downloading Keras_Preprocessing-1.1.2-py2.py3-none-any.whl (42 kB)\n",
            "\u001b[2K     \u001b[90m━━━━━━━━━━━━━━━━━━━━━━━━━━━━━━━━━━━━━━━━\u001b[0m \u001b[32m42.6/42.6 kB\u001b[0m \u001b[31m4.8 MB/s\u001b[0m eta \u001b[36m0:00:00\u001b[0m\n",
            "\u001b[?25hRequirement already satisfied: numpy>=1.9.1 in /usr/local/lib/python3.9/dist-packages (from keras_preprocessing) (1.22.4)\n",
            "Requirement already satisfied: six>=1.9.0 in /usr/local/lib/python3.9/dist-packages (from keras_preprocessing) (1.16.0)\n",
            "Installing collected packages: keras_preprocessing\n",
            "Successfully installed keras_preprocessing-1.1.2\n"
          ]
        }
      ]
    },
    {
      "cell_type": "code",
      "source": [
        "import tensorflow as tf\n",
        "import keras\n",
        "from keras.layers import Dense, Embedding, Input, Flatten, LSTM, Conv1D, concatenate, MaxPooling1D\n",
        "from keras.models import Sequential, Model\n",
        "from keras_preprocessing.sequence import pad_sequences\n",
        "from sklearn.metrics import accuracy_score"
      ],
      "metadata": {
        "id": "RgQLbkarzwJ6"
      },
      "id": "RgQLbkarzwJ6",
      "execution_count": 2,
      "outputs": []
    },
    {
      "cell_type": "code",
      "execution_count": 3,
      "id": "fc340a5e",
      "metadata": {
        "id": "fc340a5e"
      },
      "outputs": [],
      "source": [
        "import pandas as pd\n",
        "import numpy as np\n",
        "import matplotlib.pyplot as plt\n",
        "import seaborn as sns\n",
        "from sklearn.feature_extraction.text import CountVectorizer\n",
        "from sklearn.model_selection import train_test_split\n",
        "from sklearn.feature_extraction.text import TfidfTransformer\n",
        "from sklearn.naive_bayes import GaussianNB\n"
      ]
    },
    {
      "cell_type": "code",
      "source": [
        "max_len = 50\n",
        "embedding_dim = 100"
      ],
      "metadata": {
        "id": "FfJWT6a30NiO"
      },
      "id": "FfJWT6a30NiO",
      "execution_count": 4,
      "outputs": []
    },
    {
      "cell_type": "code",
      "execution_count": 59,
      "id": "a6ab5143",
      "metadata": {
        "id": "a6ab5143"
      },
      "outputs": [],
      "source": [
        "sns.set_theme(style=\"whitegrid\")\n",
        "df = pd.read_csv(\"train.csv\").sample(frac=1, random_state=42)\n",
        "test = pd.read_csv(\"test.csv\")"
      ]
    },
    {
      "cell_type": "code",
      "source": [
        "val = df.sample(n=20000)\n",
        "val, len(val)"
      ],
      "metadata": {
        "id": "XL5Ah8U5yJgz",
        "colab": {
          "base_uri": "https://localhost:8080/"
        },
        "outputId": "c5777feb-56d7-40dd-8efd-2f0c20351487"
      },
      "id": "XL5Ah8U5yJgz",
      "execution_count": 60,
      "outputs": [
        {
          "output_type": "execute_result",
          "data": {
            "text/plain": [
              "(            id    tid1    tid2  \\\n",
              " 207582  121248  136927  136934   \n",
              " 198623   20634  131402  131396   \n",
              " 137119  244974   91229   91232   \n",
              " 105429  184733   70035   70037   \n",
              " 240635  214348  157826  157916   \n",
              " ...        ...     ...     ...   \n",
              " 94381    57180   63087   63094   \n",
              " 148064  176252   98199   98200   \n",
              " 205947  185231  135881  135811   \n",
              " 63486    83464   43613   94656   \n",
              " 35852    51759   24454  102340   \n",
              " \n",
              "                                                 title1_en  \\\n",
              " 207582  Li Chen is going to be a father, Fan Bingbing ...   \n",
              " 198623  Yi Zhong Qixi retired entertainment circle, th...   \n",
              " 137119  Lin renews love exposure, zhao liying \"matchle...   \n",
              " 105429  Three new subsidies in rural areas, up to fift...   \n",
              " 240635      The hollow tomatoes are loaded with hormones.   \n",
              " ...                                                   ...   \n",
              " 94381   Yu Ling Xiong said: 2018 will make a lot of po...   \n",
              " 148064  The delivery boy delivers food in the rain, th...   \n",
              " 205947          Li Tianyi has been arranged to go abroad.   \n",
              " 63486   The delivery boy got a bad rap, crying in the ...   \n",
              " 35852   CCTV has broadcast, since yesterday the nation...   \n",
              " \n",
              "                                                 title2_en      label  \n",
              " 207582  Why would Fan Bingbing look at Li Chen? The ba...  unrelated  \n",
              " 198623  Yi Zhili has to temporarily retire from the en...     agreed  \n",
              " 137119  Lin Renxin, Wang Likun love again reality hamm...  unrelated  \n",
              " 105429  do n't take the cp for her and lin! zhao liyin...  unrelated  \n",
              " 240635  Exposure of Fan Bingbing's Mansion! Li Chen: e...  unrelated  \n",
              " ...                                                   ...        ...  \n",
              " 94381   Yu Lan Xiong said: 2018 will make a lot of poo...     agreed  \n",
              " 148064  The blood pressure of high blood pressure! One...  unrelated  \n",
              " 205947  Li Tianyi's release six years early is a rumor...  disagreed  \n",
              " 63486   The delivery boy got a bad comment from the gu...     agreed  \n",
              " 35852                   Rumors of \"Withdrawal from India\"  unrelated  \n",
              " \n",
              " [20000 rows x 6 columns],\n",
              " 20000)"
            ]
          },
          "metadata": {},
          "execution_count": 60
        }
      ]
    },
    {
      "cell_type": "code",
      "source": [
        "val['label'].value_counts()"
      ],
      "metadata": {
        "colab": {
          "base_uri": "https://localhost:8080/"
        },
        "id": "DtRmz8vBc_kH",
        "outputId": "2092beb7-ff38-442a-d46b-774434ac79cb"
      },
      "id": "DtRmz8vBc_kH",
      "execution_count": 61,
      "outputs": [
        {
          "output_type": "execute_result",
          "data": {
            "text/plain": [
              "unrelated    13639\n",
              "agreed        5840\n",
              "disagreed      521\n",
              "Name: label, dtype: int64"
            ]
          },
          "metadata": {},
          "execution_count": 61
        }
      ]
    },
    {
      "cell_type": "code",
      "source": [
        "val.head()"
      ],
      "metadata": {
        "colab": {
          "base_uri": "https://localhost:8080/",
          "height": 424
        },
        "id": "7HUJ528_y6jL",
        "outputId": "19cd70aa-5085-4091-ad3a-0092f7870068"
      },
      "id": "7HUJ528_y6jL",
      "execution_count": 62,
      "outputs": [
        {
          "output_type": "execute_result",
          "data": {
            "text/plain": [
              "            id    tid1    tid2  \\\n",
              "207582  121248  136927  136934   \n",
              "198623   20634  131402  131396   \n",
              "137119  244974   91229   91232   \n",
              "105429  184733   70035   70037   \n",
              "240635  214348  157826  157916   \n",
              "\n",
              "                                                title1_en  \\\n",
              "207582  Li Chen is going to be a father, Fan Bingbing ...   \n",
              "198623  Yi Zhong Qixi retired entertainment circle, th...   \n",
              "137119  Lin renews love exposure, zhao liying \"matchle...   \n",
              "105429  Three new subsidies in rural areas, up to fift...   \n",
              "240635      The hollow tomatoes are loaded with hormones.   \n",
              "\n",
              "                                                title2_en      label  \n",
              "207582  Why would Fan Bingbing look at Li Chen? The ba...  unrelated  \n",
              "198623  Yi Zhili has to temporarily retire from the en...     agreed  \n",
              "137119  Lin Renxin, Wang Likun love again reality hamm...  unrelated  \n",
              "105429  do n't take the cp for her and lin! zhao liyin...  unrelated  \n",
              "240635  Exposure of Fan Bingbing's Mansion! Li Chen: e...  unrelated  "
            ],
            "text/html": [
              "\n",
              "  <div id=\"df-dade01b0-8f89-478e-80be-905c9967a834\">\n",
              "    <div class=\"colab-df-container\">\n",
              "      <div>\n",
              "<style scoped>\n",
              "    .dataframe tbody tr th:only-of-type {\n",
              "        vertical-align: middle;\n",
              "    }\n",
              "\n",
              "    .dataframe tbody tr th {\n",
              "        vertical-align: top;\n",
              "    }\n",
              "\n",
              "    .dataframe thead th {\n",
              "        text-align: right;\n",
              "    }\n",
              "</style>\n",
              "<table border=\"1\" class=\"dataframe\">\n",
              "  <thead>\n",
              "    <tr style=\"text-align: right;\">\n",
              "      <th></th>\n",
              "      <th>id</th>\n",
              "      <th>tid1</th>\n",
              "      <th>tid2</th>\n",
              "      <th>title1_en</th>\n",
              "      <th>title2_en</th>\n",
              "      <th>label</th>\n",
              "    </tr>\n",
              "  </thead>\n",
              "  <tbody>\n",
              "    <tr>\n",
              "      <th>207582</th>\n",
              "      <td>121248</td>\n",
              "      <td>136927</td>\n",
              "      <td>136934</td>\n",
              "      <td>Li Chen is going to be a father, Fan Bingbing ...</td>\n",
              "      <td>Why would Fan Bingbing look at Li Chen? The ba...</td>\n",
              "      <td>unrelated</td>\n",
              "    </tr>\n",
              "    <tr>\n",
              "      <th>198623</th>\n",
              "      <td>20634</td>\n",
              "      <td>131402</td>\n",
              "      <td>131396</td>\n",
              "      <td>Yi Zhong Qixi retired entertainment circle, th...</td>\n",
              "      <td>Yi Zhili has to temporarily retire from the en...</td>\n",
              "      <td>agreed</td>\n",
              "    </tr>\n",
              "    <tr>\n",
              "      <th>137119</th>\n",
              "      <td>244974</td>\n",
              "      <td>91229</td>\n",
              "      <td>91232</td>\n",
              "      <td>Lin renews love exposure, zhao liying \"matchle...</td>\n",
              "      <td>Lin Renxin, Wang Likun love again reality hamm...</td>\n",
              "      <td>unrelated</td>\n",
              "    </tr>\n",
              "    <tr>\n",
              "      <th>105429</th>\n",
              "      <td>184733</td>\n",
              "      <td>70035</td>\n",
              "      <td>70037</td>\n",
              "      <td>Three new subsidies in rural areas, up to fift...</td>\n",
              "      <td>do n't take the cp for her and lin! zhao liyin...</td>\n",
              "      <td>unrelated</td>\n",
              "    </tr>\n",
              "    <tr>\n",
              "      <th>240635</th>\n",
              "      <td>214348</td>\n",
              "      <td>157826</td>\n",
              "      <td>157916</td>\n",
              "      <td>The hollow tomatoes are loaded with hormones.</td>\n",
              "      <td>Exposure of Fan Bingbing's Mansion! Li Chen: e...</td>\n",
              "      <td>unrelated</td>\n",
              "    </tr>\n",
              "  </tbody>\n",
              "</table>\n",
              "</div>\n",
              "      <button class=\"colab-df-convert\" onclick=\"convertToInteractive('df-dade01b0-8f89-478e-80be-905c9967a834')\"\n",
              "              title=\"Convert this dataframe to an interactive table.\"\n",
              "              style=\"display:none;\">\n",
              "        \n",
              "  <svg xmlns=\"http://www.w3.org/2000/svg\" height=\"24px\"viewBox=\"0 0 24 24\"\n",
              "       width=\"24px\">\n",
              "    <path d=\"M0 0h24v24H0V0z\" fill=\"none\"/>\n",
              "    <path d=\"M18.56 5.44l.94 2.06.94-2.06 2.06-.94-2.06-.94-.94-2.06-.94 2.06-2.06.94zm-11 1L8.5 8.5l.94-2.06 2.06-.94-2.06-.94L8.5 2.5l-.94 2.06-2.06.94zm10 10l.94 2.06.94-2.06 2.06-.94-2.06-.94-.94-2.06-.94 2.06-2.06.94z\"/><path d=\"M17.41 7.96l-1.37-1.37c-.4-.4-.92-.59-1.43-.59-.52 0-1.04.2-1.43.59L10.3 9.45l-7.72 7.72c-.78.78-.78 2.05 0 2.83L4 21.41c.39.39.9.59 1.41.59.51 0 1.02-.2 1.41-.59l7.78-7.78 2.81-2.81c.8-.78.8-2.07 0-2.86zM5.41 20L4 18.59l7.72-7.72 1.47 1.35L5.41 20z\"/>\n",
              "  </svg>\n",
              "      </button>\n",
              "      \n",
              "  <style>\n",
              "    .colab-df-container {\n",
              "      display:flex;\n",
              "      flex-wrap:wrap;\n",
              "      gap: 12px;\n",
              "    }\n",
              "\n",
              "    .colab-df-convert {\n",
              "      background-color: #E8F0FE;\n",
              "      border: none;\n",
              "      border-radius: 50%;\n",
              "      cursor: pointer;\n",
              "      display: none;\n",
              "      fill: #1967D2;\n",
              "      height: 32px;\n",
              "      padding: 0 0 0 0;\n",
              "      width: 32px;\n",
              "    }\n",
              "\n",
              "    .colab-df-convert:hover {\n",
              "      background-color: #E2EBFA;\n",
              "      box-shadow: 0px 1px 2px rgba(60, 64, 67, 0.3), 0px 1px 3px 1px rgba(60, 64, 67, 0.15);\n",
              "      fill: #174EA6;\n",
              "    }\n",
              "\n",
              "    [theme=dark] .colab-df-convert {\n",
              "      background-color: #3B4455;\n",
              "      fill: #D2E3FC;\n",
              "    }\n",
              "\n",
              "    [theme=dark] .colab-df-convert:hover {\n",
              "      background-color: #434B5C;\n",
              "      box-shadow: 0px 1px 3px 1px rgba(0, 0, 0, 0.15);\n",
              "      filter: drop-shadow(0px 1px 2px rgba(0, 0, 0, 0.3));\n",
              "      fill: #FFFFFF;\n",
              "    }\n",
              "  </style>\n",
              "\n",
              "      <script>\n",
              "        const buttonEl =\n",
              "          document.querySelector('#df-dade01b0-8f89-478e-80be-905c9967a834 button.colab-df-convert');\n",
              "        buttonEl.style.display =\n",
              "          google.colab.kernel.accessAllowed ? 'block' : 'none';\n",
              "\n",
              "        async function convertToInteractive(key) {\n",
              "          const element = document.querySelector('#df-dade01b0-8f89-478e-80be-905c9967a834');\n",
              "          const dataTable =\n",
              "            await google.colab.kernel.invokeFunction('convertToInteractive',\n",
              "                                                     [key], {});\n",
              "          if (!dataTable) return;\n",
              "\n",
              "          const docLinkHtml = 'Like what you see? Visit the ' +\n",
              "            '<a target=\"_blank\" href=https://colab.research.google.com/notebooks/data_table.ipynb>data table notebook</a>'\n",
              "            + ' to learn more about interactive tables.';\n",
              "          element.innerHTML = '';\n",
              "          dataTable['output_type'] = 'display_data';\n",
              "          await google.colab.output.renderOutput(dataTable, element);\n",
              "          const docLink = document.createElement('div');\n",
              "          docLink.innerHTML = docLinkHtml;\n",
              "          element.appendChild(docLink);\n",
              "        }\n",
              "      </script>\n",
              "    </div>\n",
              "  </div>\n",
              "  "
            ]
          },
          "metadata": {},
          "execution_count": 62
        }
      ]
    },
    {
      "cell_type": "code",
      "source": [
        "df.drop(columns=['id', 'tid1', 'tid2'], inplace=True)"
      ],
      "metadata": {
        "id": "GQ3s-O6acAL-"
      },
      "id": "GQ3s-O6acAL-",
      "execution_count": 63,
      "outputs": []
    },
    {
      "cell_type": "code",
      "source": [
        "df.head()"
      ],
      "metadata": {
        "colab": {
          "base_uri": "https://localhost:8080/",
          "height": 337
        },
        "id": "xasPCbmHeNYp",
        "outputId": "e75036be-0adf-4630-b5e5-f9cad03cef8f"
      },
      "id": "xasPCbmHeNYp",
      "execution_count": 64,
      "outputs": [
        {
          "output_type": "execute_result",
          "data": {
            "text/plain": [
              "                                                title1_en  \\\n",
              "104355              Homemade rat poison. One dead litter.   \n",
              "133170  By eating these five kinds of vegetables, you ...   \n",
              "221087  The Shenzhen Nailed Nailed Households Resume $...   \n",
              "135365  Wu Jing may face a compensation of 1 billion, ...   \n",
              "170183  Yin Xiangjie out of prison, invited Mandar to ...   \n",
              "\n",
              "                                                title2_en      label  \n",
              "104355  Homemade rat poison, one dead, one dead, all k...     agreed  \n",
              "133170  Zhang DaDa \"day\" upside down begging for growt...  unrelated  \n",
              "221087  Chengdu homebuyers can't buy a house with half...  unrelated  \n",
              "135365  With billions of dollars in compensation, Wuji...     agreed  \n",
              "170183  is xu qing 's current husband a gao bo? the fa...  unrelated  "
            ],
            "text/html": [
              "\n",
              "  <div id=\"df-44255431-5784-4257-8d5d-803a035febc8\">\n",
              "    <div class=\"colab-df-container\">\n",
              "      <div>\n",
              "<style scoped>\n",
              "    .dataframe tbody tr th:only-of-type {\n",
              "        vertical-align: middle;\n",
              "    }\n",
              "\n",
              "    .dataframe tbody tr th {\n",
              "        vertical-align: top;\n",
              "    }\n",
              "\n",
              "    .dataframe thead th {\n",
              "        text-align: right;\n",
              "    }\n",
              "</style>\n",
              "<table border=\"1\" class=\"dataframe\">\n",
              "  <thead>\n",
              "    <tr style=\"text-align: right;\">\n",
              "      <th></th>\n",
              "      <th>title1_en</th>\n",
              "      <th>title2_en</th>\n",
              "      <th>label</th>\n",
              "    </tr>\n",
              "  </thead>\n",
              "  <tbody>\n",
              "    <tr>\n",
              "      <th>104355</th>\n",
              "      <td>Homemade rat poison. One dead litter.</td>\n",
              "      <td>Homemade rat poison, one dead, one dead, all k...</td>\n",
              "      <td>agreed</td>\n",
              "    </tr>\n",
              "    <tr>\n",
              "      <th>133170</th>\n",
              "      <td>By eating these five kinds of vegetables, you ...</td>\n",
              "      <td>Zhang DaDa \"day\" upside down begging for growt...</td>\n",
              "      <td>unrelated</td>\n",
              "    </tr>\n",
              "    <tr>\n",
              "      <th>221087</th>\n",
              "      <td>The Shenzhen Nailed Nailed Households Resume $...</td>\n",
              "      <td>Chengdu homebuyers can't buy a house with half...</td>\n",
              "      <td>unrelated</td>\n",
              "    </tr>\n",
              "    <tr>\n",
              "      <th>135365</th>\n",
              "      <td>Wu Jing may face a compensation of 1 billion, ...</td>\n",
              "      <td>With billions of dollars in compensation, Wuji...</td>\n",
              "      <td>agreed</td>\n",
              "    </tr>\n",
              "    <tr>\n",
              "      <th>170183</th>\n",
              "      <td>Yin Xiangjie out of prison, invited Mandar to ...</td>\n",
              "      <td>is xu qing 's current husband a gao bo? the fa...</td>\n",
              "      <td>unrelated</td>\n",
              "    </tr>\n",
              "  </tbody>\n",
              "</table>\n",
              "</div>\n",
              "      <button class=\"colab-df-convert\" onclick=\"convertToInteractive('df-44255431-5784-4257-8d5d-803a035febc8')\"\n",
              "              title=\"Convert this dataframe to an interactive table.\"\n",
              "              style=\"display:none;\">\n",
              "        \n",
              "  <svg xmlns=\"http://www.w3.org/2000/svg\" height=\"24px\"viewBox=\"0 0 24 24\"\n",
              "       width=\"24px\">\n",
              "    <path d=\"M0 0h24v24H0V0z\" fill=\"none\"/>\n",
              "    <path d=\"M18.56 5.44l.94 2.06.94-2.06 2.06-.94-2.06-.94-.94-2.06-.94 2.06-2.06.94zm-11 1L8.5 8.5l.94-2.06 2.06-.94-2.06-.94L8.5 2.5l-.94 2.06-2.06.94zm10 10l.94 2.06.94-2.06 2.06-.94-2.06-.94-.94-2.06-.94 2.06-2.06.94z\"/><path d=\"M17.41 7.96l-1.37-1.37c-.4-.4-.92-.59-1.43-.59-.52 0-1.04.2-1.43.59L10.3 9.45l-7.72 7.72c-.78.78-.78 2.05 0 2.83L4 21.41c.39.39.9.59 1.41.59.51 0 1.02-.2 1.41-.59l7.78-7.78 2.81-2.81c.8-.78.8-2.07 0-2.86zM5.41 20L4 18.59l7.72-7.72 1.47 1.35L5.41 20z\"/>\n",
              "  </svg>\n",
              "      </button>\n",
              "      \n",
              "  <style>\n",
              "    .colab-df-container {\n",
              "      display:flex;\n",
              "      flex-wrap:wrap;\n",
              "      gap: 12px;\n",
              "    }\n",
              "\n",
              "    .colab-df-convert {\n",
              "      background-color: #E8F0FE;\n",
              "      border: none;\n",
              "      border-radius: 50%;\n",
              "      cursor: pointer;\n",
              "      display: none;\n",
              "      fill: #1967D2;\n",
              "      height: 32px;\n",
              "      padding: 0 0 0 0;\n",
              "      width: 32px;\n",
              "    }\n",
              "\n",
              "    .colab-df-convert:hover {\n",
              "      background-color: #E2EBFA;\n",
              "      box-shadow: 0px 1px 2px rgba(60, 64, 67, 0.3), 0px 1px 3px 1px rgba(60, 64, 67, 0.15);\n",
              "      fill: #174EA6;\n",
              "    }\n",
              "\n",
              "    [theme=dark] .colab-df-convert {\n",
              "      background-color: #3B4455;\n",
              "      fill: #D2E3FC;\n",
              "    }\n",
              "\n",
              "    [theme=dark] .colab-df-convert:hover {\n",
              "      background-color: #434B5C;\n",
              "      box-shadow: 0px 1px 3px 1px rgba(0, 0, 0, 0.15);\n",
              "      filter: drop-shadow(0px 1px 2px rgba(0, 0, 0, 0.3));\n",
              "      fill: #FFFFFF;\n",
              "    }\n",
              "  </style>\n",
              "\n",
              "      <script>\n",
              "        const buttonEl =\n",
              "          document.querySelector('#df-44255431-5784-4257-8d5d-803a035febc8 button.colab-df-convert');\n",
              "        buttonEl.style.display =\n",
              "          google.colab.kernel.accessAllowed ? 'block' : 'none';\n",
              "\n",
              "        async function convertToInteractive(key) {\n",
              "          const element = document.querySelector('#df-44255431-5784-4257-8d5d-803a035febc8');\n",
              "          const dataTable =\n",
              "            await google.colab.kernel.invokeFunction('convertToInteractive',\n",
              "                                                     [key], {});\n",
              "          if (!dataTable) return;\n",
              "\n",
              "          const docLinkHtml = 'Like what you see? Visit the ' +\n",
              "            '<a target=\"_blank\" href=https://colab.research.google.com/notebooks/data_table.ipynb>data table notebook</a>'\n",
              "            + ' to learn more about interactive tables.';\n",
              "          element.innerHTML = '';\n",
              "          dataTable['output_type'] = 'display_data';\n",
              "          await google.colab.output.renderOutput(dataTable, element);\n",
              "          const docLink = document.createElement('div');\n",
              "          docLink.innerHTML = docLinkHtml;\n",
              "          element.appendChild(docLink);\n",
              "        }\n",
              "      </script>\n",
              "    </div>\n",
              "  </div>\n",
              "  "
            ]
          },
          "metadata": {},
          "execution_count": 64
        }
      ]
    },
    {
      "cell_type": "code",
      "source": [
        "train = df[~df.isin(val)].dropna()"
      ],
      "metadata": {
        "id": "3RlplDQdyRz-"
      },
      "id": "3RlplDQdyRz-",
      "execution_count": 65,
      "outputs": []
    },
    {
      "cell_type": "code",
      "source": [
        "train.head()"
      ],
      "metadata": {
        "colab": {
          "base_uri": "https://localhost:8080/",
          "height": 337
        },
        "id": "Kf2GmszueTdk",
        "outputId": "bdf4286b-3f8b-4284-868e-3c6fb5366815"
      },
      "id": "Kf2GmszueTdk",
      "execution_count": 66,
      "outputs": [
        {
          "output_type": "execute_result",
          "data": {
            "text/plain": [
              "                                                title1_en  \\\n",
              "133170  By eating these five kinds of vegetables, you ...   \n",
              "221087  The Shenzhen Nailed Nailed Households Resume $...   \n",
              "135365  Wu Jing may face a compensation of 1 billion, ...   \n",
              "170183  Yin Xiangjie out of prison, invited Mandar to ...   \n",
              "213876  Drinking a cup every day after meals can preve...   \n",
              "\n",
              "                                                title2_en      label  \n",
              "133170  Zhang DaDa \"day\" upside down begging for growt...  unrelated  \n",
              "221087  Chengdu homebuyers can't buy a house with half...  unrelated  \n",
              "135365  With billions of dollars in compensation, Wuji...     agreed  \n",
              "170183  is xu qing 's current husband a gao bo? the fa...  unrelated  \n",
              "213876  Drinking one cup a day can prevent and treat h...     agreed  "
            ],
            "text/html": [
              "\n",
              "  <div id=\"df-f5d1631c-6578-459a-8520-aa8eb58d96ce\">\n",
              "    <div class=\"colab-df-container\">\n",
              "      <div>\n",
              "<style scoped>\n",
              "    .dataframe tbody tr th:only-of-type {\n",
              "        vertical-align: middle;\n",
              "    }\n",
              "\n",
              "    .dataframe tbody tr th {\n",
              "        vertical-align: top;\n",
              "    }\n",
              "\n",
              "    .dataframe thead th {\n",
              "        text-align: right;\n",
              "    }\n",
              "</style>\n",
              "<table border=\"1\" class=\"dataframe\">\n",
              "  <thead>\n",
              "    <tr style=\"text-align: right;\">\n",
              "      <th></th>\n",
              "      <th>title1_en</th>\n",
              "      <th>title2_en</th>\n",
              "      <th>label</th>\n",
              "    </tr>\n",
              "  </thead>\n",
              "  <tbody>\n",
              "    <tr>\n",
              "      <th>133170</th>\n",
              "      <td>By eating these five kinds of vegetables, you ...</td>\n",
              "      <td>Zhang DaDa \"day\" upside down begging for growt...</td>\n",
              "      <td>unrelated</td>\n",
              "    </tr>\n",
              "    <tr>\n",
              "      <th>221087</th>\n",
              "      <td>The Shenzhen Nailed Nailed Households Resume $...</td>\n",
              "      <td>Chengdu homebuyers can't buy a house with half...</td>\n",
              "      <td>unrelated</td>\n",
              "    </tr>\n",
              "    <tr>\n",
              "      <th>135365</th>\n",
              "      <td>Wu Jing may face a compensation of 1 billion, ...</td>\n",
              "      <td>With billions of dollars in compensation, Wuji...</td>\n",
              "      <td>agreed</td>\n",
              "    </tr>\n",
              "    <tr>\n",
              "      <th>170183</th>\n",
              "      <td>Yin Xiangjie out of prison, invited Mandar to ...</td>\n",
              "      <td>is xu qing 's current husband a gao bo? the fa...</td>\n",
              "      <td>unrelated</td>\n",
              "    </tr>\n",
              "    <tr>\n",
              "      <th>213876</th>\n",
              "      <td>Drinking a cup every day after meals can preve...</td>\n",
              "      <td>Drinking one cup a day can prevent and treat h...</td>\n",
              "      <td>agreed</td>\n",
              "    </tr>\n",
              "  </tbody>\n",
              "</table>\n",
              "</div>\n",
              "      <button class=\"colab-df-convert\" onclick=\"convertToInteractive('df-f5d1631c-6578-459a-8520-aa8eb58d96ce')\"\n",
              "              title=\"Convert this dataframe to an interactive table.\"\n",
              "              style=\"display:none;\">\n",
              "        \n",
              "  <svg xmlns=\"http://www.w3.org/2000/svg\" height=\"24px\"viewBox=\"0 0 24 24\"\n",
              "       width=\"24px\">\n",
              "    <path d=\"M0 0h24v24H0V0z\" fill=\"none\"/>\n",
              "    <path d=\"M18.56 5.44l.94 2.06.94-2.06 2.06-.94-2.06-.94-.94-2.06-.94 2.06-2.06.94zm-11 1L8.5 8.5l.94-2.06 2.06-.94-2.06-.94L8.5 2.5l-.94 2.06-2.06.94zm10 10l.94 2.06.94-2.06 2.06-.94-2.06-.94-.94-2.06-.94 2.06-2.06.94z\"/><path d=\"M17.41 7.96l-1.37-1.37c-.4-.4-.92-.59-1.43-.59-.52 0-1.04.2-1.43.59L10.3 9.45l-7.72 7.72c-.78.78-.78 2.05 0 2.83L4 21.41c.39.39.9.59 1.41.59.51 0 1.02-.2 1.41-.59l7.78-7.78 2.81-2.81c.8-.78.8-2.07 0-2.86zM5.41 20L4 18.59l7.72-7.72 1.47 1.35L5.41 20z\"/>\n",
              "  </svg>\n",
              "      </button>\n",
              "      \n",
              "  <style>\n",
              "    .colab-df-container {\n",
              "      display:flex;\n",
              "      flex-wrap:wrap;\n",
              "      gap: 12px;\n",
              "    }\n",
              "\n",
              "    .colab-df-convert {\n",
              "      background-color: #E8F0FE;\n",
              "      border: none;\n",
              "      border-radius: 50%;\n",
              "      cursor: pointer;\n",
              "      display: none;\n",
              "      fill: #1967D2;\n",
              "      height: 32px;\n",
              "      padding: 0 0 0 0;\n",
              "      width: 32px;\n",
              "    }\n",
              "\n",
              "    .colab-df-convert:hover {\n",
              "      background-color: #E2EBFA;\n",
              "      box-shadow: 0px 1px 2px rgba(60, 64, 67, 0.3), 0px 1px 3px 1px rgba(60, 64, 67, 0.15);\n",
              "      fill: #174EA6;\n",
              "    }\n",
              "\n",
              "    [theme=dark] .colab-df-convert {\n",
              "      background-color: #3B4455;\n",
              "      fill: #D2E3FC;\n",
              "    }\n",
              "\n",
              "    [theme=dark] .colab-df-convert:hover {\n",
              "      background-color: #434B5C;\n",
              "      box-shadow: 0px 1px 3px 1px rgba(0, 0, 0, 0.15);\n",
              "      filter: drop-shadow(0px 1px 2px rgba(0, 0, 0, 0.3));\n",
              "      fill: #FFFFFF;\n",
              "    }\n",
              "  </style>\n",
              "\n",
              "      <script>\n",
              "        const buttonEl =\n",
              "          document.querySelector('#df-f5d1631c-6578-459a-8520-aa8eb58d96ce button.colab-df-convert');\n",
              "        buttonEl.style.display =\n",
              "          google.colab.kernel.accessAllowed ? 'block' : 'none';\n",
              "\n",
              "        async function convertToInteractive(key) {\n",
              "          const element = document.querySelector('#df-f5d1631c-6578-459a-8520-aa8eb58d96ce');\n",
              "          const dataTable =\n",
              "            await google.colab.kernel.invokeFunction('convertToInteractive',\n",
              "                                                     [key], {});\n",
              "          if (!dataTable) return;\n",
              "\n",
              "          const docLinkHtml = 'Like what you see? Visit the ' +\n",
              "            '<a target=\"_blank\" href=https://colab.research.google.com/notebooks/data_table.ipynb>data table notebook</a>'\n",
              "            + ' to learn more about interactive tables.';\n",
              "          element.innerHTML = '';\n",
              "          dataTable['output_type'] = 'display_data';\n",
              "          await google.colab.output.renderOutput(dataTable, element);\n",
              "          const docLink = document.createElement('div');\n",
              "          docLink.innerHTML = docLinkHtml;\n",
              "          element.appendChild(docLink);\n",
              "        }\n",
              "      </script>\n",
              "    </div>\n",
              "  </div>\n",
              "  "
            ]
          },
          "metadata": {},
          "execution_count": 66
        }
      ]
    },
    {
      "cell_type": "code",
      "source": [
        "train.label.value_counts(), df.label.value_counts()"
      ],
      "metadata": {
        "colab": {
          "base_uri": "https://localhost:8080/"
        },
        "id": "LuvEqMWXY-Nx",
        "outputId": "d15579cf-79b1-47bd-e4ae-09f3b61d6a5d"
      },
      "id": "LuvEqMWXY-Nx",
      "execution_count": 67,
      "outputs": [
        {
          "output_type": "execute_result",
          "data": {
            "text/plain": [
              "(unrelated    161959\n",
              " agreed        68398\n",
              " disagreed      6085\n",
              " Name: label, dtype: int64,\n",
              " unrelated    175598\n",
              " agreed        74238\n",
              " disagreed      6606\n",
              " Name: label, dtype: int64)"
            ]
          },
          "metadata": {},
          "execution_count": 67
        }
      ]
    },
    {
      "cell_type": "code",
      "source": [
        "len(train)"
      ],
      "metadata": {
        "colab": {
          "base_uri": "https://localhost:8080/"
        },
        "id": "Fe-HuMKeyg0O",
        "outputId": "10128597-e2d9-4952-e98f-b3c8311b9770"
      },
      "id": "Fe-HuMKeyg0O",
      "execution_count": 68,
      "outputs": [
        {
          "output_type": "execute_result",
          "data": {
            "text/plain": [
              "236442"
            ]
          },
          "metadata": {},
          "execution_count": 68
        }
      ]
    },
    {
      "cell_type": "code",
      "execution_count": 69,
      "id": "5983877e",
      "metadata": {
        "colab": {
          "base_uri": "https://localhost:8080/",
          "height": 337
        },
        "id": "5983877e",
        "outputId": "1d7e3a3f-4f46-43f9-fead-6e22d9955520"
      },
      "outputs": [
        {
          "output_type": "execute_result",
          "data": {
            "text/plain": [
              "                                                title1_en  \\\n",
              "104355              Homemade rat poison. One dead litter.   \n",
              "133170  By eating these five kinds of vegetables, you ...   \n",
              "221087  The Shenzhen Nailed Nailed Households Resume $...   \n",
              "135365  Wu Jing may face a compensation of 1 billion, ...   \n",
              "170183  Yin Xiangjie out of prison, invited Mandar to ...   \n",
              "\n",
              "                                                title2_en      label  \n",
              "104355  Homemade rat poison, one dead, one dead, all k...     agreed  \n",
              "133170  Zhang DaDa \"day\" upside down begging for growt...  unrelated  \n",
              "221087  Chengdu homebuyers can't buy a house with half...  unrelated  \n",
              "135365  With billions of dollars in compensation, Wuji...     agreed  \n",
              "170183  is xu qing 's current husband a gao bo? the fa...  unrelated  "
            ],
            "text/html": [
              "\n",
              "  <div id=\"df-105a9ac7-0e50-480f-bf85-bb5fb52149f8\">\n",
              "    <div class=\"colab-df-container\">\n",
              "      <div>\n",
              "<style scoped>\n",
              "    .dataframe tbody tr th:only-of-type {\n",
              "        vertical-align: middle;\n",
              "    }\n",
              "\n",
              "    .dataframe tbody tr th {\n",
              "        vertical-align: top;\n",
              "    }\n",
              "\n",
              "    .dataframe thead th {\n",
              "        text-align: right;\n",
              "    }\n",
              "</style>\n",
              "<table border=\"1\" class=\"dataframe\">\n",
              "  <thead>\n",
              "    <tr style=\"text-align: right;\">\n",
              "      <th></th>\n",
              "      <th>title1_en</th>\n",
              "      <th>title2_en</th>\n",
              "      <th>label</th>\n",
              "    </tr>\n",
              "  </thead>\n",
              "  <tbody>\n",
              "    <tr>\n",
              "      <th>104355</th>\n",
              "      <td>Homemade rat poison. One dead litter.</td>\n",
              "      <td>Homemade rat poison, one dead, one dead, all k...</td>\n",
              "      <td>agreed</td>\n",
              "    </tr>\n",
              "    <tr>\n",
              "      <th>133170</th>\n",
              "      <td>By eating these five kinds of vegetables, you ...</td>\n",
              "      <td>Zhang DaDa \"day\" upside down begging for growt...</td>\n",
              "      <td>unrelated</td>\n",
              "    </tr>\n",
              "    <tr>\n",
              "      <th>221087</th>\n",
              "      <td>The Shenzhen Nailed Nailed Households Resume $...</td>\n",
              "      <td>Chengdu homebuyers can't buy a house with half...</td>\n",
              "      <td>unrelated</td>\n",
              "    </tr>\n",
              "    <tr>\n",
              "      <th>135365</th>\n",
              "      <td>Wu Jing may face a compensation of 1 billion, ...</td>\n",
              "      <td>With billions of dollars in compensation, Wuji...</td>\n",
              "      <td>agreed</td>\n",
              "    </tr>\n",
              "    <tr>\n",
              "      <th>170183</th>\n",
              "      <td>Yin Xiangjie out of prison, invited Mandar to ...</td>\n",
              "      <td>is xu qing 's current husband a gao bo? the fa...</td>\n",
              "      <td>unrelated</td>\n",
              "    </tr>\n",
              "  </tbody>\n",
              "</table>\n",
              "</div>\n",
              "      <button class=\"colab-df-convert\" onclick=\"convertToInteractive('df-105a9ac7-0e50-480f-bf85-bb5fb52149f8')\"\n",
              "              title=\"Convert this dataframe to an interactive table.\"\n",
              "              style=\"display:none;\">\n",
              "        \n",
              "  <svg xmlns=\"http://www.w3.org/2000/svg\" height=\"24px\"viewBox=\"0 0 24 24\"\n",
              "       width=\"24px\">\n",
              "    <path d=\"M0 0h24v24H0V0z\" fill=\"none\"/>\n",
              "    <path d=\"M18.56 5.44l.94 2.06.94-2.06 2.06-.94-2.06-.94-.94-2.06-.94 2.06-2.06.94zm-11 1L8.5 8.5l.94-2.06 2.06-.94-2.06-.94L8.5 2.5l-.94 2.06-2.06.94zm10 10l.94 2.06.94-2.06 2.06-.94-2.06-.94-.94-2.06-.94 2.06-2.06.94z\"/><path d=\"M17.41 7.96l-1.37-1.37c-.4-.4-.92-.59-1.43-.59-.52 0-1.04.2-1.43.59L10.3 9.45l-7.72 7.72c-.78.78-.78 2.05 0 2.83L4 21.41c.39.39.9.59 1.41.59.51 0 1.02-.2 1.41-.59l7.78-7.78 2.81-2.81c.8-.78.8-2.07 0-2.86zM5.41 20L4 18.59l7.72-7.72 1.47 1.35L5.41 20z\"/>\n",
              "  </svg>\n",
              "      </button>\n",
              "      \n",
              "  <style>\n",
              "    .colab-df-container {\n",
              "      display:flex;\n",
              "      flex-wrap:wrap;\n",
              "      gap: 12px;\n",
              "    }\n",
              "\n",
              "    .colab-df-convert {\n",
              "      background-color: #E8F0FE;\n",
              "      border: none;\n",
              "      border-radius: 50%;\n",
              "      cursor: pointer;\n",
              "      display: none;\n",
              "      fill: #1967D2;\n",
              "      height: 32px;\n",
              "      padding: 0 0 0 0;\n",
              "      width: 32px;\n",
              "    }\n",
              "\n",
              "    .colab-df-convert:hover {\n",
              "      background-color: #E2EBFA;\n",
              "      box-shadow: 0px 1px 2px rgba(60, 64, 67, 0.3), 0px 1px 3px 1px rgba(60, 64, 67, 0.15);\n",
              "      fill: #174EA6;\n",
              "    }\n",
              "\n",
              "    [theme=dark] .colab-df-convert {\n",
              "      background-color: #3B4455;\n",
              "      fill: #D2E3FC;\n",
              "    }\n",
              "\n",
              "    [theme=dark] .colab-df-convert:hover {\n",
              "      background-color: #434B5C;\n",
              "      box-shadow: 0px 1px 3px 1px rgba(0, 0, 0, 0.15);\n",
              "      filter: drop-shadow(0px 1px 2px rgba(0, 0, 0, 0.3));\n",
              "      fill: #FFFFFF;\n",
              "    }\n",
              "  </style>\n",
              "\n",
              "      <script>\n",
              "        const buttonEl =\n",
              "          document.querySelector('#df-105a9ac7-0e50-480f-bf85-bb5fb52149f8 button.colab-df-convert');\n",
              "        buttonEl.style.display =\n",
              "          google.colab.kernel.accessAllowed ? 'block' : 'none';\n",
              "\n",
              "        async function convertToInteractive(key) {\n",
              "          const element = document.querySelector('#df-105a9ac7-0e50-480f-bf85-bb5fb52149f8');\n",
              "          const dataTable =\n",
              "            await google.colab.kernel.invokeFunction('convertToInteractive',\n",
              "                                                     [key], {});\n",
              "          if (!dataTable) return;\n",
              "\n",
              "          const docLinkHtml = 'Like what you see? Visit the ' +\n",
              "            '<a target=\"_blank\" href=https://colab.research.google.com/notebooks/data_table.ipynb>data table notebook</a>'\n",
              "            + ' to learn more about interactive tables.';\n",
              "          element.innerHTML = '';\n",
              "          dataTable['output_type'] = 'display_data';\n",
              "          await google.colab.output.renderOutput(dataTable, element);\n",
              "          const docLink = document.createElement('div');\n",
              "          docLink.innerHTML = docLinkHtml;\n",
              "          element.appendChild(docLink);\n",
              "        }\n",
              "      </script>\n",
              "    </div>\n",
              "  </div>\n",
              "  "
            ]
          },
          "metadata": {},
          "execution_count": 69
        }
      ],
      "source": [
        "df.head()"
      ]
    },
    {
      "cell_type": "code",
      "execution_count": 70,
      "id": "ae07fdcf",
      "metadata": {
        "scrolled": true,
        "colab": {
          "base_uri": "https://localhost:8080/",
          "height": 337
        },
        "id": "ae07fdcf",
        "outputId": "053a5d37-5eeb-454a-a569-5ea6a948f4ce"
      },
      "outputs": [
        {
          "output_type": "execute_result",
          "data": {
            "text/plain": [
              "       id    tid1    tid2                                          title1_en  \\\n",
              "0  256442  100672  100673  The great coat brother Zhu Zhu Wen, in the man...   \n",
              "1  256443  162269  162270  NASA reveals facts about UFO wreckage found on...   \n",
              "2  256444  157826  157854      The hollow tomatoes are loaded with hormones.   \n",
              "3  256445  109579   74076  Ange Pavilion Geoshui: How accurate is Matrimo...   \n",
              "4  256446   15068   15085  A 50-year-old bus-bus blows up an 8-year-old c...   \n",
              "\n",
              "                                           title2_en  \n",
              "0  Lin xinsheng after the birth of \"hard milking,...  \n",
              "1  The UFO found in Yuancun, Jiaocheng County, Sh...  \n",
              "2  Li chenfan bingbing home photos, netizen: this...  \n",
              "3  Master one: the eight-character presumption of...  \n",
              "4  < i > Joe Johnson's disgruntled timing and ord...  "
            ],
            "text/html": [
              "\n",
              "  <div id=\"df-6f2d46e0-c331-4230-a397-aef39c3b4332\">\n",
              "    <div class=\"colab-df-container\">\n",
              "      <div>\n",
              "<style scoped>\n",
              "    .dataframe tbody tr th:only-of-type {\n",
              "        vertical-align: middle;\n",
              "    }\n",
              "\n",
              "    .dataframe tbody tr th {\n",
              "        vertical-align: top;\n",
              "    }\n",
              "\n",
              "    .dataframe thead th {\n",
              "        text-align: right;\n",
              "    }\n",
              "</style>\n",
              "<table border=\"1\" class=\"dataframe\">\n",
              "  <thead>\n",
              "    <tr style=\"text-align: right;\">\n",
              "      <th></th>\n",
              "      <th>id</th>\n",
              "      <th>tid1</th>\n",
              "      <th>tid2</th>\n",
              "      <th>title1_en</th>\n",
              "      <th>title2_en</th>\n",
              "    </tr>\n",
              "  </thead>\n",
              "  <tbody>\n",
              "    <tr>\n",
              "      <th>0</th>\n",
              "      <td>256442</td>\n",
              "      <td>100672</td>\n",
              "      <td>100673</td>\n",
              "      <td>The great coat brother Zhu Zhu Wen, in the man...</td>\n",
              "      <td>Lin xinsheng after the birth of \"hard milking,...</td>\n",
              "    </tr>\n",
              "    <tr>\n",
              "      <th>1</th>\n",
              "      <td>256443</td>\n",
              "      <td>162269</td>\n",
              "      <td>162270</td>\n",
              "      <td>NASA reveals facts about UFO wreckage found on...</td>\n",
              "      <td>The UFO found in Yuancun, Jiaocheng County, Sh...</td>\n",
              "    </tr>\n",
              "    <tr>\n",
              "      <th>2</th>\n",
              "      <td>256444</td>\n",
              "      <td>157826</td>\n",
              "      <td>157854</td>\n",
              "      <td>The hollow tomatoes are loaded with hormones.</td>\n",
              "      <td>Li chenfan bingbing home photos, netizen: this...</td>\n",
              "    </tr>\n",
              "    <tr>\n",
              "      <th>3</th>\n",
              "      <td>256445</td>\n",
              "      <td>109579</td>\n",
              "      <td>74076</td>\n",
              "      <td>Ange Pavilion Geoshui: How accurate is Matrimo...</td>\n",
              "      <td>Master one: the eight-character presumption of...</td>\n",
              "    </tr>\n",
              "    <tr>\n",
              "      <th>4</th>\n",
              "      <td>256446</td>\n",
              "      <td>15068</td>\n",
              "      <td>15085</td>\n",
              "      <td>A 50-year-old bus-bus blows up an 8-year-old c...</td>\n",
              "      <td>&lt; i &gt; Joe Johnson's disgruntled timing and ord...</td>\n",
              "    </tr>\n",
              "  </tbody>\n",
              "</table>\n",
              "</div>\n",
              "      <button class=\"colab-df-convert\" onclick=\"convertToInteractive('df-6f2d46e0-c331-4230-a397-aef39c3b4332')\"\n",
              "              title=\"Convert this dataframe to an interactive table.\"\n",
              "              style=\"display:none;\">\n",
              "        \n",
              "  <svg xmlns=\"http://www.w3.org/2000/svg\" height=\"24px\"viewBox=\"0 0 24 24\"\n",
              "       width=\"24px\">\n",
              "    <path d=\"M0 0h24v24H0V0z\" fill=\"none\"/>\n",
              "    <path d=\"M18.56 5.44l.94 2.06.94-2.06 2.06-.94-2.06-.94-.94-2.06-.94 2.06-2.06.94zm-11 1L8.5 8.5l.94-2.06 2.06-.94-2.06-.94L8.5 2.5l-.94 2.06-2.06.94zm10 10l.94 2.06.94-2.06 2.06-.94-2.06-.94-.94-2.06-.94 2.06-2.06.94z\"/><path d=\"M17.41 7.96l-1.37-1.37c-.4-.4-.92-.59-1.43-.59-.52 0-1.04.2-1.43.59L10.3 9.45l-7.72 7.72c-.78.78-.78 2.05 0 2.83L4 21.41c.39.39.9.59 1.41.59.51 0 1.02-.2 1.41-.59l7.78-7.78 2.81-2.81c.8-.78.8-2.07 0-2.86zM5.41 20L4 18.59l7.72-7.72 1.47 1.35L5.41 20z\"/>\n",
              "  </svg>\n",
              "      </button>\n",
              "      \n",
              "  <style>\n",
              "    .colab-df-container {\n",
              "      display:flex;\n",
              "      flex-wrap:wrap;\n",
              "      gap: 12px;\n",
              "    }\n",
              "\n",
              "    .colab-df-convert {\n",
              "      background-color: #E8F0FE;\n",
              "      border: none;\n",
              "      border-radius: 50%;\n",
              "      cursor: pointer;\n",
              "      display: none;\n",
              "      fill: #1967D2;\n",
              "      height: 32px;\n",
              "      padding: 0 0 0 0;\n",
              "      width: 32px;\n",
              "    }\n",
              "\n",
              "    .colab-df-convert:hover {\n",
              "      background-color: #E2EBFA;\n",
              "      box-shadow: 0px 1px 2px rgba(60, 64, 67, 0.3), 0px 1px 3px 1px rgba(60, 64, 67, 0.15);\n",
              "      fill: #174EA6;\n",
              "    }\n",
              "\n",
              "    [theme=dark] .colab-df-convert {\n",
              "      background-color: #3B4455;\n",
              "      fill: #D2E3FC;\n",
              "    }\n",
              "\n",
              "    [theme=dark] .colab-df-convert:hover {\n",
              "      background-color: #434B5C;\n",
              "      box-shadow: 0px 1px 3px 1px rgba(0, 0, 0, 0.15);\n",
              "      filter: drop-shadow(0px 1px 2px rgba(0, 0, 0, 0.3));\n",
              "      fill: #FFFFFF;\n",
              "    }\n",
              "  </style>\n",
              "\n",
              "      <script>\n",
              "        const buttonEl =\n",
              "          document.querySelector('#df-6f2d46e0-c331-4230-a397-aef39c3b4332 button.colab-df-convert');\n",
              "        buttonEl.style.display =\n",
              "          google.colab.kernel.accessAllowed ? 'block' : 'none';\n",
              "\n",
              "        async function convertToInteractive(key) {\n",
              "          const element = document.querySelector('#df-6f2d46e0-c331-4230-a397-aef39c3b4332');\n",
              "          const dataTable =\n",
              "            await google.colab.kernel.invokeFunction('convertToInteractive',\n",
              "                                                     [key], {});\n",
              "          if (!dataTable) return;\n",
              "\n",
              "          const docLinkHtml = 'Like what you see? Visit the ' +\n",
              "            '<a target=\"_blank\" href=https://colab.research.google.com/notebooks/data_table.ipynb>data table notebook</a>'\n",
              "            + ' to learn more about interactive tables.';\n",
              "          element.innerHTML = '';\n",
              "          dataTable['output_type'] = 'display_data';\n",
              "          await google.colab.output.renderOutput(dataTable, element);\n",
              "          const docLink = document.createElement('div');\n",
              "          docLink.innerHTML = docLinkHtml;\n",
              "          element.appendChild(docLink);\n",
              "        }\n",
              "      </script>\n",
              "    </div>\n",
              "  </div>\n",
              "  "
            ]
          },
          "metadata": {},
          "execution_count": 70
        }
      ],
      "source": [
        "test.head()"
      ]
    },
    {
      "cell_type": "code",
      "execution_count": 71,
      "id": "90db2bf9",
      "metadata": {
        "scrolled": true,
        "colab": {
          "base_uri": "https://localhost:8080/"
        },
        "id": "90db2bf9",
        "outputId": "c8b3dfd2-d7b7-420d-8fd2-466e331d92b8"
      },
      "outputs": [
        {
          "output_type": "execute_result",
          "data": {
            "text/plain": [
              "(title1_en    0\n",
              " title2_en    0\n",
              " label        0\n",
              " dtype: int64,\n",
              " id           0\n",
              " tid1         0\n",
              " tid2         0\n",
              " title1_en    0\n",
              " title2_en    0\n",
              " dtype: int64)"
            ]
          },
          "metadata": {},
          "execution_count": 71
        }
      ],
      "source": [
        "df.isnull().sum(), test.isnull().sum()"
      ]
    },
    {
      "cell_type": "markdown",
      "id": "871e0477",
      "metadata": {
        "id": "871e0477"
      },
      "source": [
        "#### There are no missing values"
      ]
    },
    {
      "cell_type": "code",
      "execution_count": 72,
      "id": "1c0e965b",
      "metadata": {
        "colab": {
          "base_uri": "https://localhost:8080/"
        },
        "id": "1c0e965b",
        "outputId": "60b8430b-b31f-4471-dbea-1aa7ab39ea05"
      },
      "outputs": [
        {
          "output_type": "execute_result",
          "data": {
            "text/plain": [
              "array(['agreed', 'unrelated', 'disagreed'], dtype=object)"
            ]
          },
          "metadata": {},
          "execution_count": 72
        }
      ],
      "source": [
        "df['label'].unique()"
      ]
    },
    {
      "cell_type": "code",
      "execution_count": 73,
      "id": "37a83169",
      "metadata": {
        "colab": {
          "base_uri": "https://localhost:8080/",
          "height": 497
        },
        "id": "37a83169",
        "outputId": "7a84eeb7-22b7-41a1-fe79-9508a829a96a"
      },
      "outputs": [
        {
          "output_type": "execute_result",
          "data": {
            "text/plain": [
              "Text(0.5, 0, 'Labels')"
            ]
          },
          "metadata": {},
          "execution_count": 73
        },
        {
          "output_type": "display_data",
          "data": {
            "text/plain": [
              "<Figure size 640x480 with 1 Axes>"
            ],
            "image/png": "[encoded data removed]"
          },
          "metadata": {}
        }
      ],
      "source": [
        "sns.countplot(x=df['label'])\n",
        "plt.title(\"Label Count\")\n",
        "plt.xlabel(\"Labels\")"
      ]
    },
    {
      "cell_type": "code",
      "source": [
        "sns.countplot(x=val['label'])\n",
        "plt.title(\"Label Count\")\n",
        "plt.xlabel(\"Labels\")"
      ],
      "metadata": {
        "colab": {
          "base_uri": "https://localhost:8080/",
          "height": 497
        },
        "id": "hdcIsObhv9JS",
        "outputId": "a668a6e6-fd00-4cc1-b371-cceaa0de9ef8"
      },
      "id": "hdcIsObhv9JS",
      "execution_count": 74,
      "outputs": [
        {
          "output_type": "execute_result",
          "data": {
            "text/plain": [
              "Text(0.5, 0, 'Labels')"
            ]
          },
          "metadata": {},
          "execution_count": 74
        },
        {
          "output_type": "display_data",
          "data": {
            "text/plain": [
              "<Figure size 640x480 with 1 Axes>"
            ],
            "image/png": "[encoded data removed]"
          },
          "metadata": {}
        }
      ]
    },
    {
      "cell_type": "code",
      "source": [
        "!pip install nlpaug"
      ],
      "metadata": {
        "colab": {
          "base_uri": "https://localhost:8080/"
        },
        "id": "b-flKSAS0Djb",
        "outputId": "5ed15346-8307-4733-bf9d-c30e5b57f26b"
      },
      "id": "b-flKSAS0Djb",
      "execution_count": 75,
      "outputs": [
        {
          "output_type": "stream",
          "name": "stdout",
          "text": [
            "Looking in indexes: https://pypi.org/simple, https://us-python.pkg.dev/colab-wheels/public/simple/\n",
            "Requirement already satisfied: nlpaug in /usr/local/lib/python3.9/dist-packages (1.1.11)\n",
            "Requirement already satisfied: pandas>=1.2.0 in /usr/local/lib/python3.9/dist-packages (from nlpaug) (1.5.3)\n",
            "Requirement already satisfied: gdown>=4.0.0 in /usr/local/lib/python3.9/dist-packages (from nlpaug) (4.6.6)\n",
            "Requirement already satisfied: numpy>=1.16.2 in /usr/local/lib/python3.9/dist-packages (from nlpaug) (1.22.4)\n",
            "Requirement already satisfied: requests>=2.22.0 in /usr/local/lib/python3.9/dist-packages (from nlpaug) (2.27.1)\n",
            "Requirement already satisfied: six in /usr/local/lib/python3.9/dist-packages (from gdown>=4.0.0->nlpaug) (1.16.0)\n",
            "Requirement already satisfied: beautifulsoup4 in /usr/local/lib/python3.9/dist-packages (from gdown>=4.0.0->nlpaug) (4.11.2)\n",
            "Requirement already satisfied: filelock in /usr/local/lib/python3.9/dist-packages (from gdown>=4.0.0->nlpaug) (3.11.0)\n",
            "Requirement already satisfied: tqdm in /usr/local/lib/python3.9/dist-packages (from gdown>=4.0.0->nlpaug) (4.65.0)\n",
            "Requirement already satisfied: pytz>=2020.1 in /usr/local/lib/python3.9/dist-packages (from pandas>=1.2.0->nlpaug) (2022.7.1)\n",
            "Requirement already satisfied: python-dateutil>=2.8.1 in /usr/local/lib/python3.9/dist-packages (from pandas>=1.2.0->nlpaug) (2.8.2)\n",
            "Requirement already satisfied: idna<4,>=2.5 in /usr/local/lib/python3.9/dist-packages (from requests>=2.22.0->nlpaug) (3.4)\n",
            "Requirement already satisfied: urllib3<1.27,>=1.21.1 in /usr/local/lib/python3.9/dist-packages (from requests>=2.22.0->nlpaug) (1.26.15)\n",
            "Requirement already satisfied: charset-normalizer~=2.0.0 in /usr/local/lib/python3.9/dist-packages (from requests>=2.22.0->nlpaug) (2.0.12)\n",
            "Requirement already satisfied: certifi>=2017.4.17 in /usr/local/lib/python3.9/dist-packages (from requests>=2.22.0->nlpaug) (2022.12.7)\n",
            "Requirement already satisfied: soupsieve>1.2 in /usr/local/lib/python3.9/dist-packages (from beautifulsoup4->gdown>=4.0.0->nlpaug) (2.4.1)\n",
            "Requirement already satisfied: PySocks!=1.5.7,>=1.5.6 in /usr/local/lib/python3.9/dist-packages (from requests>=2.22.0->nlpaug) (1.7.1)\n"
          ]
        }
      ]
    },
    {
      "cell_type": "code",
      "source": [
        "import nlpaug.augmenter.word as naw\n",
        "syn_aug = naw.SynonymAug(aug_p=0.3, aug_max=1)"
      ],
      "metadata": {
        "id": "8ath991K0Qs4"
      },
      "id": "8ath991K0Qs4",
      "execution_count": 76,
      "outputs": []
    },
    {
      "cell_type": "code",
      "source": [
        "disagreed_train = train[train.label=='disagreed']\n",
        "curr = []\n",
        "for i, s in enumerate(disagreed_train.iloc[:, 0]):\n",
        "    l = []\n",
        "    mod_sentence = syn_aug.augment(s, n=1)[0]\n",
        "    if mod_sentence != disagreed_train.iloc[i, 0]:\n",
        "        l.append(mod_sentence)\n",
        "        l.append(disagreed_train.iloc[i, 1])\n",
        "        l.append(disagreed_train.iloc[i, 2])\n",
        "        curr.append(l)\n",
        "\n",
        "for i, s in enumerate(disagreed_train.iloc[:, 0]):\n",
        "    l = []\n",
        "    mod_sentence1 = syn_aug.augment(s, n=1)[0]\n",
        "    mod_sentence2 = syn_aug.augment(disagreed_train.iloc[i, 1], n=1)[0]\n",
        "    if mod_sentence1 != disagreed_train.iloc[i, 0] and mod_sentence2 != disagreed_train.iloc[i, 1]:\n",
        "        l.append(mod_sentence1)\n",
        "        l.append(mod_sentence2)\n",
        "        l.append(disagreed_train.iloc[i, 2])\n",
        "        curr.append(l)\n",
        "\n",
        "for i, s in enumerate(disagreed_train.iloc[:, 1]):\n",
        "    l = []\n",
        "    mod_sentence = syn_aug.augment(s, n=1)[0]\n",
        "    if mod_sentence != disagreed_train.iloc[i, 1]:\n",
        "        l.append(disagreed_train.iloc[i, 0])\n",
        "        l.append(mod_sentence)\n",
        "        l.append(disagreed_train.iloc[i, 2])\n",
        "        curr.append(l)\n"
      ],
      "metadata": {
        "id": "Bg3zOMTD0WKX"
      },
      "id": "Bg3zOMTD0WKX",
      "execution_count": 77,
      "outputs": []
    },
    {
      "cell_type": "code",
      "source": [
        "len(curr), len(disagreed_train)"
      ],
      "metadata": {
        "colab": {
          "base_uri": "https://localhost:8080/"
        },
        "id": "GQcodSol0qXE",
        "outputId": "c225f4f3-0166-4238-c79d-874ef017084e"
      },
      "id": "GQcodSol0qXE",
      "execution_count": 78,
      "outputs": [
        {
          "output_type": "execute_result",
          "data": {
            "text/plain": [
              "(14826, 6085)"
            ]
          },
          "metadata": {},
          "execution_count": 78
        }
      ]
    },
    {
      "cell_type": "code",
      "source": [
        "syn_aug = naw.SynonymAug(aug_p=0.3, aug_max=3)"
      ],
      "metadata": {
        "id": "g_uXuvDr0vKi"
      },
      "id": "g_uXuvDr0vKi",
      "execution_count": 79,
      "outputs": []
    },
    {
      "cell_type": "code",
      "source": [
        "for i, s in enumerate(disagreed_train.iloc[:, 0]):\n",
        "    l = []\n",
        "    mod_sentence = syn_aug.augment(s, n=1)[0]\n",
        "    if mod_sentence != disagreed_train.iloc[i, 0]:\n",
        "        l.append(mod_sentence)\n",
        "        l.append(disagreed_train.iloc[i, 1])\n",
        "        l.append(disagreed_train.iloc[i, 2])\n",
        "        curr.append(l)\n",
        "\n",
        "for i, s in enumerate(disagreed_train.iloc[:, 0]):\n",
        "    l = []\n",
        "    mod_sentence1 = syn_aug.augment(s, n=1)[0]\n",
        "    mod_sentence2 = syn_aug.augment(disagreed_train.iloc[i, 1], n=1)[0]\n",
        "    if mod_sentence1 != disagreed_train.iloc[i, 0] and mod_sentence2 != disagreed_train.iloc[i, 1]:\n",
        "        l.append(mod_sentence1)\n",
        "        l.append(mod_sentence2)\n",
        "        l.append(disagreed_train.iloc[i, 2])\n",
        "        curr.append(l)\n",
        "\n",
        "for i, s in enumerate(disagreed_train.iloc[:, 1]):\n",
        "    l = []\n",
        "    mod_sentence = syn_aug.augment(s, n=1)[0]\n",
        "    if mod_sentence != disagreed_train.iloc[i, 1]:\n",
        "        l.append(disagreed_train.iloc[i, 0])\n",
        "        l.append(mod_sentence)\n",
        "        l.append(disagreed_train.iloc[i, 2])\n",
        "        curr.append(l)"
      ],
      "metadata": {
        "id": "pBAVt0gL0yWt"
      },
      "id": "pBAVt0gL0yWt",
      "execution_count": 80,
      "outputs": []
    },
    {
      "cell_type": "code",
      "source": [
        "len(curr)"
      ],
      "metadata": {
        "colab": {
          "base_uri": "https://localhost:8080/"
        },
        "id": "23SA-IS00050",
        "outputId": "2eaa0683-2a28-4210-a522-a0f67dac3771"
      },
      "id": "23SA-IS00050",
      "execution_count": 81,
      "outputs": [
        {
          "output_type": "execute_result",
          "data": {
            "text/plain": [
              "32710"
            ]
          },
          "metadata": {},
          "execution_count": 81
        }
      ]
    },
    {
      "cell_type": "code",
      "source": [
        "curr = np.array(curr)"
      ],
      "metadata": {
        "id": "UUvHbBni1bfo"
      },
      "id": "UUvHbBni1bfo",
      "execution_count": 82,
      "outputs": []
    },
    {
      "cell_type": "code",
      "source": [
        "AGREED_COUNT = train['label'].value_counts()[1]\n",
        "unrelated_train = train[train.label=='unrelated']\n",
        "agreed_train = train[train.label=='agreed']\n",
        "disagreed_train = train[train.label=='disagreed']\n",
        "additional_data = pd.DataFrame(data=curr, columns=['title1_en', 'title2_en', 'label'])\n",
        "train = pd.concat([unrelated_train, agreed_train, disagreed_train, additional_data], axis=0)"
      ],
      "metadata": {
        "id": "Y146zpCzabJb"
      },
      "id": "Y146zpCzabJb",
      "execution_count": 83,
      "outputs": []
    },
    {
      "cell_type": "code",
      "source": [
        "train = train.sample(frac=1, random_state=47)"
      ],
      "metadata": {
        "id": "3WpulQKha1kz"
      },
      "id": "3WpulQKha1kz",
      "execution_count": 84,
      "outputs": []
    },
    {
      "cell_type": "code",
      "source": [
        "train.columns"
      ],
      "metadata": {
        "colab": {
          "base_uri": "https://localhost:8080/"
        },
        "id": "ks-DpUFKag_y",
        "outputId": "799ac825-0082-4b3f-e445-11cc9342b195"
      },
      "id": "ks-DpUFKag_y",
      "execution_count": 85,
      "outputs": [
        {
          "output_type": "execute_result",
          "data": {
            "text/plain": [
              "Index(['title1_en', 'title2_en', 'label'], dtype='object')"
            ]
          },
          "metadata": {},
          "execution_count": 85
        }
      ]
    },
    {
      "cell_type": "code",
      "source": [
        "sns.countplot(x=train['label'])\n",
        "plt.title(\"Label Count\")\n",
        "plt.xlabel(\"Labels\")"
      ],
      "metadata": {
        "colab": {
          "base_uri": "https://localhost:8080/",
          "height": 497
        },
        "id": "EnIx9U5JbYgC",
        "outputId": "f1b58469-9d30-4022-b6cc-e8be6c45fb89"
      },
      "id": "EnIx9U5JbYgC",
      "execution_count": 86,
      "outputs": [
        {
          "output_type": "execute_result",
          "data": {
            "text/plain": [
              "Text(0.5, 0, 'Labels')"
            ]
          },
          "metadata": {},
          "execution_count": 86
        },
        {
          "output_type": "display_data",
          "data": {
            "text/plain": [
              "<Figure size 640x480 with 1 Axes>"
            ],
            "image/png": "[encoded data removed]"
          },
          "metadata": {}
        }
      ]
    },
    {
      "cell_type": "code",
      "source": [
        "train['label'] = train['label'].map({'unrelated':0, 'agreed':1, 'disagreed':2}).astype(np.uint8)\n",
        "train.label.unique()"
      ],
      "metadata": {
        "colab": {
          "base_uri": "https://localhost:8080/"
        },
        "id": "uCsoxgzl6HK0",
        "outputId": "cd7f7b42-a42e-4149-cd80-fd08e0ab149b"
      },
      "id": "uCsoxgzl6HK0",
      "execution_count": 87,
      "outputs": [
        {
          "output_type": "execute_result",
          "data": {
            "text/plain": [
              "array([2, 0, 1], dtype=uint8)"
            ]
          },
          "metadata": {},
          "execution_count": 87
        }
      ]
    },
    {
      "cell_type": "code",
      "source": [
        "train['label'].value_counts()"
      ],
      "metadata": {
        "colab": {
          "base_uri": "https://localhost:8080/"
        },
        "id": "Xc4LH4Y-ne7n",
        "outputId": "9a7ef861-68c3-465b-f385-18ef4296a8e8"
      },
      "id": "Xc4LH4Y-ne7n",
      "execution_count": 88,
      "outputs": [
        {
          "output_type": "execute_result",
          "data": {
            "text/plain": [
              "0    161959\n",
              "1     68398\n",
              "2     38795\n",
              "Name: label, dtype: int64"
            ]
          },
          "metadata": {},
          "execution_count": 88
        }
      ]
    },
    {
      "cell_type": "code",
      "source": [
        "val['label'] = val['label'].map({'unrelated':0, 'agreed':1, 'disagreed':2}).astype(np.uint8)"
      ],
      "metadata": {
        "id": "u8pWsoDq3AqA"
      },
      "id": "u8pWsoDq3AqA",
      "execution_count": 89,
      "outputs": []
    },
    {
      "cell_type": "code",
      "source": [
        "train.head()"
      ],
      "metadata": {
        "colab": {
          "base_uri": "https://localhost:8080/",
          "height": 337
        },
        "id": "4JIndm8KaICg",
        "outputId": "fff0af2e-c9d9-415b-cb3e-5ca0d1dec91e"
      },
      "id": "4JIndm8KaICg",
      "execution_count": 90,
      "outputs": [
        {
          "output_type": "execute_result",
          "data": {
            "text/plain": [
              "                                                title1_en  \\\n",
              "1040    34 people died in yunnan wenshan flood disaste...   \n",
              "80175   Tsao Yan's two -year-old daughter was kidnappe...   \n",
              "98288                         watching tigers eat people.   \n",
              "243014  Jujube and it together stew soup, poison sex a...   \n",
              "167812  In the cold night, 3-year-old baby looked for ...   \n",
              "\n",
              "                                                title2_en  label  \n",
              "1040    A netizen in yunnan says \"wenshan flood kills ...      2  \n",
              "80175   Drumline: Li Hongxia's 2 -year-old daughter wa...      0  \n",
              "98288   Another cctv host cancer recurrence facial def...      0  \n",
              "243014  What about goji berries and dates? You wouldn'...      0  \n",
              "167812  Are you still in the baby's crotch? After 3 mo...      0  "
            ],
            "text/html": [
              "\n",
              "  <div id=\"df-266186bc-6c90-45e3-8888-5a44d0505141\">\n",
              "    <div class=\"colab-df-container\">\n",
              "      <div>\n",
              "<style scoped>\n",
              "    .dataframe tbody tr th:only-of-type {\n",
              "        vertical-align: middle;\n",
              "    }\n",
              "\n",
              "    .dataframe tbody tr th {\n",
              "        vertical-align: top;\n",
              "    }\n",
              "\n",
              "    .dataframe thead th {\n",
              "        text-align: right;\n",
              "    }\n",
              "</style>\n",
              "<table border=\"1\" class=\"dataframe\">\n",
              "  <thead>\n",
              "    <tr style=\"text-align: right;\">\n",
              "      <th></th>\n",
              "      <th>title1_en</th>\n",
              "      <th>title2_en</th>\n",
              "      <th>label</th>\n",
              "    </tr>\n",
              "  </thead>\n",
              "  <tbody>\n",
              "    <tr>\n",
              "      <th>1040</th>\n",
              "      <td>34 people died in yunnan wenshan flood disaste...</td>\n",
              "      <td>A netizen in yunnan says \"wenshan flood kills ...</td>\n",
              "      <td>2</td>\n",
              "    </tr>\n",
              "    <tr>\n",
              "      <th>80175</th>\n",
              "      <td>Tsao Yan's two -year-old daughter was kidnappe...</td>\n",
              "      <td>Drumline: Li Hongxia's 2 -year-old daughter wa...</td>\n",
              "      <td>0</td>\n",
              "    </tr>\n",
              "    <tr>\n",
              "      <th>98288</th>\n",
              "      <td>watching tigers eat people.</td>\n",
              "      <td>Another cctv host cancer recurrence facial def...</td>\n",
              "      <td>0</td>\n",
              "    </tr>\n",
              "    <tr>\n",
              "      <th>243014</th>\n",
              "      <td>Jujube and it together stew soup, poison sex a...</td>\n",
              "      <td>What about goji berries and dates? You wouldn'...</td>\n",
              "      <td>0</td>\n",
              "    </tr>\n",
              "    <tr>\n",
              "      <th>167812</th>\n",
              "      <td>In the cold night, 3-year-old baby looked for ...</td>\n",
              "      <td>Are you still in the baby's crotch? After 3 mo...</td>\n",
              "      <td>0</td>\n",
              "    </tr>\n",
              "  </tbody>\n",
              "</table>\n",
              "</div>\n",
              "      <button class=\"colab-df-convert\" onclick=\"convertToInteractive('df-266186bc-6c90-45e3-8888-5a44d0505141')\"\n",
              "              title=\"Convert this dataframe to an interactive table.\"\n",
              "              style=\"display:none;\">\n",
              "        \n",
              "  <svg xmlns=\"http://www.w3.org/2000/svg\" height=\"24px\"viewBox=\"0 0 24 24\"\n",
              "       width=\"24px\">\n",
              "    <path d=\"M0 0h24v24H0V0z\" fill=\"none\"/>\n",
              "    <path d=\"M18.56 5.44l.94 2.06.94-2.06 2.06-.94-2.06-.94-.94-2.06-.94 2.06-2.06.94zm-11 1L8.5 8.5l.94-2.06 2.06-.94-2.06-.94L8.5 2.5l-.94 2.06-2.06.94zm10 10l.94 2.06.94-2.06 2.06-.94-2.06-.94-.94-2.06-.94 2.06-2.06.94z\"/><path d=\"M17.41 7.96l-1.37-1.37c-.4-.4-.92-.59-1.43-.59-.52 0-1.04.2-1.43.59L10.3 9.45l-7.72 7.72c-.78.78-.78 2.05 0 2.83L4 21.41c.39.39.9.59 1.41.59.51 0 1.02-.2 1.41-.59l7.78-7.78 2.81-2.81c.8-.78.8-2.07 0-2.86zM5.41 20L4 18.59l7.72-7.72 1.47 1.35L5.41 20z\"/>\n",
              "  </svg>\n",
              "      </button>\n",
              "      \n",
              "  <style>\n",
              "    .colab-df-container {\n",
              "      display:flex;\n",
              "      flex-wrap:wrap;\n",
              "      gap: 12px;\n",
              "    }\n",
              "\n",
              "    .colab-df-convert {\n",
              "      background-color: #E8F0FE;\n",
              "      border: none;\n",
              "      border-radius: 50%;\n",
              "      cursor: pointer;\n",
              "      display: none;\n",
              "      fill: #1967D2;\n",
              "      height: 32px;\n",
              "      padding: 0 0 0 0;\n",
              "      width: 32px;\n",
              "    }\n",
              "\n",
              "    .colab-df-convert:hover {\n",
              "      background-color: #E2EBFA;\n",
              "      box-shadow: 0px 1px 2px rgba(60, 64, 67, 0.3), 0px 1px 3px 1px rgba(60, 64, 67, 0.15);\n",
              "      fill: #174EA6;\n",
              "    }\n",
              "\n",
              "    [theme=dark] .colab-df-convert {\n",
              "      background-color: #3B4455;\n",
              "      fill: #D2E3FC;\n",
              "    }\n",
              "\n",
              "    [theme=dark] .colab-df-convert:hover {\n",
              "      background-color: #434B5C;\n",
              "      box-shadow: 0px 1px 3px 1px rgba(0, 0, 0, 0.15);\n",
              "      filter: drop-shadow(0px 1px 2px rgba(0, 0, 0, 0.3));\n",
              "      fill: #FFFFFF;\n",
              "    }\n",
              "  </style>\n",
              "\n",
              "      <script>\n",
              "        const buttonEl =\n",
              "          document.querySelector('#df-266186bc-6c90-45e3-8888-5a44d0505141 button.colab-df-convert');\n",
              "        buttonEl.style.display =\n",
              "          google.colab.kernel.accessAllowed ? 'block' : 'none';\n",
              "\n",
              "        async function convertToInteractive(key) {\n",
              "          const element = document.querySelector('#df-266186bc-6c90-45e3-8888-5a44d0505141');\n",
              "          const dataTable =\n",
              "            await google.colab.kernel.invokeFunction('convertToInteractive',\n",
              "                                                     [key], {});\n",
              "          if (!dataTable) return;\n",
              "\n",
              "          const docLinkHtml = 'Like what you see? Visit the ' +\n",
              "            '<a target=\"_blank\" href=https://colab.research.google.com/notebooks/data_table.ipynb>data table notebook</a>'\n",
              "            + ' to learn more about interactive tables.';\n",
              "          element.innerHTML = '';\n",
              "          dataTable['output_type'] = 'display_data';\n",
              "          await google.colab.output.renderOutput(dataTable, element);\n",
              "          const docLink = document.createElement('div');\n",
              "          docLink.innerHTML = docLinkHtml;\n",
              "          element.appendChild(docLink);\n",
              "        }\n",
              "      </script>\n",
              "    </div>\n",
              "  </div>\n",
              "  "
            ]
          },
          "metadata": {},
          "execution_count": 90
        }
      ]
    },
    {
      "cell_type": "code",
      "source": [
        "train['label'].value_counts()"
      ],
      "metadata": {
        "colab": {
          "base_uri": "https://localhost:8080/"
        },
        "id": "xsaaXXTweTUe",
        "outputId": "0d2dbe47-160e-454b-a817-a4e535bda6af"
      },
      "id": "xsaaXXTweTUe",
      "execution_count": 91,
      "outputs": [
        {
          "output_type": "execute_result",
          "data": {
            "text/plain": [
              "0    161959\n",
              "1     68398\n",
              "2     38795\n",
              "Name: label, dtype: int64"
            ]
          },
          "metadata": {},
          "execution_count": 91
        }
      ]
    },
    {
      "cell_type": "code",
      "source": [
        "!pip install transformers"
      ],
      "metadata": {
        "colab": {
          "base_uri": "https://localhost:8080/"
        },
        "id": "FHUmyJGPIczL",
        "outputId": "f0a511a4-f6ae-48c6-d723-003b2cd180c0"
      },
      "id": "FHUmyJGPIczL",
      "execution_count": 92,
      "outputs": [
        {
          "output_type": "stream",
          "name": "stdout",
          "text": [
            "Looking in indexes: https://pypi.org/simple, https://us-python.pkg.dev/colab-wheels/public/simple/\n",
            "Requirement already satisfied: transformers in /usr/local/lib/python3.9/dist-packages (4.28.1)\n",
            "Requirement already satisfied: tqdm>=4.27 in /usr/local/lib/python3.9/dist-packages (from transformers) (4.65.0)\n",
            "Requirement already satisfied: numpy>=1.17 in /usr/local/lib/python3.9/dist-packages (from transformers) (1.22.4)\n",
            "Requirement already satisfied: filelock in /usr/local/lib/python3.9/dist-packages (from transformers) (3.11.0)\n",
            "Requirement already satisfied: requests in /usr/local/lib/python3.9/dist-packages (from transformers) (2.27.1)\n",
            "Requirement already satisfied: regex!=2019.12.17 in /usr/local/lib/python3.9/dist-packages (from transformers) (2022.10.31)\n",
            "Requirement already satisfied: packaging>=20.0 in /usr/local/lib/python3.9/dist-packages (from transformers) (23.1)\n",
            "Requirement already satisfied: tokenizers!=0.11.3,<0.14,>=0.11.1 in /usr/local/lib/python3.9/dist-packages (from transformers) (0.13.3)\n",
            "Requirement already satisfied: huggingface-hub<1.0,>=0.11.0 in /usr/local/lib/python3.9/dist-packages (from transformers) (0.14.1)\n",
            "Requirement already satisfied: pyyaml>=5.1 in /usr/local/lib/python3.9/dist-packages (from transformers) (6.0)\n",
            "Requirement already satisfied: typing-extensions>=3.7.4.3 in /usr/local/lib/python3.9/dist-packages (from huggingface-hub<1.0,>=0.11.0->transformers) (4.5.0)\n",
            "Requirement already satisfied: fsspec in /usr/local/lib/python3.9/dist-packages (from huggingface-hub<1.0,>=0.11.0->transformers) (2023.4.0)\n",
            "Requirement already satisfied: urllib3<1.27,>=1.21.1 in /usr/local/lib/python3.9/dist-packages (from requests->transformers) (1.26.15)\n",
            "Requirement already satisfied: charset-normalizer~=2.0.0 in /usr/local/lib/python3.9/dist-packages (from requests->transformers) (2.0.12)\n",
            "Requirement already satisfied: certifi>=2017.4.17 in /usr/local/lib/python3.9/dist-packages (from requests->transformers) (2022.12.7)\n",
            "Requirement already satisfied: idna<4,>=2.5 in /usr/local/lib/python3.9/dist-packages (from requests->transformers) (3.4)\n"
          ]
        }
      ]
    },
    {
      "cell_type": "code",
      "source": [
        "from transformers import AutoTokenizer"
      ],
      "metadata": {
        "id": "TRLw9_bEHlb-"
      },
      "id": "TRLw9_bEHlb-",
      "execution_count": 93,
      "outputs": []
    },
    {
      "cell_type": "code",
      "source": [
        "tokenizer = AutoTokenizer.from_pretrained('bert-base-cased')\n",
        "# tokens = tokenizer.encode_plus(\"hello world\", max_length=max_len, truncation=True, padding=\"max_length\", return_token_type_ids=False, return_attention_mask=True, return_tensors='tf')"
      ],
      "metadata": {
        "id": "qdhsz_5lHo67"
      },
      "id": "qdhsz_5lHo67",
      "execution_count": 94,
      "outputs": []
    },
    {
      "cell_type": "code",
      "source": [
        "Xids1 = np.zeros((len(train), max_len))\n",
        "Xmask1 = np.zeros((len(train), max_len))\n",
        "Xids2 = np.zeros((len(train), max_len))\n",
        "Xmask2 = np.zeros((len(train), max_len))\n",
        "\n",
        "Xids3 = np.zeros((len(val), max_len))\n",
        "Xmask3 = np.zeros((len(val), max_len))\n",
        "Xids4 = np.zeros((len(val), max_len))\n",
        "Xmask4 = np.zeros((len(val), max_len))"
      ],
      "metadata": {
        "id": "vknFQq-8JZY2"
      },
      "id": "vknFQq-8JZY2",
      "execution_count": 95,
      "outputs": []
    },
    {
      "cell_type": "code",
      "source": [
        "for i, sequence in enumerate(train['title1_en']):\n",
        "  tokens =  tokenizer.encode_plus(sequence, max_length=max_len, truncation=True, padding=\"max_length\", return_token_type_ids=False, return_attention_mask=True, return_tensors='tf')\n",
        "  Xids1[i, :], Xmask1[i,:] = tokens['input_ids'], tokens['attention_mask']\n",
        "\n",
        "\n",
        "for i, sequence in enumerate(train['title2_en']):\n",
        "  tokens =  tokenizer.encode_plus(sequence, max_length=max_len, truncation=True, padding=\"max_length\", return_token_type_ids=False, return_attention_mask=True, return_tensors='tf')\n",
        "  Xids2[i, :], Xmask2[i,:] = tokens['input_ids'], tokens['attention_mask']\n",
        "\n",
        "for i, sequence in enumerate(val['title1_en']):\n",
        "  tokens =  tokenizer.encode_plus(sequence, max_length=max_len, truncation=True, padding=\"max_length\", return_token_type_ids=False, return_attention_mask=True, return_tensors='tf')\n",
        "  Xids3[i, :], Xmask3[i,:] = tokens['input_ids'], tokens['attention_mask']\n",
        "\n",
        "\n",
        "for i, sequence in enumerate(val['title2_en']):\n",
        "  tokens =  tokenizer.encode_plus(sequence, max_length=max_len, truncation=True, padding=\"max_length\", return_token_type_ids=False, return_attention_mask=True, return_tensors='tf')\n",
        "  Xids4[i, :], Xmask4[i,:] = tokens['input_ids'], tokens['attention_mask']"
      ],
      "metadata": {
        "id": "_yPAVfaQJjzO"
      },
      "id": "_yPAVfaQJjzO",
      "execution_count": 96,
      "outputs": []
    },
    {
      "cell_type": "code",
      "source": [
        "Xids1"
      ],
      "metadata": {
        "colab": {
          "base_uri": "https://localhost:8080/"
        },
        "id": "lqrldqDXKa5N",
        "outputId": "95eb226f-c22c-4593-f9d7-8fa0ad96749d"
      },
      "id": "lqrldqDXKa5N",
      "execution_count": 97,
      "outputs": [
        {
          "output_type": "execute_result",
          "data": {
            "text/plain": [
              "array([[  101.,  3236.,  1234., ...,     0.,     0.,     0.],\n",
              "       [  101.,   157.,  3202., ...,     0.,     0.,     0.],\n",
              "       [  101.,  2903., 13778., ...,     0.,     0.,     0.],\n",
              "       ...,\n",
              "       [  101.,  1670.,   145., ...,     0.,     0.,     0.],\n",
              "       [  101.,  1109.,  4639., ...,     0.,     0.,     0.],\n",
              "       [  101., 15727.,  2021., ...,     0.,     0.,     0.]])"
            ]
          },
          "metadata": {},
          "execution_count": 97
        }
      ]
    },
    {
      "cell_type": "code",
      "source": [
        "Xmask1"
      ],
      "metadata": {
        "colab": {
          "base_uri": "https://localhost:8080/"
        },
        "id": "Z8ULZMlXKfJd",
        "outputId": "e5f90cfc-ad98-4ae9-b6b3-7d54d7941bc0"
      },
      "id": "Z8ULZMlXKfJd",
      "execution_count": 98,
      "outputs": [
        {
          "output_type": "execute_result",
          "data": {
            "text/plain": [
              "array([[1., 1., 1., ..., 0., 0., 0.],\n",
              "       [1., 1., 1., ..., 0., 0., 0.],\n",
              "       [1., 1., 1., ..., 0., 0., 0.],\n",
              "       ...,\n",
              "       [1., 1., 1., ..., 0., 0., 0.],\n",
              "       [1., 1., 1., ..., 0., 0., 0.],\n",
              "       [1., 1., 1., ..., 0., 0., 0.]])"
            ]
          },
          "metadata": {},
          "execution_count": 98
        }
      ]
    },
    {
      "cell_type": "code",
      "source": [
        "tf.config.experimental.list_physical_devices('GPU')"
      ],
      "metadata": {
        "colab": {
          "base_uri": "https://localhost:8080/"
        },
        "id": "HVbGr0v-K9tV",
        "outputId": "e7fe4c87-5507-48b3-fe59-9109e89a0d93"
      },
      "id": "HVbGr0v-K9tV",
      "execution_count": 99,
      "outputs": [
        {
          "output_type": "execute_result",
          "data": {
            "text/plain": [
              "[PhysicalDevice(name='/physical_device:GPU:0', device_type='GPU')]"
            ]
          },
          "metadata": {},
          "execution_count": 99
        }
      ]
    },
    {
      "cell_type": "code",
      "source": [
        "dataset = tf.data.Dataset.from_tensor_slices((Xids1, Xmask1, Xids2, Xmask2, train['label']))\n",
        "val_dataset = tf.data.Dataset.from_tensor_slices((Xids3, Xmask3, Xids4, Xmask4, val['label']))"
      ],
      "metadata": {
        "id": "b-GSOVohLnNu"
      },
      "id": "b-GSOVohLnNu",
      "execution_count": 100,
      "outputs": []
    },
    {
      "cell_type": "code",
      "source": [
        "def map_func(input_ids1, masks1, input_ids2, masks2, labels):\n",
        "  return {'input_ids1':input_ids1, 'masks1': masks1, 'input_ids2': input_ids2, 'masks2':masks2}, labels"
      ],
      "metadata": {
        "id": "DRgrDQpkL6gX"
      },
      "id": "DRgrDQpkL6gX",
      "execution_count": 101,
      "outputs": []
    },
    {
      "cell_type": "code",
      "source": [
        "dataset = dataset.map(map_func)\n",
        "val_dataset = val_dataset.map(map_func)"
      ],
      "metadata": {
        "id": "2sSRgscwMtHD"
      },
      "id": "2sSRgscwMtHD",
      "execution_count": 102,
      "outputs": []
    },
    {
      "cell_type": "code",
      "source": [
        "for i in dataset.take(1):\n",
        "  print(i)"
      ],
      "metadata": {
        "colab": {
          "base_uri": "https://localhost:8080/"
        },
        "id": "LLBlg2KdMwXV",
        "outputId": "a3689aab-cd51-467c-b32b-003dfdb75bdb"
      },
      "id": "LLBlg2KdMwXV",
      "execution_count": 103,
      "outputs": [
        {
          "output_type": "stream",
          "name": "stdout",
          "text": [
            "({'input_ids1': <tf.Tensor: shape=(50,), dtype=float64, numpy=\n",
            "array([ 101., 3236., 1234., 1452., 1107.,  194., 3488., 6509., 1195.,\n",
            "       2316., 3822., 7870., 7286.,  117., 1167., 1190., 1190., 1476.,\n",
            "        117., 1288., 8754., 1104., 4634., 1298., 1127., 4634.,  119.,\n",
            "        102.,    0.,    0.,    0.,    0.,    0.,    0.,    0.,    0.,\n",
            "          0.,    0.,    0.,    0.,    0.,    0.,    0.,    0.,    0.,\n",
            "          0.,    0.,    0.,    0.,    0.])>, 'masks1': <tf.Tensor: shape=(50,), dtype=float64, numpy=\n",
            "array([1., 1., 1., 1., 1., 1., 1., 1., 1., 1., 1., 1., 1., 1., 1., 1., 1.,\n",
            "       1., 1., 1., 1., 1., 1., 1., 1., 1., 1., 1., 0., 0., 0., 0., 0., 0.,\n",
            "       0., 0., 0., 0., 0., 0., 0., 0., 0., 0., 0., 0., 0., 0., 0., 0.])>, 'input_ids2': <tf.Tensor: shape=(50,), dtype=float64, numpy=\n",
            "array([  101.,   138.,  5795.,  3708.,  1179.,  1107.,   194.,  3488.,\n",
            "        6509.,  1867.,   107.,  1195.,  2316.,  3822.,  7870.,  8567.,\n",
            "        3236.,  1234.,   107.,  1108., 15474.,  1107.,  3207., 13826.,\n",
            "         102.,     0.,     0.,     0.,     0.,     0.,     0.,     0.,\n",
            "           0.,     0.,     0.,     0.,     0.,     0.,     0.,     0.,\n",
            "           0.,     0.,     0.,     0.,     0.,     0.,     0.,     0.,\n",
            "           0.,     0.])>, 'masks2': <tf.Tensor: shape=(50,), dtype=float64, numpy=\n",
            "array([1., 1., 1., 1., 1., 1., 1., 1., 1., 1., 1., 1., 1., 1., 1., 1., 1.,\n",
            "       1., 1., 1., 1., 1., 1., 1., 1., 0., 0., 0., 0., 0., 0., 0., 0., 0.,\n",
            "       0., 0., 0., 0., 0., 0., 0., 0., 0., 0., 0., 0., 0., 0., 0., 0.])>}, <tf.Tensor: shape=(), dtype=uint8, numpy=2>)\n"
          ]
        }
      ]
    },
    {
      "cell_type": "code",
      "source": [
        "dataset = dataset.shuffle(1).batch(128)\n",
        "val_dataset = val_dataset.shuffle(1).batch(128)"
      ],
      "metadata": {
        "id": "LeNeV1_-M9JN"
      },
      "id": "LeNeV1_-M9JN",
      "execution_count": 104,
      "outputs": []
    },
    {
      "cell_type": "code",
      "source": [
        "DS_LEN = len(list(dataset))\n",
        "VAL_DS_LEN = len(list(val_dataset))"
      ],
      "metadata": {
        "id": "aHaL0nIJNH4g"
      },
      "id": "aHaL0nIJNH4g",
      "execution_count": 105,
      "outputs": []
    },
    {
      "cell_type": "code",
      "source": [
        "print(DS_LEN), len(train) // 128"
      ],
      "metadata": {
        "colab": {
          "base_uri": "https://localhost:8080/"
        },
        "id": "7cQlMbXyNQKW",
        "outputId": "00b76000-f9dd-4144-dec7-e6b97b6810c8"
      },
      "id": "7cQlMbXyNQKW",
      "execution_count": 106,
      "outputs": [
        {
          "output_type": "stream",
          "name": "stdout",
          "text": [
            "2103\n"
          ]
        },
        {
          "output_type": "execute_result",
          "data": {
            "text/plain": [
              "(None, 2102)"
            ]
          },
          "metadata": {},
          "execution_count": 106
        }
      ]
    },
    {
      "cell_type": "code",
      "source": [
        "from transformers import TFAutoModel\n",
        "bert = TFAutoModel.from_pretrained('bert-base-cased')"
      ],
      "metadata": {
        "colab": {
          "base_uri": "https://localhost:8080/"
        },
        "id": "xiamk7QzNkm7",
        "outputId": "6d443bcb-4a66-4bfc-cbc2-57702365bf1c"
      },
      "id": "xiamk7QzNkm7",
      "execution_count": 107,
      "outputs": [
        {
          "output_type": "stream",
          "name": "stderr",
          "text": [
            "Some layers from the model checkpoint at bert-base-cased were not used when initializing TFBertModel: ['mlm___cls', 'nsp___cls']\n",
            "- This IS expected if you are initializing TFBertModel from the checkpoint of a model trained on another task or with another architecture (e.g. initializing a BertForSequenceClassification model from a BertForPreTraining model).\n",
            "- This IS NOT expected if you are initializing TFBertModel from the checkpoint of a model that you expect to be exactly identical (initializing a BertForSequenceClassification model from a BertForSequenceClassification model).\n",
            "All the layers of TFBertModel were initialized from the model checkpoint at bert-base-cased.\n",
            "If your task is similar to the task the model of the checkpoint was trained on, you can already use TFBertModel for predictions without further training.\n"
          ]
        }
      ]
    },
    {
      "cell_type": "code",
      "source": [
        "input_shape = (max_len,)\n",
        "input_ids1 = tf.keras.layers.Input(shape=input_shape, name='input_ids1', dtype='int32')\n",
        "masks1 = tf.keras.layers.Input(shape=input_shape, name='masks1', dtype='int32')\n",
        "input_ids2 = tf.keras.layers.Input(shape=input_shape, name='input_ids2', dtype='int32')\n",
        "masks2 = tf.keras.layers.Input(shape=input_shape, name='masks2', dtype='int32')\n",
        "\n"
      ],
      "metadata": {
        "id": "pQ-1we35N59C"
      },
      "id": "pQ-1we35N59C",
      "execution_count": 108,
      "outputs": []
    },
    {
      "cell_type": "code",
      "source": [
        "embeddings1 = bert(input_ids1, attention_mask=masks1)[0]\n",
        "embeddings2 = bert(input_ids2, attention_mask=masks2)[0]"
      ],
      "metadata": {
        "id": "r00SNbm9UbGD"
      },
      "id": "r00SNbm9UbGD",
      "execution_count": 109,
      "outputs": []
    },
    {
      "cell_type": "code",
      "source": [
        "conv1 = Conv1D(128, 3, activation='relu')(embeddings1)\n",
        "conv2 = Conv1D(128, 3, activation='relu')(embeddings2)\n",
        "\n",
        "pool1 = MaxPooling1D()(conv1)\n",
        "pool2 = MaxPooling1D()(conv2)\n",
        "\n",
        "lstm1 = LSTM(64)(pool1)\n",
        "lstm2 = LSTM(64)(pool2)\n",
        "\n",
        "x1 = Dense(32)(lstm1)\n",
        "x2 = Dense(32)(lstm2)\n",
        "\n",
        "conc = concatenate([x1, x2], axis=-1)\n",
        "x = Dense(16, activation='relu')(conc)\n",
        "\n",
        "y = Dense(3, activation='softmax')(x)\n",
        "\n",
        "\n",
        "model = Model([input_ids1, masks1, input_ids2, masks2], y)\n",
        "model.layers[4].trainable = False\n",
        "model.summary()"
      ],
      "metadata": {
        "colab": {
          "base_uri": "https://localhost:8080/"
        },
        "id": "MzOlYG2vUe1U",
        "outputId": "2145458c-eeec-468c-e071-1e753e4b1154"
      },
      "id": "MzOlYG2vUe1U",
      "execution_count": 110,
      "outputs": [
        {
          "output_type": "stream",
          "name": "stdout",
          "text": [
            "Model: \"model_1\"\n",
            "__________________________________________________________________________________________________\n",
            " Layer (type)                   Output Shape         Param #     Connected to                     \n",
            "==================================================================================================\n",
            " input_ids1 (InputLayer)        [(None, 50)]         0           []                               \n",
            "                                                                                                  \n",
            " masks1 (InputLayer)            [(None, 50)]         0           []                               \n",
            "                                                                                                  \n",
            " input_ids2 (InputLayer)        [(None, 50)]         0           []                               \n",
            "                                                                                                  \n",
            " masks2 (InputLayer)            [(None, 50)]         0           []                               \n",
            "                                                                                                  \n",
            " tf_bert_model_1 (TFBertModel)  TFBaseModelOutputWi  108310272   ['input_ids1[0][0]',             \n",
            "                                thPoolingAndCrossAt               'masks1[0][0]',                 \n",
            "                                tentions(last_hidde               'input_ids2[0][0]',             \n",
            "                                n_state=(None, 50,                'masks2[0][0]']                 \n",
            "                                768),                                                             \n",
            "                                 pooler_output=(Non                                               \n",
            "                                e, 768),                                                          \n",
            "                                 past_key_values=No                                               \n",
            "                                ne, hidden_states=N                                               \n",
            "                                one, attentions=Non                                               \n",
            "                                e, cross_attentions                                               \n",
            "                                =None)                                                            \n",
            "                                                                                                  \n",
            " conv1d_2 (Conv1D)              (None, 48, 128)      295040      ['tf_bert_model_1[0][0]']        \n",
            "                                                                                                  \n",
            " conv1d_3 (Conv1D)              (None, 48, 128)      295040      ['tf_bert_model_1[1][0]']        \n",
            "                                                                                                  \n",
            " max_pooling1d_2 (MaxPooling1D)  (None, 24, 128)     0           ['conv1d_2[0][0]']               \n",
            "                                                                                                  \n",
            " max_pooling1d_3 (MaxPooling1D)  (None, 24, 128)     0           ['conv1d_3[0][0]']               \n",
            "                                                                                                  \n",
            " lstm_2 (LSTM)                  (None, 64)           49408       ['max_pooling1d_2[0][0]']        \n",
            "                                                                                                  \n",
            " lstm_3 (LSTM)                  (None, 64)           49408       ['max_pooling1d_3[0][0]']        \n",
            "                                                                                                  \n",
            " dense_4 (Dense)                (None, 32)           2080        ['lstm_2[0][0]']                 \n",
            "                                                                                                  \n",
            " dense_5 (Dense)                (None, 32)           2080        ['lstm_3[0][0]']                 \n",
            "                                                                                                  \n",
            " concatenate_1 (Concatenate)    (None, 64)           0           ['dense_4[0][0]',                \n",
            "                                                                  'dense_5[0][0]']                \n",
            "                                                                                                  \n",
            " dense_6 (Dense)                (None, 16)           1040        ['concatenate_1[0][0]']          \n",
            "                                                                                                  \n",
            " dense_7 (Dense)                (None, 3)            51          ['dense_6[0][0]']                \n",
            "                                                                                                  \n",
            "==================================================================================================\n",
            "Total params: 109,004,419\n",
            "Trainable params: 694,147\n",
            "Non-trainable params: 108,310,272\n",
            "__________________________________________________________________________________________________\n"
          ]
        }
      ]
    },
    {
      "cell_type": "code",
      "source": [
        "model.compile(loss=\"sparse_categorical_crossentropy\", optimizer=tf.keras.optimizers.Nadam(learning_rate=0.00075), metrics=['accuracy']) \n",
        "history = model.fit(dataset, epochs=6, validation_data=val_dataset)"
      ],
      "metadata": {
        "colab": {
          "base_uri": "https://localhost:8080/"
        },
        "id": "f5rxkgPFVoRF",
        "outputId": "52f24195-7c11-4b9e-c0c2-b01325470c50"
      },
      "id": "f5rxkgPFVoRF",
      "execution_count": 111,
      "outputs": [
        {
          "output_type": "stream",
          "name": "stdout",
          "text": [
            "Epoch 1/6\n",
            "2103/2103 [==============================] - 266s 111ms/step - loss: 0.6013 - accuracy: 0.6975 - val_loss: 0.4932 - val_accuracy: 0.7472\n",
            "Epoch 2/6\n",
            "2103/2103 [==============================] - 228s 108ms/step - loss: 0.4836 - accuracy: 0.7596 - val_loss: 0.4529 - val_accuracy: 0.7800\n",
            "Epoch 3/6\n",
            "2103/2103 [==============================] - 228s 108ms/step - loss: 0.4205 - accuracy: 0.7959 - val_loss: 0.4387 - val_accuracy: 0.7935\n",
            "Epoch 4/6\n",
            "2103/2103 [==============================] - 228s 108ms/step - loss: 0.3795 - accuracy: 0.8205 - val_loss: 0.4378 - val_accuracy: 0.7980\n",
            "Epoch 5/6\n",
            "2103/2103 [==============================] - 227s 108ms/step - loss: 0.3510 - accuracy: 0.8363 - val_loss: 0.4329 - val_accuracy: 0.8060\n",
            "Epoch 6/6\n",
            "2103/2103 [==============================] - 227s 108ms/step - loss: 0.3289 - accuracy: 0.8490 - val_loss: 0.4270 - val_accuracy: 0.8146\n"
          ]
        }
      ]
    },
    {
      "cell_type": "code",
      "source": [
        "y_pred = model.predict(val_dataset)"
      ],
      "metadata": {
        "colab": {
          "base_uri": "https://localhost:8080/"
        },
        "id": "ELvyxgJyMSS4",
        "outputId": "aaf17baa-e37c-4ce4-ddc5-0496bff41a6c"
      },
      "id": "ELvyxgJyMSS4",
      "execution_count": 112,
      "outputs": [
        {
          "output_type": "stream",
          "name": "stdout",
          "text": [
            "157/157 [==============================] - 20s 89ms/step\n"
          ]
        }
      ]
    },
    {
      "cell_type": "code",
      "source": [
        "y_pred = np.argmax(y_pred, axis=1)"
      ],
      "metadata": {
        "id": "gofGh8t2VJTE"
      },
      "id": "gofGh8t2VJTE",
      "execution_count": 113,
      "outputs": []
    },
    {
      "cell_type": "code",
      "source": [
        "from sklearn.metrics import classification_report\n",
        "print(classification_report(val['label'], y_pred))"
      ],
      "metadata": {
        "colab": {
          "base_uri": "https://localhost:8080/"
        },
        "id": "0HyymEW6MYWk",
        "outputId": "7bb97c44-5b7d-4d1c-8123-7a5390ca6469"
      },
      "id": "0HyymEW6MYWk",
      "execution_count": 114,
      "outputs": [
        {
          "output_type": "stream",
          "name": "stdout",
          "text": [
            "              precision    recall  f1-score   support\n",
            "\n",
            "           0       0.86      0.87      0.86     13639\n",
            "           1       0.72      0.72      0.72      5840\n",
            "           2       0.54      0.54      0.54       521\n",
            "\n",
            "    accuracy                           0.81     20000\n",
            "   macro avg       0.71      0.71      0.71     20000\n",
            "weighted avg       0.81      0.81      0.81     20000\n",
            "\n"
          ]
        }
      ]
    },
    {
      "cell_type": "code",
      "source": [],
      "metadata": {
        "id": "b6hTcWPKdE2f"
      },
      "id": "b6hTcWPKdE2f",
      "execution_count": 114,
      "outputs": []
    }
  ],
  "metadata": {
    "kernelspec": {
      "display_name": "Python 3 (ipykernel)",
      "language": "python",
      "name": "python3"
    },
    "language_info": {
      "codemirror_mode": {
        "name": "ipython",
        "version": 3
      },
      "file_extension": ".py",
      "mimetype": "text/x-python",
      "name": "python",
      "nbconvert_exporter": "python",
      "pygments_lexer": "ipython3",
      "version": "3.8.5"
    },
    "colab": {
      "provenance": []
    },
    "accelerator": "GPU",
    "gpuClass": "premium"
  },
  "nbformat": 4,
  "nbformat_minor": 5
}
