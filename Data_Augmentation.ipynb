{
  "cells": [
    {
      "cell_type": "code",
      "source": [
        "!unzip glove.6B.zip -d my_data\n"
      ],
      "metadata": {
        "colab": {
          "base_uri": "https://localhost:8080/"
        },
        "id": "nwkn4PwyvreF",
        "outputId": "e6852d51-f479-43f1-8077-682f561666e4"
      },
      "id": "nwkn4PwyvreF",
      "execution_count": null,
      "outputs": [
        {
          "output_type": "stream",
          "name": "stdout",
          "text": [
            "unzip:  cannot find or open glove.6B.zip, glove.6B.zip.zip or glove.6B.zip.ZIP.\n"
          ]
        }
      ]
    },
    {
      "cell_type": "code",
      "execution_count": 1,
      "id": "fc340a5e",
      "metadata": {
        "id": "fc340a5e"
      },
      "outputs": [],
      "source": [
        "import pandas as pd\n",
        "import numpy as np\n",
        "import matplotlib.pyplot as plt\n",
        "import seaborn as sns\n",
        "from sklearn.feature_extraction.text import CountVectorizer\n",
        "from sklearn.model_selection import train_test_split\n",
        "from sklearn.feature_extraction.text import TfidfTransformer\n",
        "from sklearn.naive_bayes import GaussianNB\n"
      ]
    },
    {
      "cell_type": "code",
      "source": [
        "max_len = 50\n",
        "embedding_dim = 100"
      ],
      "metadata": {
        "id": "FfJWT6a30NiO"
      },
      "id": "FfJWT6a30NiO",
      "execution_count": 2,
      "outputs": []
    },
    {
      "cell_type": "code",
      "execution_count": 7,
      "id": "a6ab5143",
      "metadata": {
        "id": "a6ab5143"
      },
      "outputs": [],
      "source": [
        "sns.set_theme(style=\"whitegrid\")\n",
        "df = pd.read_csv(\"train.csv\").sample(frac=1, random_state=42)\n",
        "test = pd.read_csv(\"test.csv\")"
      ]
    },
    {
      "cell_type": "code",
      "source": [
        "df.drop(columns=['id', 'tid1', 'tid2'], inplace=True)"
      ],
      "metadata": {
        "id": "GQ3s-O6acAL-"
      },
      "id": "GQ3s-O6acAL-",
      "execution_count": 8,
      "outputs": []
    },
    {
      "cell_type": "code",
      "source": [
        "df.head()"
      ],
      "metadata": {
        "colab": {
          "base_uri": "https://localhost:8080/",
          "height": 337
        },
        "id": "xasPCbmHeNYp",
        "outputId": "f3d09ac1-e4b8-482e-fa3f-29f8992ced6f"
      },
      "id": "xasPCbmHeNYp",
      "execution_count": 9,
      "outputs": [
        {
          "output_type": "execute_result",
          "data": {
            "text/plain": [
              "                                                title1_en  \\\n",
              "104355              Homemade rat poison. One dead litter.   \n",
              "133170  By eating these five kinds of vegetables, you ...   \n",
              "221087  The Shenzhen Nailed Nailed Households Resume $...   \n",
              "135365  Wu Jing may face a compensation of 1 billion, ...   \n",
              "170183  Yin Xiangjie out of prison, invited Mandar to ...   \n",
              "\n",
              "                                                title2_en      label  \n",
              "104355  Homemade rat poison, one dead, one dead, all k...     agreed  \n",
              "133170  Zhang DaDa \"day\" upside down begging for growt...  unrelated  \n",
              "221087  Chengdu homebuyers can't buy a house with half...  unrelated  \n",
              "135365  With billions of dollars in compensation, Wuji...     agreed  \n",
              "170183  is xu qing 's current husband a gao bo? the fa...  unrelated  "
            ],
            "text/html": [
              "\n",
              "  <div id=\"df-5acf942f-dc47-462a-8fd9-3599449aa33e\">\n",
              "    <div class=\"colab-df-container\">\n",
              "      <div>\n",
              "<style scoped>\n",
              "    .dataframe tbody tr th:only-of-type {\n",
              "        vertical-align: middle;\n",
              "    }\n",
              "\n",
              "    .dataframe tbody tr th {\n",
              "        vertical-align: top;\n",
              "    }\n",
              "\n",
              "    .dataframe thead th {\n",
              "        text-align: right;\n",
              "    }\n",
              "</style>\n",
              "<table border=\"1\" class=\"dataframe\">\n",
              "  <thead>\n",
              "    <tr style=\"text-align: right;\">\n",
              "      <th></th>\n",
              "      <th>title1_en</th>\n",
              "      <th>title2_en</th>\n",
              "      <th>label</th>\n",
              "    </tr>\n",
              "  </thead>\n",
              "  <tbody>\n",
              "    <tr>\n",
              "      <th>104355</th>\n",
              "      <td>Homemade rat poison. One dead litter.</td>\n",
              "      <td>Homemade rat poison, one dead, one dead, all k...</td>\n",
              "      <td>agreed</td>\n",
              "    </tr>\n",
              "    <tr>\n",
              "      <th>133170</th>\n",
              "      <td>By eating these five kinds of vegetables, you ...</td>\n",
              "      <td>Zhang DaDa \"day\" upside down begging for growt...</td>\n",
              "      <td>unrelated</td>\n",
              "    </tr>\n",
              "    <tr>\n",
              "      <th>221087</th>\n",
              "      <td>The Shenzhen Nailed Nailed Households Resume $...</td>\n",
              "      <td>Chengdu homebuyers can't buy a house with half...</td>\n",
              "      <td>unrelated</td>\n",
              "    </tr>\n",
              "    <tr>\n",
              "      <th>135365</th>\n",
              "      <td>Wu Jing may face a compensation of 1 billion, ...</td>\n",
              "      <td>With billions of dollars in compensation, Wuji...</td>\n",
              "      <td>agreed</td>\n",
              "    </tr>\n",
              "    <tr>\n",
              "      <th>170183</th>\n",
              "      <td>Yin Xiangjie out of prison, invited Mandar to ...</td>\n",
              "      <td>is xu qing 's current husband a gao bo? the fa...</td>\n",
              "      <td>unrelated</td>\n",
              "    </tr>\n",
              "  </tbody>\n",
              "</table>\n",
              "</div>\n",
              "      <button class=\"colab-df-convert\" onclick=\"convertToInteractive('df-5acf942f-dc47-462a-8fd9-3599449aa33e')\"\n",
              "              title=\"Convert this dataframe to an interactive table.\"\n",
              "              style=\"display:none;\">\n",
              "        \n",
              "  <svg xmlns=\"http://www.w3.org/2000/svg\" height=\"24px\"viewBox=\"0 0 24 24\"\n",
              "       width=\"24px\">\n",
              "    <path d=\"M0 0h24v24H0V0z\" fill=\"none\"/>\n",
              "    <path d=\"M18.56 5.44l.94 2.06.94-2.06 2.06-.94-2.06-.94-.94-2.06-.94 2.06-2.06.94zm-11 1L8.5 8.5l.94-2.06 2.06-.94-2.06-.94L8.5 2.5l-.94 2.06-2.06.94zm10 10l.94 2.06.94-2.06 2.06-.94-2.06-.94-.94-2.06-.94 2.06-2.06.94z\"/><path d=\"M17.41 7.96l-1.37-1.37c-.4-.4-.92-.59-1.43-.59-.52 0-1.04.2-1.43.59L10.3 9.45l-7.72 7.72c-.78.78-.78 2.05 0 2.83L4 21.41c.39.39.9.59 1.41.59.51 0 1.02-.2 1.41-.59l7.78-7.78 2.81-2.81c.8-.78.8-2.07 0-2.86zM5.41 20L4 18.59l7.72-7.72 1.47 1.35L5.41 20z\"/>\n",
              "  </svg>\n",
              "      </button>\n",
              "      \n",
              "  <style>\n",
              "    .colab-df-container {\n",
              "      display:flex;\n",
              "      flex-wrap:wrap;\n",
              "      gap: 12px;\n",
              "    }\n",
              "\n",
              "    .colab-df-convert {\n",
              "      background-color: #E8F0FE;\n",
              "      border: none;\n",
              "      border-radius: 50%;\n",
              "      cursor: pointer;\n",
              "      display: none;\n",
              "      fill: #1967D2;\n",
              "      height: 32px;\n",
              "      padding: 0 0 0 0;\n",
              "      width: 32px;\n",
              "    }\n",
              "\n",
              "    .colab-df-convert:hover {\n",
              "      background-color: #E2EBFA;\n",
              "      box-shadow: 0px 1px 2px rgba(60, 64, 67, 0.3), 0px 1px 3px 1px rgba(60, 64, 67, 0.15);\n",
              "      fill: #174EA6;\n",
              "    }\n",
              "\n",
              "    [theme=dark] .colab-df-convert {\n",
              "      background-color: #3B4455;\n",
              "      fill: #D2E3FC;\n",
              "    }\n",
              "\n",
              "    [theme=dark] .colab-df-convert:hover {\n",
              "      background-color: #434B5C;\n",
              "      box-shadow: 0px 1px 3px 1px rgba(0, 0, 0, 0.15);\n",
              "      filter: drop-shadow(0px 1px 2px rgba(0, 0, 0, 0.3));\n",
              "      fill: #FFFFFF;\n",
              "    }\n",
              "  </style>\n",
              "\n",
              "      <script>\n",
              "        const buttonEl =\n",
              "          document.querySelector('#df-5acf942f-dc47-462a-8fd9-3599449aa33e button.colab-df-convert');\n",
              "        buttonEl.style.display =\n",
              "          google.colab.kernel.accessAllowed ? 'block' : 'none';\n",
              "\n",
              "        async function convertToInteractive(key) {\n",
              "          const element = document.querySelector('#df-5acf942f-dc47-462a-8fd9-3599449aa33e');\n",
              "          const dataTable =\n",
              "            await google.colab.kernel.invokeFunction('convertToInteractive',\n",
              "                                                     [key], {});\n",
              "          if (!dataTable) return;\n",
              "\n",
              "          const docLinkHtml = 'Like what you see? Visit the ' +\n",
              "            '<a target=\"_blank\" href=https://colab.research.google.com/notebooks/data_table.ipynb>data table notebook</a>'\n",
              "            + ' to learn more about interactive tables.';\n",
              "          element.innerHTML = '';\n",
              "          dataTable['output_type'] = 'display_data';\n",
              "          await google.colab.output.renderOutput(dataTable, element);\n",
              "          const docLink = document.createElement('div');\n",
              "          docLink.innerHTML = docLinkHtml;\n",
              "          element.appendChild(docLink);\n",
              "        }\n",
              "      </script>\n",
              "    </div>\n",
              "  </div>\n",
              "  "
            ]
          },
          "metadata": {},
          "execution_count": 9
        }
      ]
    },
    {
      "cell_type": "code",
      "source": [
        "train = df"
      ],
      "metadata": {
        "id": "3RlplDQdyRz-"
      },
      "id": "3RlplDQdyRz-",
      "execution_count": 10,
      "outputs": []
    },
    {
      "cell_type": "code",
      "source": [
        "train.head()"
      ],
      "metadata": {
        "colab": {
          "base_uri": "https://localhost:8080/",
          "height": 337
        },
        "id": "Kf2GmszueTdk",
        "outputId": "3176f6bd-c22b-43e2-a1e0-b28199bd075f"
      },
      "id": "Kf2GmszueTdk",
      "execution_count": 11,
      "outputs": [
        {
          "output_type": "execute_result",
          "data": {
            "text/plain": [
              "                                                title1_en  \\\n",
              "104355              Homemade rat poison. One dead litter.   \n",
              "133170  By eating these five kinds of vegetables, you ...   \n",
              "221087  The Shenzhen Nailed Nailed Households Resume $...   \n",
              "135365  Wu Jing may face a compensation of 1 billion, ...   \n",
              "170183  Yin Xiangjie out of prison, invited Mandar to ...   \n",
              "\n",
              "                                                title2_en      label  \n",
              "104355  Homemade rat poison, one dead, one dead, all k...     agreed  \n",
              "133170  Zhang DaDa \"day\" upside down begging for growt...  unrelated  \n",
              "221087  Chengdu homebuyers can't buy a house with half...  unrelated  \n",
              "135365  With billions of dollars in compensation, Wuji...     agreed  \n",
              "170183  is xu qing 's current husband a gao bo? the fa...  unrelated  "
            ],
            "text/html": [
              "\n",
              "  <div id=\"df-90239f0e-d7f2-4a76-bb82-f47adad3df5e\">\n",
              "    <div class=\"colab-df-container\">\n",
              "      <div>\n",
              "<style scoped>\n",
              "    .dataframe tbody tr th:only-of-type {\n",
              "        vertical-align: middle;\n",
              "    }\n",
              "\n",
              "    .dataframe tbody tr th {\n",
              "        vertical-align: top;\n",
              "    }\n",
              "\n",
              "    .dataframe thead th {\n",
              "        text-align: right;\n",
              "    }\n",
              "</style>\n",
              "<table border=\"1\" class=\"dataframe\">\n",
              "  <thead>\n",
              "    <tr style=\"text-align: right;\">\n",
              "      <th></th>\n",
              "      <th>title1_en</th>\n",
              "      <th>title2_en</th>\n",
              "      <th>label</th>\n",
              "    </tr>\n",
              "  </thead>\n",
              "  <tbody>\n",
              "    <tr>\n",
              "      <th>104355</th>\n",
              "      <td>Homemade rat poison. One dead litter.</td>\n",
              "      <td>Homemade rat poison, one dead, one dead, all k...</td>\n",
              "      <td>agreed</td>\n",
              "    </tr>\n",
              "    <tr>\n",
              "      <th>133170</th>\n",
              "      <td>By eating these five kinds of vegetables, you ...</td>\n",
              "      <td>Zhang DaDa \"day\" upside down begging for growt...</td>\n",
              "      <td>unrelated</td>\n",
              "    </tr>\n",
              "    <tr>\n",
              "      <th>221087</th>\n",
              "      <td>The Shenzhen Nailed Nailed Households Resume $...</td>\n",
              "      <td>Chengdu homebuyers can't buy a house with half...</td>\n",
              "      <td>unrelated</td>\n",
              "    </tr>\n",
              "    <tr>\n",
              "      <th>135365</th>\n",
              "      <td>Wu Jing may face a compensation of 1 billion, ...</td>\n",
              "      <td>With billions of dollars in compensation, Wuji...</td>\n",
              "      <td>agreed</td>\n",
              "    </tr>\n",
              "    <tr>\n",
              "      <th>170183</th>\n",
              "      <td>Yin Xiangjie out of prison, invited Mandar to ...</td>\n",
              "      <td>is xu qing 's current husband a gao bo? the fa...</td>\n",
              "      <td>unrelated</td>\n",
              "    </tr>\n",
              "  </tbody>\n",
              "</table>\n",
              "</div>\n",
              "      <button class=\"colab-df-convert\" onclick=\"convertToInteractive('df-90239f0e-d7f2-4a76-bb82-f47adad3df5e')\"\n",
              "              title=\"Convert this dataframe to an interactive table.\"\n",
              "              style=\"display:none;\">\n",
              "        \n",
              "  <svg xmlns=\"http://www.w3.org/2000/svg\" height=\"24px\"viewBox=\"0 0 24 24\"\n",
              "       width=\"24px\">\n",
              "    <path d=\"M0 0h24v24H0V0z\" fill=\"none\"/>\n",
              "    <path d=\"M18.56 5.44l.94 2.06.94-2.06 2.06-.94-2.06-.94-.94-2.06-.94 2.06-2.06.94zm-11 1L8.5 8.5l.94-2.06 2.06-.94-2.06-.94L8.5 2.5l-.94 2.06-2.06.94zm10 10l.94 2.06.94-2.06 2.06-.94-2.06-.94-.94-2.06-.94 2.06-2.06.94z\"/><path d=\"M17.41 7.96l-1.37-1.37c-.4-.4-.92-.59-1.43-.59-.52 0-1.04.2-1.43.59L10.3 9.45l-7.72 7.72c-.78.78-.78 2.05 0 2.83L4 21.41c.39.39.9.59 1.41.59.51 0 1.02-.2 1.41-.59l7.78-7.78 2.81-2.81c.8-.78.8-2.07 0-2.86zM5.41 20L4 18.59l7.72-7.72 1.47 1.35L5.41 20z\"/>\n",
              "  </svg>\n",
              "      </button>\n",
              "      \n",
              "  <style>\n",
              "    .colab-df-container {\n",
              "      display:flex;\n",
              "      flex-wrap:wrap;\n",
              "      gap: 12px;\n",
              "    }\n",
              "\n",
              "    .colab-df-convert {\n",
              "      background-color: #E8F0FE;\n",
              "      border: none;\n",
              "      border-radius: 50%;\n",
              "      cursor: pointer;\n",
              "      display: none;\n",
              "      fill: #1967D2;\n",
              "      height: 32px;\n",
              "      padding: 0 0 0 0;\n",
              "      width: 32px;\n",
              "    }\n",
              "\n",
              "    .colab-df-convert:hover {\n",
              "      background-color: #E2EBFA;\n",
              "      box-shadow: 0px 1px 2px rgba(60, 64, 67, 0.3), 0px 1px 3px 1px rgba(60, 64, 67, 0.15);\n",
              "      fill: #174EA6;\n",
              "    }\n",
              "\n",
              "    [theme=dark] .colab-df-convert {\n",
              "      background-color: #3B4455;\n",
              "      fill: #D2E3FC;\n",
              "    }\n",
              "\n",
              "    [theme=dark] .colab-df-convert:hover {\n",
              "      background-color: #434B5C;\n",
              "      box-shadow: 0px 1px 3px 1px rgba(0, 0, 0, 0.15);\n",
              "      filter: drop-shadow(0px 1px 2px rgba(0, 0, 0, 0.3));\n",
              "      fill: #FFFFFF;\n",
              "    }\n",
              "  </style>\n",
              "\n",
              "      <script>\n",
              "        const buttonEl =\n",
              "          document.querySelector('#df-90239f0e-d7f2-4a76-bb82-f47adad3df5e button.colab-df-convert');\n",
              "        buttonEl.style.display =\n",
              "          google.colab.kernel.accessAllowed ? 'block' : 'none';\n",
              "\n",
              "        async function convertToInteractive(key) {\n",
              "          const element = document.querySelector('#df-90239f0e-d7f2-4a76-bb82-f47adad3df5e');\n",
              "          const dataTable =\n",
              "            await google.colab.kernel.invokeFunction('convertToInteractive',\n",
              "                                                     [key], {});\n",
              "          if (!dataTable) return;\n",
              "\n",
              "          const docLinkHtml = 'Like what you see? Visit the ' +\n",
              "            '<a target=\"_blank\" href=https://colab.research.google.com/notebooks/data_table.ipynb>data table notebook</a>'\n",
              "            + ' to learn more about interactive tables.';\n",
              "          element.innerHTML = '';\n",
              "          dataTable['output_type'] = 'display_data';\n",
              "          await google.colab.output.renderOutput(dataTable, element);\n",
              "          const docLink = document.createElement('div');\n",
              "          docLink.innerHTML = docLinkHtml;\n",
              "          element.appendChild(docLink);\n",
              "        }\n",
              "      </script>\n",
              "    </div>\n",
              "  </div>\n",
              "  "
            ]
          },
          "metadata": {},
          "execution_count": 11
        }
      ]
    },
    {
      "cell_type": "code",
      "source": [
        "train.label.value_counts(), df.label.value_counts()"
      ],
      "metadata": {
        "colab": {
          "base_uri": "https://localhost:8080/"
        },
        "id": "LuvEqMWXY-Nx",
        "outputId": "0691b69e-0a49-4546-9e5f-75ae512a9511"
      },
      "id": "LuvEqMWXY-Nx",
      "execution_count": 12,
      "outputs": [
        {
          "output_type": "execute_result",
          "data": {
            "text/plain": [
              "(unrelated    175598\n",
              " agreed        74238\n",
              " disagreed      6606\n",
              " Name: label, dtype: int64,\n",
              " unrelated    175598\n",
              " agreed        74238\n",
              " disagreed      6606\n",
              " Name: label, dtype: int64)"
            ]
          },
          "metadata": {},
          "execution_count": 12
        }
      ]
    },
    {
      "cell_type": "code",
      "source": [
        "len(train)"
      ],
      "metadata": {
        "colab": {
          "base_uri": "https://localhost:8080/"
        },
        "id": "Fe-HuMKeyg0O",
        "outputId": "a477f639-6f2d-454e-e80f-c61a6bc11406"
      },
      "id": "Fe-HuMKeyg0O",
      "execution_count": 13,
      "outputs": [
        {
          "output_type": "execute_result",
          "data": {
            "text/plain": [
              "256442"
            ]
          },
          "metadata": {},
          "execution_count": 13
        }
      ]
    },
    {
      "cell_type": "code",
      "execution_count": 14,
      "id": "5983877e",
      "metadata": {
        "colab": {
          "base_uri": "https://localhost:8080/",
          "height": 337
        },
        "id": "5983877e",
        "outputId": "addb73a4-8069-4282-a977-aa9c0961c816"
      },
      "outputs": [
        {
          "output_type": "execute_result",
          "data": {
            "text/plain": [
              "                                                title1_en  \\\n",
              "104355              Homemade rat poison. One dead litter.   \n",
              "133170  By eating these five kinds of vegetables, you ...   \n",
              "221087  The Shenzhen Nailed Nailed Households Resume $...   \n",
              "135365  Wu Jing may face a compensation of 1 billion, ...   \n",
              "170183  Yin Xiangjie out of prison, invited Mandar to ...   \n",
              "\n",
              "                                                title2_en      label  \n",
              "104355  Homemade rat poison, one dead, one dead, all k...     agreed  \n",
              "133170  Zhang DaDa \"day\" upside down begging for growt...  unrelated  \n",
              "221087  Chengdu homebuyers can't buy a house with half...  unrelated  \n",
              "135365  With billions of dollars in compensation, Wuji...     agreed  \n",
              "170183  is xu qing 's current husband a gao bo? the fa...  unrelated  "
            ],
            "text/html": [
              "\n",
              "  <div id=\"df-b84139c0-c59b-4d67-94b5-37d87fef2b9e\">\n",
              "    <div class=\"colab-df-container\">\n",
              "      <div>\n",
              "<style scoped>\n",
              "    .dataframe tbody tr th:only-of-type {\n",
              "        vertical-align: middle;\n",
              "    }\n",
              "\n",
              "    .dataframe tbody tr th {\n",
              "        vertical-align: top;\n",
              "    }\n",
              "\n",
              "    .dataframe thead th {\n",
              "        text-align: right;\n",
              "    }\n",
              "</style>\n",
              "<table border=\"1\" class=\"dataframe\">\n",
              "  <thead>\n",
              "    <tr style=\"text-align: right;\">\n",
              "      <th></th>\n",
              "      <th>title1_en</th>\n",
              "      <th>title2_en</th>\n",
              "      <th>label</th>\n",
              "    </tr>\n",
              "  </thead>\n",
              "  <tbody>\n",
              "    <tr>\n",
              "      <th>104355</th>\n",
              "      <td>Homemade rat poison. One dead litter.</td>\n",
              "      <td>Homemade rat poison, one dead, one dead, all k...</td>\n",
              "      <td>agreed</td>\n",
              "    </tr>\n",
              "    <tr>\n",
              "      <th>133170</th>\n",
              "      <td>By eating these five kinds of vegetables, you ...</td>\n",
              "      <td>Zhang DaDa \"day\" upside down begging for growt...</td>\n",
              "      <td>unrelated</td>\n",
              "    </tr>\n",
              "    <tr>\n",
              "      <th>221087</th>\n",
              "      <td>The Shenzhen Nailed Nailed Households Resume $...</td>\n",
              "      <td>Chengdu homebuyers can't buy a house with half...</td>\n",
              "      <td>unrelated</td>\n",
              "    </tr>\n",
              "    <tr>\n",
              "      <th>135365</th>\n",
              "      <td>Wu Jing may face a compensation of 1 billion, ...</td>\n",
              "      <td>With billions of dollars in compensation, Wuji...</td>\n",
              "      <td>agreed</td>\n",
              "    </tr>\n",
              "    <tr>\n",
              "      <th>170183</th>\n",
              "      <td>Yin Xiangjie out of prison, invited Mandar to ...</td>\n",
              "      <td>is xu qing 's current husband a gao bo? the fa...</td>\n",
              "      <td>unrelated</td>\n",
              "    </tr>\n",
              "  </tbody>\n",
              "</table>\n",
              "</div>\n",
              "      <button class=\"colab-df-convert\" onclick=\"convertToInteractive('df-b84139c0-c59b-4d67-94b5-37d87fef2b9e')\"\n",
              "              title=\"Convert this dataframe to an interactive table.\"\n",
              "              style=\"display:none;\">\n",
              "        \n",
              "  <svg xmlns=\"http://www.w3.org/2000/svg\" height=\"24px\"viewBox=\"0 0 24 24\"\n",
              "       width=\"24px\">\n",
              "    <path d=\"M0 0h24v24H0V0z\" fill=\"none\"/>\n",
              "    <path d=\"M18.56 5.44l.94 2.06.94-2.06 2.06-.94-2.06-.94-.94-2.06-.94 2.06-2.06.94zm-11 1L8.5 8.5l.94-2.06 2.06-.94-2.06-.94L8.5 2.5l-.94 2.06-2.06.94zm10 10l.94 2.06.94-2.06 2.06-.94-2.06-.94-.94-2.06-.94 2.06-2.06.94z\"/><path d=\"M17.41 7.96l-1.37-1.37c-.4-.4-.92-.59-1.43-.59-.52 0-1.04.2-1.43.59L10.3 9.45l-7.72 7.72c-.78.78-.78 2.05 0 2.83L4 21.41c.39.39.9.59 1.41.59.51 0 1.02-.2 1.41-.59l7.78-7.78 2.81-2.81c.8-.78.8-2.07 0-2.86zM5.41 20L4 18.59l7.72-7.72 1.47 1.35L5.41 20z\"/>\n",
              "  </svg>\n",
              "      </button>\n",
              "      \n",
              "  <style>\n",
              "    .colab-df-container {\n",
              "      display:flex;\n",
              "      flex-wrap:wrap;\n",
              "      gap: 12px;\n",
              "    }\n",
              "\n",
              "    .colab-df-convert {\n",
              "      background-color: #E8F0FE;\n",
              "      border: none;\n",
              "      border-radius: 50%;\n",
              "      cursor: pointer;\n",
              "      display: none;\n",
              "      fill: #1967D2;\n",
              "      height: 32px;\n",
              "      padding: 0 0 0 0;\n",
              "      width: 32px;\n",
              "    }\n",
              "\n",
              "    .colab-df-convert:hover {\n",
              "      background-color: #E2EBFA;\n",
              "      box-shadow: 0px 1px 2px rgba(60, 64, 67, 0.3), 0px 1px 3px 1px rgba(60, 64, 67, 0.15);\n",
              "      fill: #174EA6;\n",
              "    }\n",
              "\n",
              "    [theme=dark] .colab-df-convert {\n",
              "      background-color: #3B4455;\n",
              "      fill: #D2E3FC;\n",
              "    }\n",
              "\n",
              "    [theme=dark] .colab-df-convert:hover {\n",
              "      background-color: #434B5C;\n",
              "      box-shadow: 0px 1px 3px 1px rgba(0, 0, 0, 0.15);\n",
              "      filter: drop-shadow(0px 1px 2px rgba(0, 0, 0, 0.3));\n",
              "      fill: #FFFFFF;\n",
              "    }\n",
              "  </style>\n",
              "\n",
              "      <script>\n",
              "        const buttonEl =\n",
              "          document.querySelector('#df-b84139c0-c59b-4d67-94b5-37d87fef2b9e button.colab-df-convert');\n",
              "        buttonEl.style.display =\n",
              "          google.colab.kernel.accessAllowed ? 'block' : 'none';\n",
              "\n",
              "        async function convertToInteractive(key) {\n",
              "          const element = document.querySelector('#df-b84139c0-c59b-4d67-94b5-37d87fef2b9e');\n",
              "          const dataTable =\n",
              "            await google.colab.kernel.invokeFunction('convertToInteractive',\n",
              "                                                     [key], {});\n",
              "          if (!dataTable) return;\n",
              "\n",
              "          const docLinkHtml = 'Like what you see? Visit the ' +\n",
              "            '<a target=\"_blank\" href=https://colab.research.google.com/notebooks/data_table.ipynb>data table notebook</a>'\n",
              "            + ' to learn more about interactive tables.';\n",
              "          element.innerHTML = '';\n",
              "          dataTable['output_type'] = 'display_data';\n",
              "          await google.colab.output.renderOutput(dataTable, element);\n",
              "          const docLink = document.createElement('div');\n",
              "          docLink.innerHTML = docLinkHtml;\n",
              "          element.appendChild(docLink);\n",
              "        }\n",
              "      </script>\n",
              "    </div>\n",
              "  </div>\n",
              "  "
            ]
          },
          "metadata": {},
          "execution_count": 14
        }
      ],
      "source": [
        "df.head()"
      ]
    },
    {
      "cell_type": "code",
      "execution_count": 15,
      "id": "ae07fdcf",
      "metadata": {
        "scrolled": true,
        "colab": {
          "base_uri": "https://localhost:8080/",
          "height": 337
        },
        "id": "ae07fdcf",
        "outputId": "e7cee9ac-63f8-408c-e50a-81dd1a2e27cc"
      },
      "outputs": [
        {
          "output_type": "execute_result",
          "data": {
            "text/plain": [
              "       id    tid1    tid2                                          title1_en  \\\n",
              "0  256442  100672  100673  The great coat brother Zhu Zhu Wen, in the man...   \n",
              "1  256443  162269  162270  NASA reveals facts about UFO wreckage found on...   \n",
              "2  256444  157826  157854      The hollow tomatoes are loaded with hormones.   \n",
              "3  256445  109579   74076  Ange Pavilion Geoshui: How accurate is Matrimo...   \n",
              "4  256446   15068   15085  A 50-year-old bus-bus blows up an 8-year-old c...   \n",
              "\n",
              "                                           title2_en  \n",
              "0  Lin xinsheng after the birth of \"hard milking,...  \n",
              "1  The UFO found in Yuancun, Jiaocheng County, Sh...  \n",
              "2  Li chenfan bingbing home photos, netizen: this...  \n",
              "3  Master one: the eight-character presumption of...  \n",
              "4  < i > Joe Johnson's disgruntled timing and ord...  "
            ],
            "text/html": [
              "\n",
              "  <div id=\"df-4cb35223-9166-4b23-aef8-a02881b4de1d\">\n",
              "    <div class=\"colab-df-container\">\n",
              "      <div>\n",
              "<style scoped>\n",
              "    .dataframe tbody tr th:only-of-type {\n",
              "        vertical-align: middle;\n",
              "    }\n",
              "\n",
              "    .dataframe tbody tr th {\n",
              "        vertical-align: top;\n",
              "    }\n",
              "\n",
              "    .dataframe thead th {\n",
              "        text-align: right;\n",
              "    }\n",
              "</style>\n",
              "<table border=\"1\" class=\"dataframe\">\n",
              "  <thead>\n",
              "    <tr style=\"text-align: right;\">\n",
              "      <th></th>\n",
              "      <th>id</th>\n",
              "      <th>tid1</th>\n",
              "      <th>tid2</th>\n",
              "      <th>title1_en</th>\n",
              "      <th>title2_en</th>\n",
              "    </tr>\n",
              "  </thead>\n",
              "  <tbody>\n",
              "    <tr>\n",
              "      <th>0</th>\n",
              "      <td>256442</td>\n",
              "      <td>100672</td>\n",
              "      <td>100673</td>\n",
              "      <td>The great coat brother Zhu Zhu Wen, in the man...</td>\n",
              "      <td>Lin xinsheng after the birth of \"hard milking,...</td>\n",
              "    </tr>\n",
              "    <tr>\n",
              "      <th>1</th>\n",
              "      <td>256443</td>\n",
              "      <td>162269</td>\n",
              "      <td>162270</td>\n",
              "      <td>NASA reveals facts about UFO wreckage found on...</td>\n",
              "      <td>The UFO found in Yuancun, Jiaocheng County, Sh...</td>\n",
              "    </tr>\n",
              "    <tr>\n",
              "      <th>2</th>\n",
              "      <td>256444</td>\n",
              "      <td>157826</td>\n",
              "      <td>157854</td>\n",
              "      <td>The hollow tomatoes are loaded with hormones.</td>\n",
              "      <td>Li chenfan bingbing home photos, netizen: this...</td>\n",
              "    </tr>\n",
              "    <tr>\n",
              "      <th>3</th>\n",
              "      <td>256445</td>\n",
              "      <td>109579</td>\n",
              "      <td>74076</td>\n",
              "      <td>Ange Pavilion Geoshui: How accurate is Matrimo...</td>\n",
              "      <td>Master one: the eight-character presumption of...</td>\n",
              "    </tr>\n",
              "    <tr>\n",
              "      <th>4</th>\n",
              "      <td>256446</td>\n",
              "      <td>15068</td>\n",
              "      <td>15085</td>\n",
              "      <td>A 50-year-old bus-bus blows up an 8-year-old c...</td>\n",
              "      <td>&lt; i &gt; Joe Johnson's disgruntled timing and ord...</td>\n",
              "    </tr>\n",
              "  </tbody>\n",
              "</table>\n",
              "</div>\n",
              "      <button class=\"colab-df-convert\" onclick=\"convertToInteractive('df-4cb35223-9166-4b23-aef8-a02881b4de1d')\"\n",
              "              title=\"Convert this dataframe to an interactive table.\"\n",
              "              style=\"display:none;\">\n",
              "        \n",
              "  <svg xmlns=\"http://www.w3.org/2000/svg\" height=\"24px\"viewBox=\"0 0 24 24\"\n",
              "       width=\"24px\">\n",
              "    <path d=\"M0 0h24v24H0V0z\" fill=\"none\"/>\n",
              "    <path d=\"M18.56 5.44l.94 2.06.94-2.06 2.06-.94-2.06-.94-.94-2.06-.94 2.06-2.06.94zm-11 1L8.5 8.5l.94-2.06 2.06-.94-2.06-.94L8.5 2.5l-.94 2.06-2.06.94zm10 10l.94 2.06.94-2.06 2.06-.94-2.06-.94-.94-2.06-.94 2.06-2.06.94z\"/><path d=\"M17.41 7.96l-1.37-1.37c-.4-.4-.92-.59-1.43-.59-.52 0-1.04.2-1.43.59L10.3 9.45l-7.72 7.72c-.78.78-.78 2.05 0 2.83L4 21.41c.39.39.9.59 1.41.59.51 0 1.02-.2 1.41-.59l7.78-7.78 2.81-2.81c.8-.78.8-2.07 0-2.86zM5.41 20L4 18.59l7.72-7.72 1.47 1.35L5.41 20z\"/>\n",
              "  </svg>\n",
              "      </button>\n",
              "      \n",
              "  <style>\n",
              "    .colab-df-container {\n",
              "      display:flex;\n",
              "      flex-wrap:wrap;\n",
              "      gap: 12px;\n",
              "    }\n",
              "\n",
              "    .colab-df-convert {\n",
              "      background-color: #E8F0FE;\n",
              "      border: none;\n",
              "      border-radius: 50%;\n",
              "      cursor: pointer;\n",
              "      display: none;\n",
              "      fill: #1967D2;\n",
              "      height: 32px;\n",
              "      padding: 0 0 0 0;\n",
              "      width: 32px;\n",
              "    }\n",
              "\n",
              "    .colab-df-convert:hover {\n",
              "      background-color: #E2EBFA;\n",
              "      box-shadow: 0px 1px 2px rgba(60, 64, 67, 0.3), 0px 1px 3px 1px rgba(60, 64, 67, 0.15);\n",
              "      fill: #174EA6;\n",
              "    }\n",
              "\n",
              "    [theme=dark] .colab-df-convert {\n",
              "      background-color: #3B4455;\n",
              "      fill: #D2E3FC;\n",
              "    }\n",
              "\n",
              "    [theme=dark] .colab-df-convert:hover {\n",
              "      background-color: #434B5C;\n",
              "      box-shadow: 0px 1px 3px 1px rgba(0, 0, 0, 0.15);\n",
              "      filter: drop-shadow(0px 1px 2px rgba(0, 0, 0, 0.3));\n",
              "      fill: #FFFFFF;\n",
              "    }\n",
              "  </style>\n",
              "\n",
              "      <script>\n",
              "        const buttonEl =\n",
              "          document.querySelector('#df-4cb35223-9166-4b23-aef8-a02881b4de1d button.colab-df-convert');\n",
              "        buttonEl.style.display =\n",
              "          google.colab.kernel.accessAllowed ? 'block' : 'none';\n",
              "\n",
              "        async function convertToInteractive(key) {\n",
              "          const element = document.querySelector('#df-4cb35223-9166-4b23-aef8-a02881b4de1d');\n",
              "          const dataTable =\n",
              "            await google.colab.kernel.invokeFunction('convertToInteractive',\n",
              "                                                     [key], {});\n",
              "          if (!dataTable) return;\n",
              "\n",
              "          const docLinkHtml = 'Like what you see? Visit the ' +\n",
              "            '<a target=\"_blank\" href=https://colab.research.google.com/notebooks/data_table.ipynb>data table notebook</a>'\n",
              "            + ' to learn more about interactive tables.';\n",
              "          element.innerHTML = '';\n",
              "          dataTable['output_type'] = 'display_data';\n",
              "          await google.colab.output.renderOutput(dataTable, element);\n",
              "          const docLink = document.createElement('div');\n",
              "          docLink.innerHTML = docLinkHtml;\n",
              "          element.appendChild(docLink);\n",
              "        }\n",
              "      </script>\n",
              "    </div>\n",
              "  </div>\n",
              "  "
            ]
          },
          "metadata": {},
          "execution_count": 15
        }
      ],
      "source": [
        "test.head()"
      ]
    },
    {
      "cell_type": "code",
      "execution_count": 16,
      "id": "90db2bf9",
      "metadata": {
        "scrolled": true,
        "colab": {
          "base_uri": "https://localhost:8080/"
        },
        "id": "90db2bf9",
        "outputId": "f1b59ac0-61c3-4c25-8cc7-17cc5d4d2cb9"
      },
      "outputs": [
        {
          "output_type": "execute_result",
          "data": {
            "text/plain": [
              "(title1_en    0\n",
              " title2_en    0\n",
              " label        0\n",
              " dtype: int64,\n",
              " id           0\n",
              " tid1         0\n",
              " tid2         0\n",
              " title1_en    0\n",
              " title2_en    0\n",
              " dtype: int64)"
            ]
          },
          "metadata": {},
          "execution_count": 16
        }
      ],
      "source": [
        "df.isnull().sum(), test.isnull().sum()"
      ]
    },
    {
      "cell_type": "markdown",
      "id": "871e0477",
      "metadata": {
        "id": "871e0477"
      },
      "source": [
        "#### There are no missing values"
      ]
    },
    {
      "cell_type": "code",
      "execution_count": 17,
      "id": "1c0e965b",
      "metadata": {
        "colab": {
          "base_uri": "https://localhost:8080/"
        },
        "id": "1c0e965b",
        "outputId": "d0406b17-50cc-4894-ab7c-687d03995b02"
      },
      "outputs": [
        {
          "output_type": "execute_result",
          "data": {
            "text/plain": [
              "array(['agreed', 'unrelated', 'disagreed'], dtype=object)"
            ]
          },
          "metadata": {},
          "execution_count": 17
        }
      ],
      "source": [
        "df['label'].unique()"
      ]
    },
    {
      "cell_type": "code",
      "execution_count": 18,
      "id": "37a83169",
      "metadata": {
        "colab": {
          "base_uri": "https://localhost:8080/",
          "height": 497
        },
        "id": "37a83169",
        "outputId": "23d5d56b-84b9-4e4e-ae58-f0861a67b2c3"
      },
      "outputs": [
        {
          "output_type": "execute_result",
          "data": {
            "text/plain": [
              "Text(0.5, 0, 'Labels')"
            ]
          },
          "metadata": {},
          "execution_count": 18
        },
        {
          "output_type": "display_data",
          "data": {
            "text/plain": [
              "<Figure size 640x480 with 1 Axes>"
            ],
            "image/png": "[encoded data removed]"
          },
          "metadata": {}
        }
      ],
      "source": [
        "sns.countplot(x=df['label'])\n",
        "plt.title(\"Label Count\")\n",
        "plt.xlabel(\"Labels\")"
      ]
    },
    {
      "cell_type": "code",
      "source": [
        "!pip install nlpaug"
      ],
      "metadata": {
        "colab": {
          "base_uri": "https://localhost:8080/"
        },
        "id": "b-flKSAS0Djb",
        "outputId": "62e1d72a-2908-4f7b-d5ad-16b2195022c5"
      },
      "id": "b-flKSAS0Djb",
      "execution_count": 19,
      "outputs": [
        {
          "output_type": "stream",
          "name": "stdout",
          "text": [
            "Looking in indexes: https://pypi.org/simple, https://us-python.pkg.dev/colab-wheels/public/simple/\n",
            "Collecting nlpaug\n",
            "  Downloading nlpaug-1.1.11-py3-none-any.whl (410 kB)\n",
            "\u001b[2K     \u001b[90m━━━━━━━━━━━━━━━━━━━━━━━━━━━━━━━━━━━━━━\u001b[0m \u001b[32m410.5/410.5 kB\u001b[0m \u001b[31m21.7 MB/s\u001b[0m eta \u001b[36m0:00:00\u001b[0m\n",
            "\u001b[?25hRequirement already satisfied: requests>=2.22.0 in /usr/local/lib/python3.9/dist-packages (from nlpaug) (2.27.1)\n",
            "Requirement already satisfied: gdown>=4.0.0 in /usr/local/lib/python3.9/dist-packages (from nlpaug) (4.6.6)\n",
            "Requirement already satisfied: pandas>=1.2.0 in /usr/local/lib/python3.9/dist-packages (from nlpaug) (1.5.3)\n",
            "Requirement already satisfied: numpy>=1.16.2 in /usr/local/lib/python3.9/dist-packages (from nlpaug) (1.22.4)\n",
            "Requirement already satisfied: filelock in /usr/local/lib/python3.9/dist-packages (from gdown>=4.0.0->nlpaug) (3.11.0)\n",
            "Requirement already satisfied: beautifulsoup4 in /usr/local/lib/python3.9/dist-packages (from gdown>=4.0.0->nlpaug) (4.11.2)\n",
            "Requirement already satisfied: tqdm in /usr/local/lib/python3.9/dist-packages (from gdown>=4.0.0->nlpaug) (4.65.0)\n",
            "Requirement already satisfied: six in /usr/local/lib/python3.9/dist-packages (from gdown>=4.0.0->nlpaug) (1.16.0)\n",
            "Requirement already satisfied: pytz>=2020.1 in /usr/local/lib/python3.9/dist-packages (from pandas>=1.2.0->nlpaug) (2022.7.1)\n",
            "Requirement already satisfied: python-dateutil>=2.8.1 in /usr/local/lib/python3.9/dist-packages (from pandas>=1.2.0->nlpaug) (2.8.2)\n",
            "Requirement already satisfied: urllib3<1.27,>=1.21.1 in /usr/local/lib/python3.9/dist-packages (from requests>=2.22.0->nlpaug) (1.26.15)\n",
            "Requirement already satisfied: certifi>=2017.4.17 in /usr/local/lib/python3.9/dist-packages (from requests>=2.22.0->nlpaug) (2022.12.7)\n",
            "Requirement already satisfied: charset-normalizer~=2.0.0 in /usr/local/lib/python3.9/dist-packages (from requests>=2.22.0->nlpaug) (2.0.12)\n",
            "Requirement already satisfied: idna<4,>=2.5 in /usr/local/lib/python3.9/dist-packages (from requests>=2.22.0->nlpaug) (3.4)\n",
            "Requirement already satisfied: soupsieve>1.2 in /usr/local/lib/python3.9/dist-packages (from beautifulsoup4->gdown>=4.0.0->nlpaug) (2.4.1)\n",
            "Requirement already satisfied: PySocks!=1.5.7,>=1.5.6 in /usr/local/lib/python3.9/dist-packages (from requests>=2.22.0->nlpaug) (1.7.1)\n",
            "Installing collected packages: nlpaug\n",
            "Successfully installed nlpaug-1.1.11\n"
          ]
        }
      ]
    },
    {
      "cell_type": "code",
      "source": [
        "import nlpaug.augmenter.word as naw\n",
        "syn_aug = naw.SynonymAug(aug_p=0.3, aug_max=1)"
      ],
      "metadata": {
        "id": "8ath991K0Qs4",
        "colab": {
          "base_uri": "https://localhost:8080/"
        },
        "outputId": "87417cdf-66a3-468d-ee1b-a00794a35d76"
      },
      "id": "8ath991K0Qs4",
      "execution_count": 20,
      "outputs": [
        {
          "output_type": "stream",
          "name": "stderr",
          "text": [
            "[nltk_data] Downloading package wordnet to /root/nltk_data...\n",
            "[nltk_data] Downloading package omw-1.4 to /root/nltk_data...\n"
          ]
        }
      ]
    },
    {
      "cell_type": "code",
      "source": [
        "disagreed_train = train[train.label=='disagreed']\n",
        "curr = []\n",
        "for i, s in enumerate(disagreed_train.iloc[:, 0]):\n",
        "    l = []\n",
        "    mod_sentence = syn_aug.augment(s, n=1)[0]\n",
        "    if mod_sentence != disagreed_train.iloc[i, 0]:\n",
        "        l.append(mod_sentence)\n",
        "        l.append(disagreed_train.iloc[i, 1])\n",
        "        l.append(disagreed_train.iloc[i, 2])\n",
        "        curr.append(l)\n",
        "\n",
        "\n",
        "for i, s in enumerate(disagreed_train.iloc[:, 0]):\n",
        "    l = []\n",
        "    mod_sentence1 = syn_aug.augment(s, n=1)[0]\n",
        "    mod_sentence2 = syn_aug.augment(disagreed_train.iloc[i, 1], n=1)[0]\n",
        "    if mod_sentence1 != disagreed_train.iloc[i, 0] and mod_sentence2 != disagreed_train.iloc[i, 1]:\n",
        "        l.append(mod_sentence1)\n",
        "        l.append(mod_sentence2)\n",
        "        l.append(disagreed_train.iloc[i, 2])\n",
        "        curr.append(l)\n",
        "\n",
        "for i, s in enumerate(disagreed_train.iloc[:, 1]):\n",
        "    l = []\n",
        "    mod_sentence = syn_aug.augment(s, n=1)[0]\n",
        "    if mod_sentence != disagreed_train.iloc[i, 1]:\n",
        "        l.append(disagreed_train.iloc[i, 0])\n",
        "        l.append(mod_sentence)\n",
        "        l.append(disagreed_train.iloc[i, 2])\n",
        "        curr.append(l)\n"
      ],
      "metadata": {
        "id": "Bg3zOMTD0WKX"
      },
      "id": "Bg3zOMTD0WKX",
      "execution_count": 22,
      "outputs": []
    },
    {
      "cell_type": "code",
      "source": [
        "len(curr), len(disagreed_train)"
      ],
      "metadata": {
        "colab": {
          "base_uri": "https://localhost:8080/"
        },
        "id": "GQcodSol0qXE",
        "outputId": "4e2761f4-696d-4f56-c9ce-75cf428c17e5"
      },
      "id": "GQcodSol0qXE",
      "execution_count": 23,
      "outputs": [
        {
          "output_type": "execute_result",
          "data": {
            "text/plain": [
              "(16090, 6606)"
            ]
          },
          "metadata": {},
          "execution_count": 23
        }
      ]
    },
    {
      "cell_type": "code",
      "source": [
        "syn_aug = naw.SynonymAug(aug_p=0.3, aug_max=3)"
      ],
      "metadata": {
        "id": "g_uXuvDr0vKi"
      },
      "id": "g_uXuvDr0vKi",
      "execution_count": 24,
      "outputs": []
    },
    {
      "cell_type": "code",
      "source": [
        "for i, s in enumerate(disagreed_train.iloc[:, 0]):\n",
        "    l = []\n",
        "    mod_sentence = syn_aug.augment(s, n=1)[0]\n",
        "    if mod_sentence != disagreed_train.iloc[i, 0]:\n",
        "        l.append(mod_sentence)\n",
        "        l.append(disagreed_train.iloc[i, 1])\n",
        "        l.append(disagreed_train.iloc[i, 2])\n",
        "        curr.append(l)\n",
        "\n",
        "for i, s in enumerate(disagreed_train.iloc[:, 0]):\n",
        "    l = []\n",
        "    mod_sentence1 = syn_aug.augment(s, n=1)[0]\n",
        "    mod_sentence2 = syn_aug.augment(disagreed_train.iloc[i, 1], n=1)[0]\n",
        "    if mod_sentence1 != disagreed_train.iloc[i, 0] and mod_sentence2 != disagreed_train.iloc[i, 1]:\n",
        "        l.append(mod_sentence1)\n",
        "        l.append(mod_sentence2)\n",
        "        l.append(disagreed_train.iloc[i, 2])\n",
        "        curr.append(l)\n",
        "\n",
        "for i, s in enumerate(disagreed_train.iloc[:, 1]):\n",
        "    l = []\n",
        "    mod_sentence = syn_aug.augment(s, n=1)[0]\n",
        "    if mod_sentence != disagreed_train.iloc[i, 1]:\n",
        "        l.append(disagreed_train.iloc[i, 0])\n",
        "        l.append(mod_sentence)\n",
        "        l.append(disagreed_train.iloc[i, 2])\n",
        "        curr.append(l)"
      ],
      "metadata": {
        "id": "pBAVt0gL0yWt"
      },
      "id": "pBAVt0gL0yWt",
      "execution_count": 25,
      "outputs": []
    },
    {
      "cell_type": "code",
      "source": [
        "len(curr)"
      ],
      "metadata": {
        "colab": {
          "base_uri": "https://localhost:8080/"
        },
        "id": "23SA-IS00050",
        "outputId": "2d49018c-174e-4d4e-c805-509f9a2d743d"
      },
      "id": "23SA-IS00050",
      "execution_count": 26,
      "outputs": [
        {
          "output_type": "execute_result",
          "data": {
            "text/plain": [
              "35540"
            ]
          },
          "metadata": {},
          "execution_count": 26
        }
      ]
    },
    {
      "cell_type": "code",
      "source": [
        "curr = np.array(curr)"
      ],
      "metadata": {
        "id": "UUvHbBni1bfo"
      },
      "id": "UUvHbBni1bfo",
      "execution_count": 27,
      "outputs": []
    },
    {
      "cell_type": "code",
      "source": [
        "AGREED_COUNT = train['label'].value_counts()[1]\n",
        "unrelated_train = train[train.label=='unrelated']\n",
        "agreed_train = train[train.label=='agreed']\n",
        "disagreed_train = train[train.label=='disagreed']\n",
        "additional_data = pd.DataFrame(data=curr, columns=['title1_en', 'title2_en', 'label'])\n",
        "train = pd.concat([unrelated_train, agreed_train, disagreed_train, additional_data], axis=0)"
      ],
      "metadata": {
        "id": "Y146zpCzabJb"
      },
      "id": "Y146zpCzabJb",
      "execution_count": 28,
      "outputs": []
    },
    {
      "cell_type": "code",
      "source": [
        "train = train.sample(frac=1, random_state=47)"
      ],
      "metadata": {
        "id": "3WpulQKha1kz"
      },
      "id": "3WpulQKha1kz",
      "execution_count": 29,
      "outputs": []
    },
    {
      "cell_type": "code",
      "source": [
        "train.columns"
      ],
      "metadata": {
        "colab": {
          "base_uri": "https://localhost:8080/"
        },
        "id": "ks-DpUFKag_y",
        "outputId": "813dd219-cdd2-486e-9d43-a785161d76bf"
      },
      "id": "ks-DpUFKag_y",
      "execution_count": 30,
      "outputs": [
        {
          "output_type": "execute_result",
          "data": {
            "text/plain": [
              "Index(['title1_en', 'title2_en', 'label'], dtype='object')"
            ]
          },
          "metadata": {},
          "execution_count": 30
        }
      ]
    },
    {
      "cell_type": "code",
      "source": [
        "sns.countplot(x=train['label'])\n",
        "plt.title(\"Label Count\")\n",
        "plt.xlabel(\"Labels\")"
      ],
      "metadata": {
        "colab": {
          "base_uri": "https://localhost:8080/",
          "height": 497
        },
        "id": "EnIx9U5JbYgC",
        "outputId": "ff346dd1-fd29-4aa8-ece7-33a71e694632"
      },
      "id": "EnIx9U5JbYgC",
      "execution_count": 31,
      "outputs": [
        {
          "output_type": "execute_result",
          "data": {
            "text/plain": [
              "Text(0.5, 0, 'Labels')"
            ]
          },
          "metadata": {},
          "execution_count": 31
        },
        {
          "output_type": "display_data",
          "data": {
            "text/plain": [
              "<Figure size 640x480 with 1 Axes>"
            ],
            "image/png": "[encoded data removed]"
          },
          "metadata": {}
        }
      ]
    },
    {
      "cell_type": "code",
      "source": [
        "train['label'] = train['label'].map({'unrelated':0, 'agreed':1, 'disagreed':2}).astype(np.uint8)\n",
        "train.label.unique()"
      ],
      "metadata": {
        "colab": {
          "base_uri": "https://localhost:8080/"
        },
        "id": "uCsoxgzl6HK0",
        "outputId": "605d17c1-1aff-4914-c39e-73d27fd0f147"
      },
      "id": "uCsoxgzl6HK0",
      "execution_count": 32,
      "outputs": [
        {
          "output_type": "execute_result",
          "data": {
            "text/plain": [
              "array([2, 0, 1], dtype=uint8)"
            ]
          },
          "metadata": {},
          "execution_count": 32
        }
      ]
    },
    {
      "cell_type": "code",
      "source": [
        "train['label'].value_counts()"
      ],
      "metadata": {
        "colab": {
          "base_uri": "https://localhost:8080/"
        },
        "id": "Xc4LH4Y-ne7n",
        "outputId": "747934fe-8409-405d-cfbb-8eb287cb71d8"
      },
      "id": "Xc4LH4Y-ne7n",
      "execution_count": 33,
      "outputs": [
        {
          "output_type": "execute_result",
          "data": {
            "text/plain": [
              "0    175598\n",
              "1     74238\n",
              "2     42146\n",
              "Name: label, dtype: int64"
            ]
          },
          "metadata": {},
          "execution_count": 33
        }
      ]
    },
    {
      "cell_type": "code",
      "source": [
        "train.head()"
      ],
      "metadata": {
        "colab": {
          "base_uri": "https://localhost:8080/",
          "height": 337
        },
        "id": "4JIndm8KaICg",
        "outputId": "d0ad88b7-bf8d-4bcd-d019-c1a3192ea26a"
      },
      "id": "4JIndm8KaICg",
      "execution_count": 34,
      "outputs": [
        {
          "output_type": "execute_result",
          "data": {
            "text/plain": [
              "                                                title1_en  \\\n",
              "1383    It turns out Ma Huateng ' second daughter Ma M...   \n",
              "117507  Netflix fly-by-plane fly-in-the-mud-moths-Urum...   \n",
              "156419  Women on the subway do not give a seat to the ...   \n",
              "239056     A magic grass, cure uncle's diabetes mellitus!   \n",
              "192827  The photographer adventured to explore Fan Che...   \n",
              "\n",
              "                                                title2_en  label  \n",
              "1383    Ma Huateng tells the rumour that Wang Zhong pu...      2  \n",
              "117507        - Texas Airplanes for Moths? - MLA: Rumors.      0  \n",
              "156419  A man gives a seat to a pregnant woman, and a ...      0  \n",
              "239056  You know what? Here comes Diabetic Friendship....      1  \n",
              "192827  New traffic rules are to be implemented from N...      0  "
            ],
            "text/html": [
              "\n",
              "  <div id=\"df-f4719767-f384-4b18-849b-fc46769f3335\">\n",
              "    <div class=\"colab-df-container\">\n",
              "      <div>\n",
              "<style scoped>\n",
              "    .dataframe tbody tr th:only-of-type {\n",
              "        vertical-align: middle;\n",
              "    }\n",
              "\n",
              "    .dataframe tbody tr th {\n",
              "        vertical-align: top;\n",
              "    }\n",
              "\n",
              "    .dataframe thead th {\n",
              "        text-align: right;\n",
              "    }\n",
              "</style>\n",
              "<table border=\"1\" class=\"dataframe\">\n",
              "  <thead>\n",
              "    <tr style=\"text-align: right;\">\n",
              "      <th></th>\n",
              "      <th>title1_en</th>\n",
              "      <th>title2_en</th>\n",
              "      <th>label</th>\n",
              "    </tr>\n",
              "  </thead>\n",
              "  <tbody>\n",
              "    <tr>\n",
              "      <th>1383</th>\n",
              "      <td>It turns out Ma Huateng ' second daughter Ma M...</td>\n",
              "      <td>Ma Huateng tells the rumour that Wang Zhong pu...</td>\n",
              "      <td>2</td>\n",
              "    </tr>\n",
              "    <tr>\n",
              "      <th>117507</th>\n",
              "      <td>Netflix fly-by-plane fly-in-the-mud-moths-Urum...</td>\n",
              "      <td>- Texas Airplanes for Moths? - MLA: Rumors.</td>\n",
              "      <td>0</td>\n",
              "    </tr>\n",
              "    <tr>\n",
              "      <th>156419</th>\n",
              "      <td>Women on the subway do not give a seat to the ...</td>\n",
              "      <td>A man gives a seat to a pregnant woman, and a ...</td>\n",
              "      <td>0</td>\n",
              "    </tr>\n",
              "    <tr>\n",
              "      <th>239056</th>\n",
              "      <td>A magic grass, cure uncle's diabetes mellitus!</td>\n",
              "      <td>You know what? Here comes Diabetic Friendship....</td>\n",
              "      <td>1</td>\n",
              "    </tr>\n",
              "    <tr>\n",
              "      <th>192827</th>\n",
              "      <td>The photographer adventured to explore Fan Che...</td>\n",
              "      <td>New traffic rules are to be implemented from N...</td>\n",
              "      <td>0</td>\n",
              "    </tr>\n",
              "  </tbody>\n",
              "</table>\n",
              "</div>\n",
              "      <button class=\"colab-df-convert\" onclick=\"convertToInteractive('df-f4719767-f384-4b18-849b-fc46769f3335')\"\n",
              "              title=\"Convert this dataframe to an interactive table.\"\n",
              "              style=\"display:none;\">\n",
              "        \n",
              "  <svg xmlns=\"http://www.w3.org/2000/svg\" height=\"24px\"viewBox=\"0 0 24 24\"\n",
              "       width=\"24px\">\n",
              "    <path d=\"M0 0h24v24H0V0z\" fill=\"none\"/>\n",
              "    <path d=\"M18.56 5.44l.94 2.06.94-2.06 2.06-.94-2.06-.94-.94-2.06-.94 2.06-2.06.94zm-11 1L8.5 8.5l.94-2.06 2.06-.94-2.06-.94L8.5 2.5l-.94 2.06-2.06.94zm10 10l.94 2.06.94-2.06 2.06-.94-2.06-.94-.94-2.06-.94 2.06-2.06.94z\"/><path d=\"M17.41 7.96l-1.37-1.37c-.4-.4-.92-.59-1.43-.59-.52 0-1.04.2-1.43.59L10.3 9.45l-7.72 7.72c-.78.78-.78 2.05 0 2.83L4 21.41c.39.39.9.59 1.41.59.51 0 1.02-.2 1.41-.59l7.78-7.78 2.81-2.81c.8-.78.8-2.07 0-2.86zM5.41 20L4 18.59l7.72-7.72 1.47 1.35L5.41 20z\"/>\n",
              "  </svg>\n",
              "      </button>\n",
              "      \n",
              "  <style>\n",
              "    .colab-df-container {\n",
              "      display:flex;\n",
              "      flex-wrap:wrap;\n",
              "      gap: 12px;\n",
              "    }\n",
              "\n",
              "    .colab-df-convert {\n",
              "      background-color: #E8F0FE;\n",
              "      border: none;\n",
              "      border-radius: 50%;\n",
              "      cursor: pointer;\n",
              "      display: none;\n",
              "      fill: #1967D2;\n",
              "      height: 32px;\n",
              "      padding: 0 0 0 0;\n",
              "      width: 32px;\n",
              "    }\n",
              "\n",
              "    .colab-df-convert:hover {\n",
              "      background-color: #E2EBFA;\n",
              "      box-shadow: 0px 1px 2px rgba(60, 64, 67, 0.3), 0px 1px 3px 1px rgba(60, 64, 67, 0.15);\n",
              "      fill: #174EA6;\n",
              "    }\n",
              "\n",
              "    [theme=dark] .colab-df-convert {\n",
              "      background-color: #3B4455;\n",
              "      fill: #D2E3FC;\n",
              "    }\n",
              "\n",
              "    [theme=dark] .colab-df-convert:hover {\n",
              "      background-color: #434B5C;\n",
              "      box-shadow: 0px 1px 3px 1px rgba(0, 0, 0, 0.15);\n",
              "      filter: drop-shadow(0px 1px 2px rgba(0, 0, 0, 0.3));\n",
              "      fill: #FFFFFF;\n",
              "    }\n",
              "  </style>\n",
              "\n",
              "      <script>\n",
              "        const buttonEl =\n",
              "          document.querySelector('#df-f4719767-f384-4b18-849b-fc46769f3335 button.colab-df-convert');\n",
              "        buttonEl.style.display =\n",
              "          google.colab.kernel.accessAllowed ? 'block' : 'none';\n",
              "\n",
              "        async function convertToInteractive(key) {\n",
              "          const element = document.querySelector('#df-f4719767-f384-4b18-849b-fc46769f3335');\n",
              "          const dataTable =\n",
              "            await google.colab.kernel.invokeFunction('convertToInteractive',\n",
              "                                                     [key], {});\n",
              "          if (!dataTable) return;\n",
              "\n",
              "          const docLinkHtml = 'Like what you see? Visit the ' +\n",
              "            '<a target=\"_blank\" href=https://colab.research.google.com/notebooks/data_table.ipynb>data table notebook</a>'\n",
              "            + ' to learn more about interactive tables.';\n",
              "          element.innerHTML = '';\n",
              "          dataTable['output_type'] = 'display_data';\n",
              "          await google.colab.output.renderOutput(dataTable, element);\n",
              "          const docLink = document.createElement('div');\n",
              "          docLink.innerHTML = docLinkHtml;\n",
              "          element.appendChild(docLink);\n",
              "        }\n",
              "      </script>\n",
              "    </div>\n",
              "  </div>\n",
              "  "
            ]
          },
          "metadata": {},
          "execution_count": 34
        }
      ]
    },
    {
      "cell_type": "code",
      "source": [
        "train['label'].value_counts()"
      ],
      "metadata": {
        "colab": {
          "base_uri": "https://localhost:8080/"
        },
        "id": "xsaaXXTweTUe",
        "outputId": "09b01336-f88d-4875-a2a4-4b40034a4d0a"
      },
      "id": "xsaaXXTweTUe",
      "execution_count": 35,
      "outputs": [
        {
          "output_type": "execute_result",
          "data": {
            "text/plain": [
              "0    175598\n",
              "1     74238\n",
              "2     42146\n",
              "Name: label, dtype: int64"
            ]
          },
          "metadata": {},
          "execution_count": 35
        }
      ]
    },
    {
      "cell_type": "code",
      "source": [
        "train.to_csv('augmented_train.csv')"
      ],
      "metadata": {
        "id": "fGJoW7J6gKhs"
      },
      "id": "fGJoW7J6gKhs",
      "execution_count": 36,
      "outputs": []
    }
  ],
  "metadata": {
    "kernelspec": {
      "display_name": "Python 3 (ipykernel)",
      "language": "python",
      "name": "python3"
    },
    "language_info": {
      "codemirror_mode": {
        "name": "ipython",
        "version": 3
      },
      "file_extension": ".py",
      "mimetype": "text/x-python",
      "name": "python",
      "nbconvert_exporter": "python",
      "pygments_lexer": "ipython3",
      "version": "3.8.5"
    },
    "colab": {
      "provenance": []
    },
    "accelerator": "GPU",
    "gpuClass": "premium"
  },
  "nbformat": 4,
  "nbformat_minor": 5
}